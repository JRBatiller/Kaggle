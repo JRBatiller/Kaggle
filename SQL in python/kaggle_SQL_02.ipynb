{
  "cells": [
    {
      "metadata": {
        "_uuid": "4ca5cee2ed7752888cac4db27102539e5cf90284"
      },
      "cell_type": "markdown",
      "source": "**[SQL Micro-Course Home Page](https://www.kaggle.com/learn/SQL)**\n\n---\n"
    },
    {
      "metadata": {
        "_uuid": "46861144eb6930991cb64fbcb4004b6ca5727632"
      },
      "cell_type": "markdown",
      "source": "# Intro\n\nTry some **SELECT** statements of your own to see if you can answer the questions from a large dataset of air pollution measurements.\n\nAgain, run the cell below to set everything up."
    },
    {
      "metadata": {
        "_uuid": "da8598d7c5cddea7074f99cf5bc21f3edf5dd340",
        "trusted": true
      },
      "cell_type": "code",
      "source": "# Set up feedack system\nfrom learntools.core import binder\nbinder.bind(globals())\nfrom learntools.sql.ex2 import *\n\n# import package with helper functions \nimport bq_helper\n\n# create a helper object for this dataset\nopen_aq = bq_helper.BigQueryHelper(active_project=\"bigquery-public-data\",\n                                   dataset_name=\"openaq\")\n\nprint(\"Setup Complete\")\n\n# print list of tables in this dataset (there's only one!)\nprint('Tables list: {}'.format(open_aq.list_tables()))\n\n# print look at top few rows\nopen_aq.head('global_air_quality')\n",
      "execution_count": 13,
      "outputs": [
        {
          "output_type": "stream",
          "text": "WARNING:root:Ignoring repeated attempt to bind to globals\n",
          "name": "stderr"
        },
        {
          "output_type": "stream",
          "text": "Using Kaggle's public dataset BigQuery integration.\nSetup Complete\nTables list: ['global_air_quality']\n",
          "name": "stdout"
        },
        {
          "output_type": "execute_result",
          "execution_count": 13,
          "data": {
            "text/plain": "             location          ...           averaged_over_in_hours\n0        Plain_Mobile          ...                              1.0\n1     Cle Elum_Mobile          ...                              1.0\n2  Leavenworth_Mobile          ...                              1.0\n3     Mobile_Cle Elum          ...                              1.0\n4  Mobile_WhiteSalmon          ...                              1.0\n\n[5 rows x 11 columns]",
            "text/html": "<div>\n<style scoped>\n    .dataframe tbody tr th:only-of-type {\n        vertical-align: middle;\n    }\n\n    .dataframe tbody tr th {\n        vertical-align: top;\n    }\n\n    .dataframe thead th {\n        text-align: right;\n    }\n</style>\n<table border=\"1\" class=\"dataframe\">\n  <thead>\n    <tr style=\"text-align: right;\">\n      <th></th>\n      <th>location</th>\n      <th>city</th>\n      <th>country</th>\n      <th>pollutant</th>\n      <th>value</th>\n      <th>timestamp</th>\n      <th>unit</th>\n      <th>source_name</th>\n      <th>latitude</th>\n      <th>longitude</th>\n      <th>averaged_over_in_hours</th>\n    </tr>\n  </thead>\n  <tbody>\n    <tr>\n      <th>0</th>\n      <td>Plain_Mobile</td>\n      <td>007</td>\n      <td>US</td>\n      <td>pm25</td>\n      <td>0.0</td>\n      <td>2018-11-09 23:00:00+00:00</td>\n      <td>µg/m³</td>\n      <td>AirNow</td>\n      <td>47.768610</td>\n      <td>-120.66445</td>\n      <td>1.0</td>\n    </tr>\n    <tr>\n      <th>1</th>\n      <td>Cle Elum_Mobile</td>\n      <td>007</td>\n      <td>US</td>\n      <td>pm25</td>\n      <td>0.0</td>\n      <td>2018-08-17 22:00:00+00:00</td>\n      <td>µg/m³</td>\n      <td>AirNow</td>\n      <td>47.197544</td>\n      <td>-120.95823</td>\n      <td>1.0</td>\n    </tr>\n    <tr>\n      <th>2</th>\n      <td>Leavenworth_Mobile</td>\n      <td>007</td>\n      <td>US</td>\n      <td>pm25</td>\n      <td>10.0</td>\n      <td>2018-11-09 19:00:00+00:00</td>\n      <td>µg/m³</td>\n      <td>AirNow</td>\n      <td>47.558570</td>\n      <td>-120.67267</td>\n      <td>1.0</td>\n    </tr>\n    <tr>\n      <th>3</th>\n      <td>Mobile_Cle Elum</td>\n      <td>037</td>\n      <td>US</td>\n      <td>pm25</td>\n      <td>62.0</td>\n      <td>2018-08-21 13:00:00+00:00</td>\n      <td>µg/m³</td>\n      <td>AirNow</td>\n      <td>47.197598</td>\n      <td>-120.95827</td>\n      <td>1.0</td>\n    </tr>\n    <tr>\n      <th>4</th>\n      <td>Mobile_WhiteSalmon</td>\n      <td>039</td>\n      <td>US</td>\n      <td>pm25</td>\n      <td>58.0</td>\n      <td>2018-08-08 11:00:00+00:00</td>\n      <td>µg/m³</td>\n      <td>AirNow</td>\n      <td>48.186474</td>\n      <td>-117.04903</td>\n      <td>1.0</td>\n    </tr>\n  </tbody>\n</table>\n</div>"
          },
          "metadata": {}
        }
      ]
    },
    {
      "metadata": {
        "_uuid": "70114e521d7d27a94d46bd59b93d35d3d7235324"
      },
      "cell_type": "markdown",
      "source": "Now you'll write and run the code to answer the questions below."
    },
    {
      "metadata": {
        "_uuid": "a00886172ac0c42bb2e85773a94d1a5388be6d72"
      },
      "cell_type": "markdown",
      "source": "# Question\n\n#### 1) Which countries have reported pollution levels in units of \"ppm\"? \n\nIn case it's useful to see an example query, here's some code from the tutorial:\n\n```\nquery = \"\"\"SELECT city\n            FROM `bigquery-public-data.openaq.global_air_quality`\n            WHERE country = 'US'\n        \"\"\"\nopen_aq.query_to_pandas_safe(query)```"
    },
    {
      "metadata": {
        "_uuid": "8dc38f38a3c205b873896f90acde0b21ccfd7645",
        "trusted": true
      },
      "cell_type": "code",
      "source": "# Your Code Goes Here\nfirst_query = \"\"\"SELECT DISTINCT country FROM `bigquery-public-data.openaq.global_air_quality` WHERE unit =\"ppm\"\n\"\"\"\n\n\nfirst_results = open_aq.query_to_pandas_safe(first_query)\n\n# View top few rows of results\nprint(first_results.head())\n\nq_1.check()",
      "execution_count": 18,
      "outputs": [
        {
          "output_type": "stream",
          "text": "  country\n0      US\n1      BA\n2      CA\n3      TH\n4      PE\n",
          "name": "stdout"
        },
        {
          "output_type": "display_data",
          "data": {
            "text/plain": "<IPython.core.display.Javascript object>",
            "application/javascript": "parent.postMessage({\"jupyterEvent\": \"custom.exercise_interaction\", \"data\": {\"outcomeType\": 2, \"failureMessage\": \"You have the wrong set of countries. Check your WHERE clause\", \"interactionType\": 1, \"learnTutorialId\": 78, \"questionId\": \"1_WhichCountries\", \"learnToolsVersion\": \"0.2.12\", \"valueTowardsCompletion\": 0.0, \"exceptionClass\": \"\", \"trace\": \"\"}}, \"*\")"
          },
          "metadata": {}
        },
        {
          "output_type": "display_data",
          "data": {
            "text/plain": "Incorrect: You have the wrong set of countries. Check your WHERE clause",
            "text/markdown": "<span style=\"color:#cc3333\">Incorrect:</span> You have the wrong set of countries. Check your WHERE clause"
          },
          "metadata": {}
        }
      ]
    },
    {
      "metadata": {
        "_uuid": "6080481de358f611f152f805157bc19dacf12438"
      },
      "cell_type": "markdown",
      "source": "For the solution, uncomment the line below."
    },
    {
      "metadata": {
        "_uuid": "da4c2db8e06e20ce3feec81a8513998a7756d9cc",
        "trusted": true
      },
      "cell_type": "code",
      "source": "q_1.solution()",
      "execution_count": 15,
      "outputs": [
        {
          "output_type": "display_data",
          "data": {
            "text/plain": "<IPython.core.display.Javascript object>",
            "application/javascript": "parent.postMessage({\"jupyterEvent\": \"custom.exercise_interaction\", \"data\": {\"interactionType\": 3, \"learnTutorialId\": 78, \"questionId\": \"1_WhichCountries\", \"learnToolsVersion\": \"0.2.12\", \"valueTowardsCompletion\": 0.0, \"failureMessage\": \"\", \"exceptionClass\": \"\", \"trace\": \"\", \"outcomeType\": 4}}, \"*\")"
          },
          "metadata": {}
        },
        {
          "output_type": "display_data",
          "data": {
            "text/plain": "Solution: \n```python\n\nfirst_query = \"\"\"SELECT country\n                  FROM `bigquery-public-data.openaq.global_air_quality`\n                  WHERE unit = \"ppm\"\n        \"\"\"\n\n# Or to get each country just once, you could use\nfirst_query = \"\"\"SELECT DISTINCT country\n                  FROM `bigquery-public-data.openaq.global_air_quality`\n                  WHERE unit = \"ppm\"\n        \"\"\"\n\n```",
            "text/markdown": "<span style=\"color:#33cc99\">Solution:</span> \n```python\n\nfirst_query = \"\"\"SELECT country\n                  FROM `bigquery-public-data.openaq.global_air_quality`\n                  WHERE unit = \"ppm\"\n        \"\"\"\n\n# Or to get each country just once, you could use\nfirst_query = \"\"\"SELECT DISTINCT country\n                  FROM `bigquery-public-data.openaq.global_air_quality`\n                  WHERE unit = \"ppm\"\n        \"\"\"\n\n```"
          },
          "metadata": {}
        }
      ]
    },
    {
      "metadata": {
        "_uuid": "ffaaed52612c9d3d46ea2c499da297a5b3729635"
      },
      "cell_type": "markdown",
      "source": "#### 2) Select all columns of the rows where pollution levels were reported to be exactly 0."
    },
    {
      "metadata": {
        "_uuid": "6113c87c417d19a6e1602a4b4fe310a1a51a331b",
        "trusted": true
      },
      "cell_type": "code",
      "source": "# Your Code Goes Here\n\nzero_pollution_query = \"\"\"SELECT *\n                  FROM `bigquery-public-data.openaq.global_air_quality`\n                  WHERE value = 0\n        \"\"\"\n\nzero_pollution_results = open_aq.query_to_pandas_safe(zero_pollution_query)\n\nprint(zero_pollution_results.head())\n\nq_2.check()",
      "execution_count": 19,
      "outputs": [
        {
          "output_type": "stream",
          "text": "               location          ...           averaged_over_in_hours\n0          Plain_Mobile          ...                              1.0\n1       Cle Elum_Mobile          ...                              1.0\n2            Ponca City          ...                              1.0\n3               Chenier          ...                              1.0\n4  Sainte-Anne-de-Belle          ...                              1.0\n\n[5 rows x 11 columns]\n",
          "name": "stdout"
        },
        {
          "output_type": "display_data",
          "data": {
            "text/plain": "<IPython.core.display.Javascript object>",
            "application/javascript": "parent.postMessage({\"jupyterEvent\": \"custom.exercise_interaction\", \"data\": {\"outcomeType\": 1, \"valueTowardsCompletion\": 0.5, \"interactionType\": 1, \"learnTutorialId\": 78, \"questionId\": \"2_ZeroPollution\", \"learnToolsVersion\": \"0.2.12\", \"failureMessage\": \"\", \"exceptionClass\": \"\", \"trace\": \"\"}}, \"*\")"
          },
          "metadata": {}
        },
        {
          "output_type": "display_data",
          "data": {
            "text/plain": "Correct",
            "text/markdown": "<span style=\"color:#33cc33\">Correct</span>"
          },
          "metadata": {}
        }
      ]
    },
    {
      "metadata": {
        "_uuid": "eaca205f24e5d66e3c729c4210de8ab5969e3608"
      },
      "cell_type": "markdown",
      "source": "For the solution, uncomment the line below:"
    },
    {
      "metadata": {
        "_uuid": "b6a9d6ad8aa58814828659b4d5f96fabf2a7be90",
        "trusted": false
      },
      "cell_type": "code",
      "source": "#q_2.solution()",
      "execution_count": null,
      "outputs": []
    },
    {
      "metadata": {
        "_uuid": "493b984c3347ee304249b6ecb7931888011695ae"
      },
      "cell_type": "markdown",
      "source": "That query wasn't too complicated, and it got the data you want. But these **SELECT** queries don't organize data in a way that answers the most interesting questions. For that, we'll need the **GROUP BY** command. \n\nIf you know how to use `groupby` in Pandas, this is similar. But BigQuery works quickly with far larger datasets.\n\nFortunately, that's next."
    },
    {
      "metadata": {
        "_uuid": "07b03f3bdbd2f1540763f4b7b23680fa78def2ea"
      },
      "cell_type": "markdown",
      "source": "# Keep Going\n**[GROUP BY](https://www.kaggle.com/dansbecker/group-by-having-count)** clauses and their extensions give you the power to pull interesting statistics out of data, rather than receiving it in just its raw format."
    },
    {
      "metadata": {
        "_uuid": "323d4f9776e82e26ba7346968efb2e981a3688e4"
      },
      "cell_type": "markdown",
      "source": "---\n**[SQL Micro-Course Home Page](https://www.kaggle.com/learn/SQL)**\n\n"
    }
  ],
  "metadata": {
    "kernelspec": {
      "display_name": "Python 3",
      "language": "python",
      "name": "python3"
    },
    "language_info": {
      "name": "python",
      "version": "3.6.6",
      "mimetype": "text/x-python",
      "codemirror_mode": {
        "name": "ipython",
        "version": 3
      },
      "pygments_lexer": "ipython3",
      "nbconvert_exporter": "python",
      "file_extension": ".py"
    }
  },
  "nbformat": 4,
  "nbformat_minor": 1
}