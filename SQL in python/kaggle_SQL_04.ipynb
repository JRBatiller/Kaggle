{
  "cells": [
    {
      "metadata": {
        "_uuid": "84f4aaaf27e79d632da8c8fec6ca9fbe1b3249d5"
      },
      "cell_type": "markdown",
      "source": "**[SQL Micro-Course Home Page](https://www.kaggle.com/learn/SQL)**\n\n---\n"
    },
    {
      "metadata": {
        "_uuid": "3d7e38a4faf7c88622a1baad81d83e79794561f7"
      },
      "cell_type": "markdown",
      "source": "# Intro\n\nYou've built up your SQL skills enough that the remaining hands-on exercises will use different datasets than you see in the explanations. If you need to familiarize with a new dataset, you can run a couple of `SELECT` queries to extract and review the data you need. \n\nThe next exercises are also more challenging than what you've done so far. Don't worry, you are ready for it.\n\nRun the code in the following cell to get everything set up:"
    },
    {
      "metadata": {
        "_uuid": "9b0e9012e1d4ef2150b63cdeeb7af0e6f3a31acc",
        "trusted": true
      },
      "cell_type": "code",
      "source": "# Set up feedack system\nfrom learntools.core import binder\nbinder.bind(globals())\nfrom learntools.sql.ex4 import *\n\n# import package with helper functions \nimport bq_helper\n\n# create a helper object for this dataset\neducation_data = bq_helper.BigQueryHelper(active_project=\"bigquery-public-data\",\n                                          dataset_name=\"world_bank_intl_education\")",
      "execution_count": 1,
      "outputs": [
        {
          "output_type": "stream",
          "text": "Using Kaggle's public dataset BigQuery integration.\n",
          "name": "stdout"
        }
      ]
    },
    {
      "metadata": {
        "_uuid": "16cebaecf37058b648b60bd1c0a9955f3100466b"
      },
      "cell_type": "markdown",
      "source": "Then write the code to answer the questions below."
    },
    {
      "metadata": {
        "_uuid": "8f1b39eb684ec6d5310fd81650302f843dc4d621"
      },
      "cell_type": "markdown",
      "source": "# Questions\n\n## 1) Which countries spend the largest fraction of GDP on education?\n\nThe World Bank has made tons of interesting education data available through BigQuery. Run the following cell to see the first few rows of the table."
    },
    {
      "metadata": {
        "_uuid": "3d2bf74c0b2b062e888ce7352ec2b0d29beb1792",
        "trusted": true
      },
      "cell_type": "code",
      "source": "education_data.head('international_education')",
      "execution_count": 2,
      "outputs": [
        {
          "output_type": "execute_result",
          "execution_count": 2,
          "data": {
            "text/plain": "         country_name country_code      ...       year         value\n0              Angola          AGO      ...       1992  3.793646e+03\n1              Turkey          TUR      ...       2000  8.194184e+06\n2        Burkina Faso          BFA      ...       2010  6.214100e-01\n3               Chile          CHL      ...       2010  8.187383e+01\n4  Sub-Saharan Africa          SSF      ...       2010  4.475259e+01\n\n[5 rows x 6 columns]",
            "text/html": "<div>\n<style scoped>\n    .dataframe tbody tr th:only-of-type {\n        vertical-align: middle;\n    }\n\n    .dataframe tbody tr th {\n        vertical-align: top;\n    }\n\n    .dataframe thead th {\n        text-align: right;\n    }\n</style>\n<table border=\"1\" class=\"dataframe\">\n  <thead>\n    <tr style=\"text-align: right;\">\n      <th></th>\n      <th>country_name</th>\n      <th>country_code</th>\n      <th>indicator_name</th>\n      <th>indicator_code</th>\n      <th>year</th>\n      <th>value</th>\n    </tr>\n  </thead>\n  <tbody>\n    <tr>\n      <th>0</th>\n      <td>Angola</td>\n      <td>AGO</td>\n      <td>GDP per capita, PPP (constant 2011 internation...</td>\n      <td>NY.GDP.PCAP.PP.KD</td>\n      <td>1992</td>\n      <td>3.793646e+03</td>\n    </tr>\n    <tr>\n      <th>1</th>\n      <td>Turkey</td>\n      <td>TUR</td>\n      <td>Population, ages 7-12, total</td>\n      <td>SP.POP.0712.TO.UN</td>\n      <td>2000</td>\n      <td>8.194184e+06</td>\n    </tr>\n    <tr>\n      <th>2</th>\n      <td>Burkina Faso</td>\n      <td>BFA</td>\n      <td>Africa Dataset: Average number of pupils per r...</td>\n      <td>UIS.AFR.PBR.1.G3.PU.READ</td>\n      <td>2010</td>\n      <td>6.214100e-01</td>\n    </tr>\n    <tr>\n      <th>3</th>\n      <td>Chile</td>\n      <td>CHL</td>\n      <td>Adjusted net intake rate to Grade 1 of primary...</td>\n      <td>UIS.NIRA.1.M</td>\n      <td>2010</td>\n      <td>8.187383e+01</td>\n    </tr>\n    <tr>\n      <th>4</th>\n      <td>Sub-Saharan Africa</td>\n      <td>SSF</td>\n      <td>Percentage of students in upper secondary gene...</td>\n      <td>UIS.FEP.3.GPV</td>\n      <td>2010</td>\n      <td>4.475259e+01</td>\n    </tr>\n  </tbody>\n</table>\n</div>"
          },
          "metadata": {}
        }
      ]
    },
    {
      "metadata": {
        "_uuid": "54587d745829622f86705da48e7684ced8f3b241"
      },
      "cell_type": "markdown",
      "source": "The indicator code describes what type of data is shown in a given row.  \n\nOne interesting indicator code is `SE.XPD.TOTL.GD.ZS`. The name says this is `Government expenditure on education as % of GDP (%)`.\n\nWrite a query to get a dataframe returning **average value of these rows for each country in the dataset between the years 2010-2017** (including 2010 and 2017 in the average). \n\nRequirements:\n- Your results should have the country name rather than the country code. You will have one row for each country.\n- The aggregation for an average is **AVG**.  Use the name `avg_ed_spending_pct` for the column created by this aggregation.\n- Order the results so the countries that spend the largest fraction of GDP on education show up first.\n\nIn case it's useful to see a sample query, here's a query you saw in the tutorial (using a different database):\n```\n# query to find how many accidents happen each day of the week\nquery = \"\"\"SELECT COUNT(consecutive_number) num_accidents, \n                  EXTRACT(DAYOFWEEK FROM timestamp_of_crash)\n            FROM `bigquery-public-data.nhtsa_traffic_fatalities.accident_2016`\n            GROUP BY EXTRACT(DAYOFWEEK FROM timestamp_of_crash)\n            ORDER BY COUNT(consecutive_number) DESC\n        \"\"\"\naccidents_by_day = accidents.query_to_pandas_safe(query)\n```"
    },
    {
      "metadata": {
        "_uuid": "f9fd6a4013e5c22be865f1f76c662429a53f1815",
        "trusted": true
      },
      "cell_type": "code",
      "source": "# Your Code Here\n\ncountry_spend_pct_query = \"\"\"\nSELECT country_name, AVG(value) avg_ed_spending_pct\nFROM `bigquery-public-data.world_bank_intl_education.international_education`\nWHERE indicator_code = 'SE.XPD.TOTL.GD.ZS' and year<=2017 and year>=2010\nGROUP BY country_name\nORDER BY AVG(value) DESC\n\"\"\"\n\ncountry_spending_results = education_data.query_to_pandas_safe(country_spend_pct_query)\n\nprint(country_spending_results.head())\nq_1.check()",
      "execution_count": 9,
      "outputs": [
        {
          "output_type": "stream",
          "text": "            country_name  avg_ed_spending_pct\n0                   Cuba            12.837270\n1  Micronesia, Fed. Sts.            12.467750\n2        Solomon Islands            10.001080\n3                Moldova             8.372153\n4                Namibia             8.349610\n",
          "name": "stdout"
        },
        {
          "output_type": "display_data",
          "data": {
            "text/plain": "<IPython.core.display.Javascript object>",
            "application/javascript": "parent.postMessage({\"jupyterEvent\": \"custom.exercise_interaction\", \"data\": {\"outcomeType\": 1, \"valueTowardsCompletion\": 0.5, \"interactionType\": 1, \"learnTutorialId\": 80, \"questionId\": \"1_EducationSpending\", \"learnToolsVersion\": \"0.2.12\", \"failureMessage\": \"\", \"exceptionClass\": \"\", \"trace\": \"\"}}, \"*\")"
          },
          "metadata": {}
        },
        {
          "output_type": "display_data",
          "data": {
            "text/plain": "Correct",
            "text/markdown": "<span style=\"color:#33cc33\">Correct</span>"
          },
          "metadata": {}
        }
      ]
    },
    {
      "metadata": {
        "_uuid": "9392c377d61ca882d2e7f5588f508b971ef218d7",
        "trusted": true
      },
      "cell_type": "code",
      "source": " q_1.hint()\n q_1.solution()",
      "execution_count": 6,
      "outputs": [
        {
          "output_type": "display_data",
          "data": {
            "text/plain": "<IPython.core.display.Javascript object>",
            "application/javascript": "parent.postMessage({\"jupyterEvent\": \"custom.exercise_interaction\", \"data\": {\"interactionType\": 2, \"learnTutorialId\": 80, \"questionId\": \"1_EducationSpending\", \"learnToolsVersion\": \"0.2.12\", \"valueTowardsCompletion\": 0.0, \"failureMessage\": \"\", \"exceptionClass\": \"\", \"trace\": \"\", \"outcomeType\": 4}}, \"*\")"
          },
          "metadata": {}
        },
        {
          "output_type": "display_data",
          "data": {
            "text/plain": "Hint: The part before `FROM` should be `SELECT country_name, AVG(value) avg_ed_spending_pct`",
            "text/markdown": "<span style=\"color:#3366cc\">Hint:</span> The part before `FROM` should be `SELECT country_name, AVG(value) avg_ed_spending_pct`"
          },
          "metadata": {}
        },
        {
          "output_type": "display_data",
          "data": {
            "text/plain": "<IPython.core.display.Javascript object>",
            "application/javascript": "parent.postMessage({\"jupyterEvent\": \"custom.exercise_interaction\", \"data\": {\"interactionType\": 3, \"learnTutorialId\": 80, \"questionId\": \"1_EducationSpending\", \"learnToolsVersion\": \"0.2.12\", \"valueTowardsCompletion\": 0.0, \"failureMessage\": \"\", \"exceptionClass\": \"\", \"trace\": \"\", \"outcomeType\": 4}}, \"*\")"
          },
          "metadata": {}
        },
        {
          "output_type": "display_data",
          "data": {
            "text/plain": "Solution: \n```python\n\nSELECT country_name, AVG(value) avg_ed_spending_pct\nFROM `bigquery-public-data.world_bank_intl_education.international_education`\nWHERE indicator_code = 'SE.XPD.TOTL.GD.ZS' and year >= 2010 and year <= 2017\nGROUP BY country_name\nORDER BY avg_ed_spending_pct DESC\n\n```",
            "text/markdown": "<span style=\"color:#33cc99\">Solution:</span> \n```python\n\nSELECT country_name, AVG(value) avg_ed_spending_pct\nFROM `bigquery-public-data.world_bank_intl_education.international_education`\nWHERE indicator_code = 'SE.XPD.TOTL.GD.ZS' and year >= 2010 and year <= 2017\nGROUP BY country_name\nORDER BY avg_ed_spending_pct DESC\n\n```"
          },
          "metadata": {}
        }
      ]
    },
    {
      "metadata": {
        "_uuid": "efaa741c7caef8f0af53747431775018f6a735d8"
      },
      "cell_type": "markdown",
      "source": "## 2) Identifying Interesting Codes to Explore\nThe last question started by telling you to focus on rows with the code `SE.XPD.TOTL.GD.ZS`. But how would you find interesting indicator codes to explore?\n\nThere are 1000s of codes in the dataset, so it would time consuming to review them all. But many codes are available for only a few countries. When browsing the options for different codes, you might restrict yourself to codes that are reported by many countries.\n\nWrite the query below that selects the indicator code and indicator name for all codes with at least 175 rows in the year 2016.\n\nRequirements:\n- One row in your results per code\n- The columns in your results should be called `indicator_code`, `indicator_name` and `num_rows`.\n- Only select codes with 175 or more rows in the raw database (exactly 175 rows would be included).\n- To get both the `indicator_code` and `indicator_name` in your resulting DataFrame, you need to include both in your **SELECT** statement (in addition to a **COUNT** aggregation). This in turn requires you to include both in your **GROUP BY** clause.\n- Order results from most frequent to least frequent."
    },
    {
      "metadata": {
        "_uuid": "4781be5e9bb940229e7d3ae7277362bef99ade77",
        "trusted": true
      },
      "cell_type": "code",
      "source": "# Your Code Here\ncode_count_query = \"\"\"SELECT indicator_code, indicator_name, COUNT(1) as num_rows\nFROM `bigquery-public-data.world_bank_intl_education.international_education`\nGROUP BY indicator_code, indicator_name\nHAVING COUNT(1) >=175\n\"\"\"\n\ncode_count_results = education_data.query_to_pandas_safe(code_count_query)\n\nprint(code_count_results.head())\nq_2.check()",
      "execution_count": null,
      "outputs": []
    },
    {
      "metadata": {
        "_uuid": "7c928527c8bf7a033ba8ed140faaaf86804912dd",
        "trusted": true
      },
      "cell_type": "code",
      "source": "q_2.hint()\n#q_2.solution()",
      "execution_count": 11,
      "outputs": [
        {
          "output_type": "display_data",
          "data": {
            "text/plain": "<IPython.core.display.Javascript object>",
            "application/javascript": "parent.postMessage({\"jupyterEvent\": \"custom.exercise_interaction\", \"data\": {\"interactionType\": 2, \"learnTutorialId\": 80, \"questionId\": \"2_FindInterestingCodes\", \"learnToolsVersion\": \"0.2.12\", \"valueTowardsCompletion\": 0.0, \"failureMessage\": \"\", \"exceptionClass\": \"\", \"trace\": \"\", \"outcomeType\": 4}}, \"*\")"
          },
          "metadata": {}
        },
        {
          "output_type": "display_data",
          "data": {
            "text/plain": "Hint: The part before `FROM` is `SELECT indicator_code, indicator_name, COUNT(1) AS num_rows`",
            "text/markdown": "<span style=\"color:#3366cc\">Hint:</span> The part before `FROM` is `SELECT indicator_code, indicator_name, COUNT(1) AS num_rows`"
          },
          "metadata": {}
        }
      ]
    },
    {
      "metadata": {
        "_uuid": "e38d8095704b871e0656c52b24294a9f295b57e7"
      },
      "cell_type": "markdown",
      "source": "---\n# Keep Going\n**[Click here](https://www.kaggle.com/dansbecker/as-with)** to learn how *WITH-AS* clauses  can clean up your code and help you construct more complex queries.\n"
    },
    {
      "metadata": {
        "_uuid": "cd96189229b3944f62b6ec97fb312313f0688eb8"
      },
      "cell_type": "markdown",
      "source": "---\n**[SQL Micro-Course Home Page](https://www.kaggle.com/learn/SQL)**\n\n"
    }
  ],
  "metadata": {
    "kernelspec": {
      "display_name": "Python 3",
      "language": "python",
      "name": "python3"
    },
    "language_info": {
      "name": "python",
      "version": "3.6.6",
      "mimetype": "text/x-python",
      "codemirror_mode": {
        "name": "ipython",
        "version": 3
      },
      "pygments_lexer": "ipython3",
      "nbconvert_exporter": "python",
      "file_extension": ".py"
    }
  },
  "nbformat": 4,
  "nbformat_minor": 1
}