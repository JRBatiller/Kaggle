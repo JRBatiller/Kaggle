{
  "cells": [
    {
      "metadata": {
        "_uuid": "6c2374ed87746705325ec73b2591af25821ca9c6"
      },
      "cell_type": "markdown",
      "source": "**[SQL Micro-Course Home Page](https://www.kaggle.com/learn/SQL)**\n\n---\n"
    },
    {
      "metadata": {
        "_uuid": "f83b2d66a54913065ac4c14576998ee1045a23a3"
      },
      "cell_type": "markdown",
      "source": "# Intro\n\nThe first test of your new data exploration skills uses a data describing crime in the city of Chicago.\n\nBefore you get started, run the following cell. It sets up the automated feedback system to review your answers, and then it sets up the database helper object so you can connect to the database."
    },
    {
      "metadata": {
        "_uuid": "2214e692dd6fddb6ad7d571475f7d4137b90793f",
        "trusted": true
      },
      "cell_type": "code",
      "source": "# Set up feedack system\nfrom learntools.core import binder\nbinder.bind(globals())\nfrom learntools.sql.ex1 import *\n\n\n# create a helper object for our bigquery dataset\nimport bq_helper\nchicago_crime = bq_helper.BigQueryHelper(active_project= \"bigquery-public-data\", \n                                         dataset_name = \"chicago_crime\")\nprint(\"Setup Complete\")",
      "execution_count": 1,
      "outputs": [
        {
          "output_type": "stream",
          "text": "Using Kaggle's public dataset BigQuery integration.\nSetup Complete\n",
          "name": "stdout"
        }
      ]
    },
    {
      "metadata": {
        "_uuid": "2c0eb89681b1e4335581515231fb58b91fe5ba46"
      },
      "cell_type": "markdown",
      "source": "For reference, here is all the code you saw in the first tutorial:\n\n```\nhacker_news = bq_helper.BigQueryHelper(active_project= \"bigquery-public-data\", \n                                       dataset_name = \"hacker_news\")\nhacker_news.list_tables()\nhacker_news.table_schema(\"full\")\nhacker_news.head(\"full\")\nhacker_news.head(\"full\", selected_columns=\"by\", num_rows=10)\n```"
    },
    {
      "metadata": {
        "_uuid": "f56df4e343e2246e729956d81dedcf39035fa25d"
      },
      "cell_type": "markdown",
      "source": "# Exercises\n\n## 1\nHow many tables are in the Chicago Crime dataset?"
    },
    {
      "metadata": {
        "_uuid": "9ea5921c46009294beb8d4031a7b83dea3d11d97",
        "trusted": true
      },
      "cell_type": "code",
      "source": "chicago_crime.list_tables()\n# Write the code you need here to figure out the answer",
      "execution_count": 2,
      "outputs": [
        {
          "output_type": "execute_result",
          "execution_count": 2,
          "data": {
            "text/plain": "['crime']"
          },
          "metadata": {}
        }
      ]
    },
    {
      "metadata": {
        "_uuid": "1782c7c650b40bac762b7ce48a0c5debacde8fe2",
        "trusted": true
      },
      "cell_type": "code",
      "source": "num_tables = 1  # store the answer as num_tables and then run this cell\n\nq_1.check()",
      "execution_count": 3,
      "outputs": [
        {
          "output_type": "display_data",
          "data": {
            "text/plain": "<IPython.core.display.Javascript object>",
            "application/javascript": "parent.postMessage({\"jupyterEvent\": \"custom.exercise_interaction\", \"data\": {\"outcomeType\": 1, \"valueTowardsCompletion\": 0.3333333333333333, \"interactionType\": 1, \"learnTutorialId\": 169, \"questionId\": \"1_CountTables\", \"learnToolsVersion\": \"0.2.12\", \"failureMessage\": \"\", \"exceptionClass\": \"\", \"trace\": \"\"}}, \"*\")"
          },
          "metadata": {}
        },
        {
          "output_type": "display_data",
          "data": {
            "text/plain": "Correct",
            "text/markdown": "<span style=\"color:#33cc33\">Correct</span>"
          },
          "metadata": {}
        }
      ]
    },
    {
      "metadata": {
        "_uuid": "28a21eb7d462510cf9d3e7331d9a65c0c64a285b"
      },
      "cell_type": "markdown",
      "source": "For a hint or the solution, comment the appropriate line below."
    },
    {
      "metadata": {
        "_uuid": "a5ae155cafffe0a4166d2c62d8fb3e0cb0f0f05e",
        "trusted": false
      },
      "cell_type": "code",
      "source": "# q_1.hint()\n# q_1.solution()",
      "execution_count": null,
      "outputs": []
    },
    {
      "metadata": {
        "_uuid": "f0a58f1cad2d194ea02785089d30b94bde0a5b1f"
      },
      "cell_type": "markdown",
      "source": "## 2\n\nHow many columns in the `crime` table have `TIMESTAMP` data?"
    },
    {
      "metadata": {
        "_uuid": "b4889af5f9d94ddd0200bc762d2ec2f53319b0a6",
        "trusted": true
      },
      "cell_type": "code",
      "source": "chicago_crime.table_schema('crime')\n# Write the code to figure out the answer\n",
      "execution_count": 6,
      "outputs": [
        {
          "output_type": "execute_result",
          "execution_count": 6,
          "data": {
            "text/plain": "                    name                        ...                                                                description\n0             unique_key                        ...                                          Unique identifier for the record.\n1            case_number                        ...                          The Chicago Police Department RD Number (Recor...\n2                   date                        ...                          Date when the incident occurred. this is somet...\n3                  block                        ...                          The partially redacted address where the incid...\n4                   iucr                        ...                          The Illinois Unifrom Crime Reporting code. Thi...\n5           primary_type                        ...                                  The primary description of the IUCR code.\n6            description                        ...                          The secondary description of the IUCR code, a ...\n7   location_description                        ...                          Description of the location where the incident...\n8                 arrest                        ...                                      Indicates whether an arrest was made.\n9               domestic                        ...                          Indicates whether the incident was domestic-re...\n10                  beat                        ...                          Indicates the beat where the incident occurred...\n11              district                        ...                          Indicates the police district where the incide...\n12                  ward                        ...                          The ward (City Council district) where the inc...\n13        community_area                        ...                          Indicates the community area where the inciden...\n14              fbi_code                        ...                          Indicates the crime classification as outlined...\n15          x_coordinate                        ...                          The x coordinate of the location where the inc...\n16          y_coordinate                        ...                          The y coordinate of the location where the inc...\n17                  year                        ...                                                Year the incident occurred.\n18            updated_on                        ...                                 Date and time the record was last updated.\n19              latitude                        ...                          The latitude of the location where the inciden...\n20             longitude                        ...                          The longitude of the location where the incide...\n21              location                        ...                          The location where the incident occurred in a ...\n\n[22 rows x 4 columns]",
            "text/html": "<div>\n<style scoped>\n    .dataframe tbody tr th:only-of-type {\n        vertical-align: middle;\n    }\n\n    .dataframe tbody tr th {\n        vertical-align: top;\n    }\n\n    .dataframe thead th {\n        text-align: right;\n    }\n</style>\n<table border=\"1\" class=\"dataframe\">\n  <thead>\n    <tr style=\"text-align: right;\">\n      <th></th>\n      <th>name</th>\n      <th>type</th>\n      <th>mode</th>\n      <th>description</th>\n    </tr>\n  </thead>\n  <tbody>\n    <tr>\n      <th>0</th>\n      <td>unique_key</td>\n      <td>INTEGER</td>\n      <td>REQUIRED</td>\n      <td>Unique identifier for the record.</td>\n    </tr>\n    <tr>\n      <th>1</th>\n      <td>case_number</td>\n      <td>STRING</td>\n      <td>NULLABLE</td>\n      <td>The Chicago Police Department RD Number (Recor...</td>\n    </tr>\n    <tr>\n      <th>2</th>\n      <td>date</td>\n      <td>TIMESTAMP</td>\n      <td>NULLABLE</td>\n      <td>Date when the incident occurred. this is somet...</td>\n    </tr>\n    <tr>\n      <th>3</th>\n      <td>block</td>\n      <td>STRING</td>\n      <td>NULLABLE</td>\n      <td>The partially redacted address where the incid...</td>\n    </tr>\n    <tr>\n      <th>4</th>\n      <td>iucr</td>\n      <td>STRING</td>\n      <td>NULLABLE</td>\n      <td>The Illinois Unifrom Crime Reporting code. Thi...</td>\n    </tr>\n    <tr>\n      <th>5</th>\n      <td>primary_type</td>\n      <td>STRING</td>\n      <td>NULLABLE</td>\n      <td>The primary description of the IUCR code.</td>\n    </tr>\n    <tr>\n      <th>6</th>\n      <td>description</td>\n      <td>STRING</td>\n      <td>NULLABLE</td>\n      <td>The secondary description of the IUCR code, a ...</td>\n    </tr>\n    <tr>\n      <th>7</th>\n      <td>location_description</td>\n      <td>STRING</td>\n      <td>NULLABLE</td>\n      <td>Description of the location where the incident...</td>\n    </tr>\n    <tr>\n      <th>8</th>\n      <td>arrest</td>\n      <td>BOOLEAN</td>\n      <td>NULLABLE</td>\n      <td>Indicates whether an arrest was made.</td>\n    </tr>\n    <tr>\n      <th>9</th>\n      <td>domestic</td>\n      <td>BOOLEAN</td>\n      <td>NULLABLE</td>\n      <td>Indicates whether the incident was domestic-re...</td>\n    </tr>\n    <tr>\n      <th>10</th>\n      <td>beat</td>\n      <td>INTEGER</td>\n      <td>NULLABLE</td>\n      <td>Indicates the beat where the incident occurred...</td>\n    </tr>\n    <tr>\n      <th>11</th>\n      <td>district</td>\n      <td>INTEGER</td>\n      <td>NULLABLE</td>\n      <td>Indicates the police district where the incide...</td>\n    </tr>\n    <tr>\n      <th>12</th>\n      <td>ward</td>\n      <td>INTEGER</td>\n      <td>NULLABLE</td>\n      <td>The ward (City Council district) where the inc...</td>\n    </tr>\n    <tr>\n      <th>13</th>\n      <td>community_area</td>\n      <td>INTEGER</td>\n      <td>NULLABLE</td>\n      <td>Indicates the community area where the inciden...</td>\n    </tr>\n    <tr>\n      <th>14</th>\n      <td>fbi_code</td>\n      <td>STRING</td>\n      <td>NULLABLE</td>\n      <td>Indicates the crime classification as outlined...</td>\n    </tr>\n    <tr>\n      <th>15</th>\n      <td>x_coordinate</td>\n      <td>FLOAT</td>\n      <td>NULLABLE</td>\n      <td>The x coordinate of the location where the inc...</td>\n    </tr>\n    <tr>\n      <th>16</th>\n      <td>y_coordinate</td>\n      <td>FLOAT</td>\n      <td>NULLABLE</td>\n      <td>The y coordinate of the location where the inc...</td>\n    </tr>\n    <tr>\n      <th>17</th>\n      <td>year</td>\n      <td>INTEGER</td>\n      <td>NULLABLE</td>\n      <td>Year the incident occurred.</td>\n    </tr>\n    <tr>\n      <th>18</th>\n      <td>updated_on</td>\n      <td>TIMESTAMP</td>\n      <td>NULLABLE</td>\n      <td>Date and time the record was last updated.</td>\n    </tr>\n    <tr>\n      <th>19</th>\n      <td>latitude</td>\n      <td>FLOAT</td>\n      <td>NULLABLE</td>\n      <td>The latitude of the location where the inciden...</td>\n    </tr>\n    <tr>\n      <th>20</th>\n      <td>longitude</td>\n      <td>FLOAT</td>\n      <td>NULLABLE</td>\n      <td>The longitude of the location where the incide...</td>\n    </tr>\n    <tr>\n      <th>21</th>\n      <td>location</td>\n      <td>STRING</td>\n      <td>NULLABLE</td>\n      <td>The location where the incident occurred in a ...</td>\n    </tr>\n  </tbody>\n</table>\n</div>"
          },
          "metadata": {}
        }
      ]
    },
    {
      "metadata": {
        "_uuid": "d1327b81d27376e45ba464b42b48d32b21794727",
        "trusted": true
      },
      "cell_type": "code",
      "source": "num_timestamp_fields = 2 # put your answer here\n\nq_2.check()",
      "execution_count": 7,
      "outputs": [
        {
          "output_type": "display_data",
          "data": {
            "text/plain": "<IPython.core.display.Javascript object>",
            "application/javascript": "parent.postMessage({\"jupyterEvent\": \"custom.exercise_interaction\", \"data\": {\"outcomeType\": 1, \"valueTowardsCompletion\": 0.3333333333333333, \"interactionType\": 1, \"learnTutorialId\": 169, \"questionId\": \"2_CountTimestampFields\", \"learnToolsVersion\": \"0.2.12\", \"failureMessage\": \"\", \"exceptionClass\": \"\", \"trace\": \"\"}}, \"*\")"
          },
          "metadata": {}
        },
        {
          "output_type": "display_data",
          "data": {
            "text/plain": "Correct",
            "text/markdown": "<span style=\"color:#33cc33\">Correct</span>"
          },
          "metadata": {}
        }
      ]
    },
    {
      "metadata": {
        "_uuid": "f64eefd2e47f15e4090f9079fd90af3dc098c174"
      },
      "cell_type": "markdown",
      "source": "For a hint or the solution, comment the appropriate line below."
    },
    {
      "metadata": {
        "_uuid": "c74b1976da8223bfedb8dddde80adc13fe9de1a7",
        "trusted": false
      },
      "cell_type": "code",
      "source": "# q_2.hint()\n# q_2.solution()",
      "execution_count": null,
      "outputs": []
    },
    {
      "metadata": {
        "_uuid": "b15ece7e5a6bb40a3abaa19d6a6480e8badb9eed"
      },
      "cell_type": "markdown",
      "source": "## 3\n\nIf you wanted to create a map with a dot at the location of each crime, what are the names of the two fields you likely need to pull out of the database to plot the crimes on a map?"
    },
    {
      "metadata": {
        "_uuid": "d10003d2b647e3d474498995b75b84d1d765d8d6",
        "trusted": true
      },
      "cell_type": "code",
      "source": "chicago_crime.head('crime') \n# Write the code here to explore the data so you can find the answer",
      "execution_count": 9,
      "outputs": [
        {
          "output_type": "execute_result",
          "execution_count": 9,
          "data": {
            "text/plain": "   unique_key              ...                                     location\n0     8298994              ...                (41.992520188, -87.714054283)\n1     8336735              ...                 (41.71721703, -87.537699773)\n2     8359343              ...                (41.662258327, -87.551979716)\n3     8359366              ...                (41.727129592, -87.575471223)\n4     8405608              ...                (41.721081054, -87.671886997)\n\n[5 rows x 22 columns]",
            "text/html": "<div>\n<style scoped>\n    .dataframe tbody tr th:only-of-type {\n        vertical-align: middle;\n    }\n\n    .dataframe tbody tr th {\n        vertical-align: top;\n    }\n\n    .dataframe thead th {\n        text-align: right;\n    }\n</style>\n<table border=\"1\" class=\"dataframe\">\n  <thead>\n    <tr style=\"text-align: right;\">\n      <th></th>\n      <th>unique_key</th>\n      <th>case_number</th>\n      <th>date</th>\n      <th>block</th>\n      <th>iucr</th>\n      <th>primary_type</th>\n      <th>description</th>\n      <th>location_description</th>\n      <th>arrest</th>\n      <th>domestic</th>\n      <th>beat</th>\n      <th>district</th>\n      <th>ward</th>\n      <th>community_area</th>\n      <th>fbi_code</th>\n      <th>x_coordinate</th>\n      <th>y_coordinate</th>\n      <th>year</th>\n      <th>updated_on</th>\n      <th>latitude</th>\n      <th>longitude</th>\n      <th>location</th>\n    </tr>\n  </thead>\n  <tbody>\n    <tr>\n      <th>0</th>\n      <td>8298994</td>\n      <td>HT532634</td>\n      <td>2011-10-08 00:15:00+00:00</td>\n      <td>061XX N KIMBALL AVE</td>\n      <td>2022</td>\n      <td>NARCOTICS</td>\n      <td>POSS: COCAINE</td>\n      <td>STREET</td>\n      <td>True</td>\n      <td>False</td>\n      <td>1711</td>\n      <td>17</td>\n      <td>50</td>\n      <td>13</td>\n      <td>18</td>\n      <td>1152598.0</td>\n      <td>1940473.0</td>\n      <td>2011</td>\n      <td>2018-02-10 15:50:01+00:00</td>\n      <td>41.992520</td>\n      <td>-87.714054</td>\n      <td>(41.992520188, -87.714054283)</td>\n    </tr>\n    <tr>\n      <th>1</th>\n      <td>8336735</td>\n      <td>HT570643</td>\n      <td>2011-11-01 20:49:00+00:00</td>\n      <td>098XX S AVENUE M</td>\n      <td>3731</td>\n      <td>INTERFERENCE WITH PUBLIC OFFICER</td>\n      <td>OBSTRUCTING IDENTIFICATION</td>\n      <td>STREET</td>\n      <td>True</td>\n      <td>False</td>\n      <td>432</td>\n      <td>4</td>\n      <td>10</td>\n      <td>52</td>\n      <td>24</td>\n      <td>1201469.0</td>\n      <td>1840549.0</td>\n      <td>2011</td>\n      <td>2018-02-10 15:50:01+00:00</td>\n      <td>41.717217</td>\n      <td>-87.537700</td>\n      <td>(41.71721703, -87.537699773)</td>\n    </tr>\n    <tr>\n      <th>2</th>\n      <td>8359343</td>\n      <td>HT592628</td>\n      <td>2011-11-16 18:45:00+00:00</td>\n      <td>128XX S EXCHANGE AVE</td>\n      <td>3960</td>\n      <td>INTIMIDATION</td>\n      <td>INTIMIDATION</td>\n      <td>RESIDENCE</td>\n      <td>False</td>\n      <td>False</td>\n      <td>433</td>\n      <td>4</td>\n      <td>10</td>\n      <td>55</td>\n      <td>26</td>\n      <td>1197752.0</td>\n      <td>1820487.0</td>\n      <td>2011</td>\n      <td>2018-02-10 15:50:01+00:00</td>\n      <td>41.662258</td>\n      <td>-87.551980</td>\n      <td>(41.662258327, -87.551979716)</td>\n    </tr>\n    <tr>\n      <th>3</th>\n      <td>8359366</td>\n      <td>HT590659</td>\n      <td>2011-11-15 15:00:00+00:00</td>\n      <td>092XX S JEFFERY AVE</td>\n      <td>0545</td>\n      <td>ASSAULT</td>\n      <td>PRO EMP HANDS NO/MIN INJURY</td>\n      <td>SCHOOL, PUBLIC, BUILDING</td>\n      <td>True</td>\n      <td>False</td>\n      <td>413</td>\n      <td>4</td>\n      <td>8</td>\n      <td>48</td>\n      <td>08A</td>\n      <td>1191125.0</td>\n      <td>1844068.0</td>\n      <td>2011</td>\n      <td>2018-02-10 15:50:01+00:00</td>\n      <td>41.727130</td>\n      <td>-87.575471</td>\n      <td>(41.727129592, -87.575471223)</td>\n    </tr>\n    <tr>\n      <th>4</th>\n      <td>8405608</td>\n      <td>HT638758</td>\n      <td>2011-12-17 17:00:00+00:00</td>\n      <td>019XX W 95TH ST</td>\n      <td>1345</td>\n      <td>CRIMINAL DAMAGE</td>\n      <td>TO CITY OF CHICAGO PROPERTY</td>\n      <td>LIBRARY</td>\n      <td>False</td>\n      <td>False</td>\n      <td>2221</td>\n      <td>22</td>\n      <td>19</td>\n      <td>72</td>\n      <td>14</td>\n      <td>1164823.0</td>\n      <td>1841647.0</td>\n      <td>2011</td>\n      <td>2018-02-10 15:50:01+00:00</td>\n      <td>41.721081</td>\n      <td>-87.671887</td>\n      <td>(41.721081054, -87.671886997)</td>\n    </tr>\n  </tbody>\n</table>\n</div>"
          },
          "metadata": {}
        }
      ]
    },
    {
      "metadata": {
        "_uuid": "d179953987131cb675d7842237db6fab51731d1d",
        "trusted": true
      },
      "cell_type": "code",
      "source": "fields_for_plotting = ['x_coordinate', 'y_coordinate']\n\nq_3.check()",
      "execution_count": 10,
      "outputs": [
        {
          "output_type": "stream",
          "text": "latitude and longitude would be better and more standard than the x_coordinate and y_coordinate, but this might work.\n",
          "name": "stdout"
        },
        {
          "output_type": "display_data",
          "data": {
            "text/plain": "<IPython.core.display.Javascript object>",
            "application/javascript": "parent.postMessage({\"jupyterEvent\": \"custom.exercise_interaction\", \"data\": {\"outcomeType\": 1, \"valueTowardsCompletion\": 0.3333333333333333, \"interactionType\": 1, \"learnTutorialId\": 169, \"questionId\": \"3_IdentifyFieldsForPlotting\", \"learnToolsVersion\": \"0.2.12\", \"failureMessage\": \"\", \"exceptionClass\": \"\", \"trace\": \"\"}}, \"*\")"
          },
          "metadata": {}
        },
        {
          "output_type": "display_data",
          "data": {
            "text/plain": "Correct",
            "text/markdown": "<span style=\"color:#33cc33\">Correct</span>"
          },
          "metadata": {}
        }
      ]
    },
    {
      "metadata": {
        "_uuid": "f8a11c58666ba6ee67d0a14e1660935a2fd0a54d"
      },
      "cell_type": "markdown",
      "source": "For a hint or the solution, comment the appropriate line below."
    },
    {
      "metadata": {
        "_uuid": "a8f3cc6e45163523ad376ccd8046382328fda164",
        "trusted": false
      },
      "cell_type": "code",
      "source": "# q_3.hint()\n# q_3.solution()",
      "execution_count": null,
      "outputs": []
    },
    {
      "metadata": {
        "_uuid": "ceadf958a8f5d3c264e02cb77cef74cec9521bff"
      },
      "cell_type": "markdown",
      "source": "Thinking about the question above, there are a columns that appear to have geographic data. Look at a few values (with the `head` command) to see if you can determine their relationship.  Two columns will still hard to interpret. But it should be obvious how the `location` column relates to `latitude` and `longitude`."
    },
    {
      "metadata": {
        "_uuid": "84aa97f6a5dd953d5089b986a999457b191dbf67",
        "trusted": false
      },
      "cell_type": "code",
      "source": "# Scratch space for your code\n#location is (latitude,longtitude) ",
      "execution_count": null,
      "outputs": []
    },
    {
      "metadata": {
        "_uuid": "0571c0401f219f888e517b3e8a0ba4461a1059c1"
      },
      "cell_type": "markdown",
      "source": "# Keep Going\n\nYou've looked at the schema, but you haven't yet done anything exciting at the data itself. Things get more interesting when you get to the data, so keep going to learn **[Select Queries](https://www.kaggle.com/dansbecker/select-from-where).**"
    },
    {
      "metadata": {
        "_uuid": "c797f5f54a0b0d89054f148c4415ddc487cc5027"
      },
      "cell_type": "markdown",
      "source": "---\n**[SQL Micro-Course Home Page](https://www.kaggle.com/learn/SQL)**\n\n"
    }
  ],
  "metadata": {
    "kernelspec": {
      "display_name": "Python 3",
      "language": "python",
      "name": "python3"
    },
    "language_info": {
      "name": "python",
      "version": "3.6.6",
      "mimetype": "text/x-python",
      "codemirror_mode": {
        "name": "ipython",
        "version": 3
      },
      "pygments_lexer": "ipython3",
      "nbconvert_exporter": "python",
      "file_extension": ".py"
    }
  },
  "nbformat": 4,
  "nbformat_minor": 1
}