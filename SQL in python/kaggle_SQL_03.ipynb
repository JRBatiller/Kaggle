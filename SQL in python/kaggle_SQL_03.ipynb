{
  "cells": [
    {
      "metadata": {
        "_uuid": "20ca94373420b0473c078be4d1f799944b72f998"
      },
      "cell_type": "markdown",
      "source": "**[SQL Micro-Course Home Page](https://www.kaggle.com/learn/SQL)**\n\n---\n"
    },
    {
      "metadata": {
        "_uuid": "9fd53fbd3964b0819535ba2db6150d1cd39fd895"
      },
      "cell_type": "markdown",
      "source": "# Intro\n\nQueries with **GROUP BY** can be powerful. There are many small things that can trip you up (like the order of the clauses), but it will start to feel natural once you've done it a few times. Here, you'll continue write queries using **GROUP BY** to continue answering questions from the Hacker News dataset.\n\nBefore you get started, run the following cell to set everything up:"
    },
    {
      "metadata": {
        "_uuid": "79a5d9a10c7ec16d956d5819cdc066f3a6ac58f9",
        "trusted": true
      },
      "cell_type": "code",
      "source": "# Set up feedack system\nfrom learntools.core import binder\nbinder.bind(globals())\nfrom learntools.sql.ex3 import *\n\n# import package with helper functions \nimport bq_helper\n\n# create a helper object for this dataset\nhacker_news = bq_helper.BigQueryHelper(active_project=\"bigquery-public-data\",\n                                   dataset_name=\"hacker_news\")\n\n# print the first couple rows of the \"comments\" table\nhacker_news.head(\"comments\")",
      "execution_count": 8,
      "outputs": [
        {
          "output_type": "stream",
          "text": "WARNING:root:Ignoring repeated attempt to bind to globals\n",
          "name": "stderr"
        },
        {
          "output_type": "stream",
          "text": "Using Kaggle's public dataset BigQuery integration.\n",
          "name": "stdout"
        },
        {
          "output_type": "execute_result",
          "execution_count": 8,
          "data": {
            "text/plain": "         id  by author        time   ...      parent deleted  dead ranking\n0   2701393  5l     5l  1309184881   ...     2701243    None  None       0\n1   5811403  99     99  1370234048   ...     5804452    None  None       0\n2     21623  AF     AF  1178992400   ...       21611    None  None       0\n3  10159727  EA     EA  1441206574   ...    10159396    None  None       0\n4   2988424  Iv     Iv  1315853580   ...     2988179    None  None       0\n\n[5 rows x 10 columns]",
            "text/html": "<div>\n<style scoped>\n    .dataframe tbody tr th:only-of-type {\n        vertical-align: middle;\n    }\n\n    .dataframe tbody tr th {\n        vertical-align: top;\n    }\n\n    .dataframe thead th {\n        text-align: right;\n    }\n</style>\n<table border=\"1\" class=\"dataframe\">\n  <thead>\n    <tr style=\"text-align: right;\">\n      <th></th>\n      <th>id</th>\n      <th>by</th>\n      <th>author</th>\n      <th>time</th>\n      <th>time_ts</th>\n      <th>text</th>\n      <th>parent</th>\n      <th>deleted</th>\n      <th>dead</th>\n      <th>ranking</th>\n    </tr>\n  </thead>\n  <tbody>\n    <tr>\n      <th>0</th>\n      <td>2701393</td>\n      <td>5l</td>\n      <td>5l</td>\n      <td>1309184881</td>\n      <td>2011-06-27 14:28:01+00:00</td>\n      <td>And the glazier who fixed all the broken windo...</td>\n      <td>2701243</td>\n      <td>None</td>\n      <td>None</td>\n      <td>0</td>\n    </tr>\n    <tr>\n      <th>1</th>\n      <td>5811403</td>\n      <td>99</td>\n      <td>99</td>\n      <td>1370234048</td>\n      <td>2013-06-03 04:34:08+00:00</td>\n      <td>Does canada have the equivalent of H1B/Green c...</td>\n      <td>5804452</td>\n      <td>None</td>\n      <td>None</td>\n      <td>0</td>\n    </tr>\n    <tr>\n      <th>2</th>\n      <td>21623</td>\n      <td>AF</td>\n      <td>AF</td>\n      <td>1178992400</td>\n      <td>2007-05-12 17:53:20+00:00</td>\n      <td>Speaking of Rails, there are other options in ...</td>\n      <td>21611</td>\n      <td>None</td>\n      <td>None</td>\n      <td>0</td>\n    </tr>\n    <tr>\n      <th>3</th>\n      <td>10159727</td>\n      <td>EA</td>\n      <td>EA</td>\n      <td>1441206574</td>\n      <td>2015-09-02 15:09:34+00:00</td>\n      <td>Humans and large livestock (and maybe even pet...</td>\n      <td>10159396</td>\n      <td>None</td>\n      <td>None</td>\n      <td>0</td>\n    </tr>\n    <tr>\n      <th>4</th>\n      <td>2988424</td>\n      <td>Iv</td>\n      <td>Iv</td>\n      <td>1315853580</td>\n      <td>2011-09-12 18:53:00+00:00</td>\n      <td>I must say I reacted in the same way when I re...</td>\n      <td>2988179</td>\n      <td>None</td>\n      <td>None</td>\n      <td>0</td>\n    </tr>\n  </tbody>\n</table>\n</div>"
          },
          "metadata": {}
        }
      ]
    },
    {
      "metadata": {
        "_uuid": "e12e3106baf96b306ec6f0c95540a51d668e4836"
      },
      "cell_type": "markdown",
      "source": "# Question\nUsing the Hacker News dataset in BigQuery, answer the following questions:\n\n#### 1) Hacker News would like to send awards to everyone who has written more than 10,000 posts. Write a query that returns all authors with more than 10,000 posts as well as their post counts. Call the column with post counts NumPosts.\n\nIn case sample query is helpful, here is a query you saw in the tutorial to answer a similar question:\n```\nquery = \"\"\"SELECT parent, COUNT(id) NumPosts\n            FROM `bigquery-public-data.hacker_news.comments`\n            GROUP BY parent\n            HAVING COUNT(id) > 10\n        \"\"\"\npopular_stories = hacker_news.query_to_pandas_safe(query)\n```"
    },
    {
      "metadata": {
        "_uuid": "0cb07ea99b5bbe1a516fbad879694fe6cf56e019",
        "trusted": true
      },
      "cell_type": "code",
      "source": "# Your Code Here\n\nprolific_commenters_query = \"\"\"SELECT author, COUNT(id) NumPosts\n            FROM `bigquery-public-data.hacker_news.comments`\n            GROUP BY author\n            HAVING COUNT(id) > 10000\n        \"\"\"\n\n\nprolific_commenters = hacker_news.query_to_pandas_safe(prolific_commenters_query)\nprint(prolific_commenters)\n\nq_1.check()",
      "execution_count": 9,
      "outputs": [
        {
          "output_type": "stream",
          "text": "          author  NumPosts\n0            eru     10448\n1        rbanffy     10557\n2   dragonwriter     10723\n3           None    227736\n4          DanBC     12902\n5          sp332     10882\n6         davidw     10764\n7        rayiner     11080\n8        tptacek     33839\n9       jacquesm     21107\n10      jrockway     13626\n11     anigbrowl     11395\n12    stcredzero     10092\n",
          "name": "stdout"
        },
        {
          "output_type": "display_data",
          "data": {
            "text/plain": "<IPython.core.display.Javascript object>",
            "application/javascript": "parent.postMessage({\"jupyterEvent\": \"custom.exercise_interaction\", \"data\": {\"outcomeType\": 2, \"failureMessage\": \"Incorrect value for `prolific_commenters`\", \"interactionType\": 1, \"learnTutorialId\": 79, \"questionId\": \"1_ProlificCommenters\", \"learnToolsVersion\": \"0.2.12\", \"valueTowardsCompletion\": 0.0, \"exceptionClass\": \"\", \"trace\": \"\"}}, \"*\")"
          },
          "metadata": {}
        },
        {
          "output_type": "display_data",
          "data": {
            "text/plain": "Incorrect: Incorrect value for `prolific_commenters`",
            "text/markdown": "<span style=\"color:#cc3333\">Incorrect:</span> Incorrect value for `prolific_commenters`"
          },
          "metadata": {}
        }
      ]
    },
    {
      "metadata": {
        "_uuid": "e93a023d330db985ae70117715cfe6ed26d59eeb",
        "trusted": true
      },
      "cell_type": "code",
      "source": " q_1.solution()",
      "execution_count": null,
      "outputs": []
    },
    {
      "metadata": {
        "_uuid": "48cdbabc3708f08ee963c3f73978d5183fa81a59"
      },
      "cell_type": "markdown",
      "source": "#### 2) How many comments have been deleted? (If a comment was deleted the \"deleted\" column in the comments table will have the value 'True'.)"
    },
    {
      "metadata": {
        "_uuid": "fcb8327bbc874e011643347433ef53931457f344",
        "trusted": true
      },
      "cell_type": "code",
      "source": "# Write your query here and figure out the answer\nquery = \"\"\"SELECT COUNT(id) num_del\n            FROM `bigquery-public-data.hacker_news.comments`\n            WHERE deleted = True\n        \"\"\"\ndeleted_comments = hacker_news.query_to_pandas_safe(query)\nprint(deleted_comments)",
      "execution_count": 15,
      "outputs": [
        {
          "output_type": "stream",
          "text": "   num_del\n0   227736\n",
          "name": "stdout"
        }
      ]
    },
    {
      "metadata": {
        "_uuid": "3c8ae23dcc5920e87cbb39045f251d132cf0c164",
        "trusted": true
      },
      "cell_type": "code",
      "source": "# Submit the answer by setting the following value\nnum_deleted_posts = 227736\n\nq_2.check()",
      "execution_count": 16,
      "outputs": [
        {
          "output_type": "display_data",
          "data": {
            "text/plain": "<IPython.core.display.Javascript object>",
            "application/javascript": "parent.postMessage({\"jupyterEvent\": \"custom.exercise_interaction\", \"data\": {\"outcomeType\": 1, \"valueTowardsCompletion\": 0.5, \"interactionType\": 1, \"learnTutorialId\": 79, \"questionId\": \"2_NumDeletedPosts\", \"learnToolsVersion\": \"0.2.12\", \"failureMessage\": \"\", \"exceptionClass\": \"\", \"trace\": \"\"}}, \"*\")"
          },
          "metadata": {}
        },
        {
          "output_type": "display_data",
          "data": {
            "text/plain": "Correct",
            "text/markdown": "<span style=\"color:#33cc33\">Correct</span>"
          },
          "metadata": {}
        }
      ]
    },
    {
      "metadata": {
        "_uuid": "a43a61d20860cc0d702e69e87c73a68ead3c5093",
        "trusted": true
      },
      "cell_type": "code",
      "source": " q_2.solution()",
      "execution_count": 11,
      "outputs": [
        {
          "output_type": "display_data",
          "data": {
            "text/plain": "<IPython.core.display.Javascript object>",
            "application/javascript": "parent.postMessage({\"jupyterEvent\": \"custom.exercise_interaction\", \"data\": {\"interactionType\": 3, \"learnTutorialId\": 79, \"questionId\": \"2_NumDeletedPosts\", \"learnToolsVersion\": \"0.2.12\", \"valueTowardsCompletion\": 0.0, \"failureMessage\": \"\", \"exceptionClass\": \"\", \"trace\": \"\", \"outcomeType\": 4}}, \"*\")"
          },
          "metadata": {}
        },
        {
          "output_type": "display_data",
          "data": {
            "text/plain": "Solution: \n```python\n\ndeleted_posts_query = \"\"\"SELECT COUNT(id) num_deleted_posts\n            FROM `bigquery-public-data.hacker_news.comments`\n            WHERE deleted = True\n        \"\"\"\ndeleted_posts_results = hacker_news.query_to_pandas_safe(deleted_posts_query)\nnum_deleted_posts = 227736\n\n```",
            "text/markdown": "<span style=\"color:#33cc99\">Solution:</span> \n```python\n\ndeleted_posts_query = \"\"\"SELECT COUNT(id) num_deleted_posts\n            FROM `bigquery-public-data.hacker_news.comments`\n            WHERE deleted = True\n        \"\"\"\ndeleted_posts_results = hacker_news.query_to_pandas_safe(deleted_posts_query)\nnum_deleted_posts = 227736\n\n```"
          },
          "metadata": {}
        }
      ]
    },
    {
      "metadata": {
        "_uuid": "da346728b9fae850d15db7e995ee26055ddc2a49"
      },
      "cell_type": "markdown",
      "source": "---\n\n# Keep Going\n**[Click here](https://www.kaggle.com/dansbecker/order-by)** to move on and learn about the ORDER BY clause.\n"
    },
    {
      "metadata": {
        "_uuid": "58314d6a345927102c1de9c1b560deea405edf59"
      },
      "cell_type": "markdown",
      "source": "---\n**[SQL Micro-Course Home Page](https://www.kaggle.com/learn/SQL)**\n\n"
    }
  ],
  "metadata": {
    "kernelspec": {
      "display_name": "Python 3",
      "language": "python",
      "name": "python3"
    },
    "language_info": {
      "name": "python",
      "version": "3.6.6",
      "mimetype": "text/x-python",
      "codemirror_mode": {
        "name": "ipython",
        "version": 3
      },
      "pygments_lexer": "ipython3",
      "nbconvert_exporter": "python",
      "file_extension": ".py"
    }
  },
  "nbformat": 4,
  "nbformat_minor": 1
}