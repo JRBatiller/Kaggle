{
  "cells": [
    {
      "metadata": {
        "_uuid": "7cc3b030906cf6cd8c65b4d53785d2861b0527a1"
      },
      "cell_type": "markdown",
      "source": "**[SQL Micro-Course Home Page](https://www.kaggle.com/learn/SQL)**\n\n---\n"
    },
    {
      "metadata": {
        "_uuid": "d4ddd04810b8144faad14ac9eb5d690b6e26cd5f"
      },
      "cell_type": "markdown",
      "source": "# Introduction\n\nStack Overflow (stackoverflow.com) is a widely beloved Question and Answer site for technical questions. You'll probably use it yourself as you keep using SQL (or any programming language). \n\nTheir data is publicly available. What cool things do you think it would be useful for?\n\nHere's one idea:\nYou could set up a service that identifies the Stack Overflow users who have demonstrated expertise with a specific technology by answering related questions about it, so someone could hire those experts for in-depth help.\n\nIn this exercise, you'll write the SQL queries that might serve as the foundation for this type of service.\n\nAs usual, run the following cell to set up our feedback system before moving on."
    },
    {
      "metadata": {
        "_uuid": "13c9aeaa0487de15d226a72ca028b336dbc8b078",
        "trusted": true
      },
      "cell_type": "code",
      "source": "# Set up feedack system\nfrom learntools.core import binder\nbinder.bind(globals())\nfrom learntools.sql.ex6 import *\n\n# import package with helper functions \nimport bq_helper\n\n# create a helper object for this dataset\nstack_overflow = bq_helper.BigQueryHelper(active_project=\"bigquery-public-data\",\n                                              dataset_name=\"stackoverflow\")",
      "execution_count": 1,
      "outputs": [
        {
          "output_type": "stream",
          "text": "Using Kaggle's public dataset BigQuery integration.\n",
          "name": "stdout"
        }
      ]
    },
    {
      "metadata": {
        "_uuid": "bc196aefb95cf25e42ce7ce5616614f02c251ba0"
      },
      "cell_type": "markdown",
      "source": "# Questions\n\n# 1) Explore the Data\n\nBefore writing queries or **JOIN** clauses, you'll want to see what tables are available. \n\nThis may be a good time to practice **tab completion** for when you don't remember command names. If you type `stack_overflow.` and then hit tab, you will see a list of methods for the `stack_overflow` object (don't forget the dot before hitting tab.)"
    },
    {
      "metadata": {
        "_uuid": "353be11d6196bbb4ec87e49c5cc36435ee5e0b82",
        "trusted": true
      },
      "cell_type": "code",
      "source": "# Your code here\n\nlist_of_tables = stack_overflow.list_tables()    # get a list of available tables\n\nprint(list_of_tables)\nq_1.check()",
      "execution_count": 3,
      "outputs": [
        {
          "output_type": "stream",
          "text": "['badges', 'comments', 'post_history', 'post_links', 'posts_answers', 'posts_moderator_nomination', 'posts_orphaned_tag_wiki', 'posts_privilege_wiki', 'posts_questions', 'posts_tag_wiki', 'posts_tag_wiki_excerpt', 'posts_wiki_placeholder', 'stackoverflow_posts', 'tags', 'users', 'votes']\n",
          "name": "stdout"
        },
        {
          "output_type": "display_data",
          "data": {
            "text/plain": "<IPython.core.display.Javascript object>",
            "application/javascript": "parent.postMessage({\"jupyterEvent\": \"custom.exercise_interaction\", \"data\": {\"outcomeType\": 1, \"valueTowardsCompletion\": 0.25, \"interactionType\": 1, \"learnTutorialId\": 82, \"questionId\": \"1_ListSOTables\", \"learnToolsVersion\": \"0.2.12\", \"failureMessage\": \"\", \"exceptionClass\": \"\", \"trace\": \"\"}}, \"*\")"
          },
          "metadata": {}
        },
        {
          "output_type": "display_data",
          "data": {
            "text/plain": "Correct",
            "text/markdown": "<span style=\"color:#33cc33\">Correct</span>"
          },
          "metadata": {}
        }
      ]
    },
    {
      "metadata": {
        "_uuid": "a035683f845b599bbe1914aed2cb07dabd6ee23d",
        "trusted": false
      },
      "cell_type": "code",
      "source": "# q_1.solution()",
      "execution_count": null,
      "outputs": []
    },
    {
      "metadata": {
        "_uuid": "a041e8fecf07d132557669b95168a40ccadc4214"
      },
      "cell_type": "markdown",
      "source": "# 2) Review Relevant Tables\n\nIf you are interested in people who answer questions on a given topic, the `posts_answers` table is a natural place to look. Run the following cell and look at the output."
    },
    {
      "metadata": {
        "_uuid": "548ff509f30e2fd688d7276049b7b7e1bd742bd5",
        "trusted": true
      },
      "cell_type": "code",
      "source": "stack_overflow.head('posts_answers')",
      "execution_count": 4,
      "outputs": [
        {
          "output_type": "execute_result",
          "execution_count": 4,
          "data": {
            "text/plain": "         id                                               body ...   score tags\n0   4058478  <p>Restart netbeans. I had a similar problem a... ...       1     \n1   4187003  <p>All URLs within the page are relative to th... ...       0     \n2   8621524  <p>It sounds like responsiveness to the API ca... ...       1     \n3   6553106  <p>Yes. That's the (one of) the points of Hash... ...       0     \n4  23032552  <p>I think I found the problem. I changed the ... ...       3     \n\n[5 rows x 15 columns]",
            "text/html": "<div>\n<style scoped>\n    .dataframe tbody tr th:only-of-type {\n        vertical-align: middle;\n    }\n\n    .dataframe tbody tr th {\n        vertical-align: top;\n    }\n\n    .dataframe thead th {\n        text-align: right;\n    }\n</style>\n<table border=\"1\" class=\"dataframe\">\n  <thead>\n    <tr style=\"text-align: right;\">\n      <th></th>\n      <th>id</th>\n      <th>body</th>\n      <th>comment_count</th>\n      <th>community_owned_date</th>\n      <th>creation_date</th>\n      <th>last_activity_date</th>\n      <th>last_edit_date</th>\n      <th>last_editor_display_name</th>\n      <th>last_editor_user_id</th>\n      <th>owner_display_name</th>\n      <th>owner_user_id</th>\n      <th>parent_id</th>\n      <th>post_type_id</th>\n      <th>score</th>\n      <th>tags</th>\n    </tr>\n  </thead>\n  <tbody>\n    <tr>\n      <th>0</th>\n      <td>4058478</td>\n      <td>&lt;p&gt;Restart netbeans. I had a similar problem a...</td>\n      <td>2</td>\n      <td>None</td>\n      <td>2010-10-30 11:28:36.983000+00:00</td>\n      <td>2010-10-30 11:28:36.983000+00:00</td>\n      <td>None</td>\n      <td></td>\n      <td>None</td>\n      <td></td>\n      <td>409468.0</td>\n      <td>4057995</td>\n      <td>2</td>\n      <td>1</td>\n      <td></td>\n    </tr>\n    <tr>\n      <th>1</th>\n      <td>4187003</td>\n      <td>&lt;p&gt;All URLs within the page are relative to th...</td>\n      <td>0</td>\n      <td>None</td>\n      <td>2010-11-15 17:16:15.927000+00:00</td>\n      <td>2010-11-15 17:16:15.927000+00:00</td>\n      <td>None</td>\n      <td></td>\n      <td>None</td>\n      <td></td>\n      <td>439213.0</td>\n      <td>4184800</td>\n      <td>2</td>\n      <td>0</td>\n      <td></td>\n    </tr>\n    <tr>\n      <th>2</th>\n      <td>8621524</td>\n      <td>&lt;p&gt;It sounds like responsiveness to the API ca...</td>\n      <td>0</td>\n      <td>None</td>\n      <td>2011-12-23 23:25:45.430000+00:00</td>\n      <td>2011-12-23 23:25:45.430000+00:00</td>\n      <td>None</td>\n      <td></td>\n      <td>None</td>\n      <td></td>\n      <td>1114079.0</td>\n      <td>8595650</td>\n      <td>2</td>\n      <td>1</td>\n      <td></td>\n    </tr>\n    <tr>\n      <th>3</th>\n      <td>6553106</td>\n      <td>&lt;p&gt;Yes. That's the (one of) the points of Hash...</td>\n      <td>2</td>\n      <td>None</td>\n      <td>2011-07-01 20:51:33.830000+00:00</td>\n      <td>2011-07-01 20:51:33.830000+00:00</td>\n      <td>None</td>\n      <td></td>\n      <td>None</td>\n      <td></td>\n      <td>13956.0</td>\n      <td>6553067</td>\n      <td>2</td>\n      <td>0</td>\n      <td></td>\n    </tr>\n    <tr>\n      <th>4</th>\n      <td>23032552</td>\n      <td>&lt;p&gt;I think I found the problem. I changed the ...</td>\n      <td>0</td>\n      <td>None</td>\n      <td>2014-04-12 15:43:59.437000+00:00</td>\n      <td>2014-04-12 15:43:59.437000+00:00</td>\n      <td>None</td>\n      <td></td>\n      <td>None</td>\n      <td>user3413108</td>\n      <td>NaN</td>\n      <td>22366517</td>\n      <td>2</td>\n      <td>3</td>\n      <td></td>\n    </tr>\n  </tbody>\n</table>\n</div>"
          },
          "metadata": {}
        }
      ]
    },
    {
      "metadata": {
        "_uuid": "f1c6189fb7d49e53ea3f7f2db85218b9d7c330d5"
      },
      "cell_type": "markdown",
      "source": "It isn't clear yet how to the find users who answered questions on any given topic. But `posts_answers` has a `parent_id` column. If you are familiar with the Stack Overflow site, you might figure out that the `parent_id` is the question each post is answering.\n\nLook at `posts_questions` using the line below."
    },
    {
      "metadata": {
        "_uuid": "b47059bead84a0f9b26827b1ab5274cd4217804b",
        "trusted": true
      },
      "cell_type": "code",
      "source": "stack_overflow.head('posts_questions')",
      "execution_count": 5,
      "outputs": [
        {
          "output_type": "execute_result",
          "execution_count": 5,
          "data": {
            "text/plain": "         id    ...     view_count\n0  23280293    ...            266\n1   5787776    ...          10505\n2  51899406    ...             53\n3  29219176    ...            427\n4  45545053    ...             30\n\n[5 rows x 19 columns]",
            "text/html": "<div>\n<style scoped>\n    .dataframe tbody tr th:only-of-type {\n        vertical-align: middle;\n    }\n\n    .dataframe tbody tr th {\n        vertical-align: top;\n    }\n\n    .dataframe thead th {\n        text-align: right;\n    }\n</style>\n<table border=\"1\" class=\"dataframe\">\n  <thead>\n    <tr style=\"text-align: right;\">\n      <th></th>\n      <th>id</th>\n      <th>title</th>\n      <th>body</th>\n      <th>accepted_answer_id</th>\n      <th>answer_count</th>\n      <th>comment_count</th>\n      <th>community_owned_date</th>\n      <th>creation_date</th>\n      <th>favorite_count</th>\n      <th>last_activity_date</th>\n      <th>last_edit_date</th>\n      <th>last_editor_display_name</th>\n      <th>last_editor_user_id</th>\n      <th>owner_display_name</th>\n      <th>owner_user_id</th>\n      <th>post_type_id</th>\n      <th>score</th>\n      <th>tags</th>\n      <th>view_count</th>\n    </tr>\n  </thead>\n  <tbody>\n    <tr>\n      <th>0</th>\n      <td>23280293</td>\n      <td>Jasper report data summary</td>\n      <td>&lt;p&gt;I am trying to create a report to display a...</td>\n      <td>23373319.0</td>\n      <td>1</td>\n      <td>2</td>\n      <td>None</td>\n      <td>2014-04-24 21:33:46.787000+00:00</td>\n      <td>NaN</td>\n      <td>2014-05-01 13:37:52.027000+00:00</td>\n      <td>2014-05-01 13:37:52.027000+00:00</td>\n      <td></td>\n      <td>321731</td>\n      <td></td>\n      <td>1214943</td>\n      <td>1</td>\n      <td>0</td>\n      <td>filter|jasper-reports|summary</td>\n      <td>266</td>\n    </tr>\n    <tr>\n      <th>1</th>\n      <td>5787776</td>\n      <td>A worthy developer-friendly alternative to PayPal</td>\n      <td>&lt;p&gt;I understand payments are a tricky thing, b...</td>\n      <td>NaN</td>\n      <td>8</td>\n      <td>9</td>\n      <td>None</td>\n      <td>2011-04-26 08:28:37.397000+00:00</td>\n      <td>40.0</td>\n      <td>2013-03-19 01:57:09.860000+00:00</td>\n      <td>2013-03-19 01:57:09.860000+00:00</td>\n      <td></td>\n      <td>772853</td>\n      <td></td>\n      <td>50841</td>\n      <td>1</td>\n      <td>95</td>\n      <td>paypal|payment-gateway|payment|credit-card</td>\n      <td>10505</td>\n    </tr>\n    <tr>\n      <th>2</th>\n      <td>51899406</td>\n      <td>Why does adding a destructor (even empty) brea...</td>\n      <td>&lt;p&gt;I am making a class to store a reference to...</td>\n      <td>NaN</td>\n      <td>1</td>\n      <td>0</td>\n      <td>None</td>\n      <td>2018-08-17 16:17:18.367000+00:00</td>\n      <td>NaN</td>\n      <td>2018-08-17 17:08:03.690000+00:00</td>\n      <td>2018-08-17 17:08:03.690000+00:00</td>\n      <td></td>\n      <td>241631</td>\n      <td></td>\n      <td>3662349</td>\n      <td>1</td>\n      <td>3</td>\n      <td>c++|c++11|templates|perfect-forwarding</td>\n      <td>53</td>\n    </tr>\n    <tr>\n      <th>3</th>\n      <td>29219176</td>\n      <td>Java Math.pow(x,2.0) vs Math.pow(x,2.0000001) ...</td>\n      <td>&lt;p&gt;I am trying to compare performance of &lt;code...</td>\n      <td>29232947.0</td>\n      <td>1</td>\n      <td>8</td>\n      <td>None</td>\n      <td>2015-03-23 19:55:25.693000+00:00</td>\n      <td>2.0</td>\n      <td>2016-07-19 21:48:22.440000+00:00</td>\n      <td>2016-07-19 21:48:22.440000+00:00</td>\n      <td></td>\n      <td>2753863</td>\n      <td></td>\n      <td>2739693</td>\n      <td>1</td>\n      <td>5</td>\n      <td>java|performance</td>\n      <td>427</td>\n    </tr>\n    <tr>\n      <th>4</th>\n      <td>45545053</td>\n      <td>rioBufferWrite function Redis updating position</td>\n      <td>&lt;p&gt;When I am reading the code of &lt;a href=\"http...</td>\n      <td>NaN</td>\n      <td>0</td>\n      <td>6</td>\n      <td>None</td>\n      <td>2017-08-07 10:46:21.007000+00:00</td>\n      <td>NaN</td>\n      <td>2017-08-07 10:57:45.507000+00:00</td>\n      <td>2017-08-07 10:57:45.507000+00:00</td>\n      <td></td>\n      <td>8051589</td>\n      <td></td>\n      <td>7700616</td>\n      <td>1</td>\n      <td>1</td>\n      <td>c|redis</td>\n      <td>30</td>\n    </tr>\n  </tbody>\n</table>\n</div>"
          },
          "metadata": {}
        }
      ]
    },
    {
      "metadata": {
        "_uuid": "c2efb4c161371ad03653e6ed0fb4e6b440402920"
      },
      "cell_type": "markdown",
      "source": "Are there any fields that identify what topic or technology each question is about?\n\nIf so, how could you find the user ID\\'s of users who answered questions about a specific topic?\n\nThink about it, then check the solution by running the code in the next cell."
    },
    {
      "metadata": {
        "_uuid": "590d1978d25c42cf9ad5926a3a7a03d6aafc8ba1",
        "trusted": true
      },
      "cell_type": "code",
      "source": "q_2.solution()",
      "execution_count": 6,
      "outputs": [
        {
          "output_type": "display_data",
          "data": {
            "text/plain": "<IPython.core.display.Javascript object>",
            "application/javascript": "parent.postMessage({\"jupyterEvent\": \"custom.exercise_interaction\", \"data\": {\"interactionType\": 3, \"learnTutorialId\": 82, \"questionId\": \"2_HowToFindExperts\", \"learnToolsVersion\": \"0.2.12\", \"valueTowardsCompletion\": 0.0, \"failureMessage\": \"\", \"exceptionClass\": \"\", \"trace\": \"\", \"outcomeType\": 4}}, \"*\")"
          },
          "metadata": {}
        },
        {
          "output_type": "display_data",
          "data": {
            "text/plain": "Solution: \n`posts_questions` has a column called `tags` which lists the topics/technologies each question is about.\n\n`posts_answers` has a column called `parent_id` which identifies the id of the question each answer is responding to.\n`posts_answers` also has an `owner_user_id` column which specifies the user_id that wrote each answer.\n\nYou can join these two tables to determine the `tags` for each answer.\n\nThen select the `owner_user_id` of the answers on the desired tag.\n\nThis is exactly what you will do over the next few questions.",
            "text/markdown": "<span style=\"color:#33cc99\">Solution:</span> \n`posts_questions` has a column called `tags` which lists the topics/technologies each question is about.\n\n`posts_answers` has a column called `parent_id` which identifies the id of the question each answer is responding to.\n`posts_answers` also has an `owner_user_id` column which specifies the user_id that wrote each answer.\n\nYou can join these two tables to determine the `tags` for each answer.\n\nThen select the `owner_user_id` of the answers on the desired tag.\n\nThis is exactly what you will do over the next few questions.\n"
          },
          "metadata": {}
        }
      ]
    },
    {
      "metadata": {
        "_uuid": "ab1a7115ddb159bf612816080db188b4bc3631ca"
      },
      "cell_type": "markdown",
      "source": "# 3 Selecting The Right Questions\n\nA lot of this data is text. \n\nHere is one last technique you'll learn in this course which you can apply to this text:\n\nA **WHERE** clause can limit your results to rows with certain text using the **LIKE** feature. For example, to select just the third row of the `pets` table, we would write\n\n`SELECT * FROM PETS WHERE NAME LIKE 'Ripley'`\n\n![](https://i.imgur.com/Ef4Puo3.png)\n\nYou can also use `%` as a \"wildcard\" for any number of characters. So you can get the third row with \n\n`SELECT * FROM PETS WHERE NAME LIKE '%ipl%'`\n\nTry this yourself.\nBefore finding users who have answered questions, write a query that selects the `id`, `title` and `owner_user_id` from the `posts_questions` table. Restrict the results to rows that contain the word **bigquery** in the `tags` column. Include rows where there is other text in addition to the word `bigquery` (e.g. if a row has a tag `bigquery-sql`, your results should include that too)."
    },
    {
      "metadata": {
        "_uuid": "66ea10ab9279afe24e2716067045461b719c81fd",
        "trusted": true
      },
      "cell_type": "code",
      "source": "# Your code here\nquestions_query = \"\"\"\nSELECT id, title, owner_user_id\nFROM `bigquery-public-data.stackoverflow.posts_questions`\nWHERE tags LIKE '%bigquery%'\n\"\"\"\n\nquestions_results = stack_overflow.query_to_pandas_safe(questions_query, max_gb_scanned=25) # this query reads a lot of data\nprint(questions_results.head())\nq_3.check()\n",
      "execution_count": 11,
      "outputs": [
        {
          "output_type": "stream",
          "text": "         id      ...      owner_user_id\n0  54633599      ...          1921782.0\n1  31651171      ...          4823018.0\n2  52836540      ...         10509154.0\n3  37751331      ...          1291563.0\n4  52835571      ...          5409591.0\n\n[5 rows x 3 columns]\n",
          "name": "stdout"
        },
        {
          "output_type": "display_data",
          "data": {
            "text/plain": "<IPython.core.display.Javascript object>",
            "application/javascript": "parent.postMessage({\"jupyterEvent\": \"custom.exercise_interaction\", \"data\": {\"outcomeType\": 1, \"valueTowardsCompletion\": 0.25, \"interactionType\": 1, \"learnTutorialId\": 82, \"questionId\": \"3_SelectRightQuestions\", \"learnToolsVersion\": \"0.2.12\", \"failureMessage\": \"\", \"exceptionClass\": \"\", \"trace\": \"\"}}, \"*\")"
          },
          "metadata": {}
        },
        {
          "output_type": "display_data",
          "data": {
            "text/plain": "Correct",
            "text/markdown": "<span style=\"color:#33cc33\">Correct</span>"
          },
          "metadata": {}
        }
      ]
    },
    {
      "metadata": {
        "_uuid": "28b5129d9abbf25de1648f198c312d95274cab34",
        "trusted": false
      },
      "cell_type": "code",
      "source": "# q_3.hint()\n# q_3.solution()",
      "execution_count": null,
      "outputs": []
    },
    {
      "metadata": {
        "_uuid": "86bd817804dcec791075fd25bc391428b5562a28"
      },
      "cell_type": "markdown",
      "source": "# 4 Your First Join\nNow that you have a query to select questions on any given topic (in this case, you chose `bigquery`), you can find the answers to those questions with a **JOIN**.  \n\nWrite a SQL query that returns the `id`, `body` and `owner_user_id` from the `posts_answers` table for answers to `bigquery` related questions. That is, you should have one row in your results for each answer to a question that has a `bigquery` in the tag.\n\nHere's a reminder of what a **JOIN** looked like in the tutorial\n```\nSELECT p.Name AS Pet_Name, o.Name as Owner_Name\nFROM `bigquery-public-data.pet_records.pets` as p\nINNER JOIN `bigquery-public-data.pet_records.owners` as o ON p.ID = o.Pet_ID\n```\n\nIt may be useful to scroll up and review the results from when you called **head** on `posts_answers` and `posts_questions`.  "
    },
    {
      "metadata": {
        "_uuid": "3cf731bdc1de67bf32c4145627979bb18507d20a",
        "trusted": true
      },
      "cell_type": "code",
      "source": "from time import time\n\n\nanswers_query = \\\n\"\"\"\nSELECT a.id, a.body, a.owner_user_id\nFROM `bigquery-public-data.stackoverflow.posts_questions` q INNER JOIN `bigquery-public-data.stackoverflow.posts_answers` a ON q.id =a.parent_id\nWHERE q.tags like '%bigquery%'\n\n\"\"\"\n\nanswers_results = stack_overflow.query_to_pandas_safe(answers_query, max_gb_scanned=50) # query scans more than 1GB of data, but less than 2.\nprint(answers_results.head())\nq_4.check()",
      "execution_count": 15,
      "outputs": [
        {
          "output_type": "stream",
          "text": "         id      ...      owner_user_id\n0  43261753      ...          1927782.0\n1  24448346      ...          1301788.0\n2  49463702      ...          1180092.0\n3  27868457      ...          3273514.0\n4  44013368      ...          7376017.0\n\n[5 rows x 3 columns]\n",
          "name": "stdout"
        },
        {
          "output_type": "display_data",
          "data": {
            "text/plain": "<IPython.core.display.Javascript object>",
            "application/javascript": "parent.postMessage({\"jupyterEvent\": \"custom.exercise_interaction\", \"data\": {\"outcomeType\": 1, \"valueTowardsCompletion\": 0.25, \"interactionType\": 1, \"learnTutorialId\": 82, \"questionId\": \"4_FirstJoin\", \"learnToolsVersion\": \"0.2.12\", \"failureMessage\": \"\", \"exceptionClass\": \"\", \"trace\": \"\"}}, \"*\")"
          },
          "metadata": {}
        },
        {
          "output_type": "display_data",
          "data": {
            "text/plain": "Correct",
            "text/markdown": "<span style=\"color:#33cc33\">Correct</span>"
          },
          "metadata": {}
        }
      ]
    },
    {
      "metadata": {
        "_uuid": "61111b04b547b3a729382476715d54251efab016",
        "trusted": true
      },
      "cell_type": "code",
      "source": " q_4.hint()\n q_4.solution()",
      "execution_count": 13,
      "outputs": [
        {
          "output_type": "display_data",
          "data": {
            "text/plain": "<IPython.core.display.Javascript object>",
            "application/javascript": "parent.postMessage({\"jupyterEvent\": \"custom.exercise_interaction\", \"data\": {\"interactionType\": 2, \"learnTutorialId\": 82, \"questionId\": \"4_FirstJoin\", \"learnToolsVersion\": \"0.2.12\", \"valueTowardsCompletion\": 0.0, \"failureMessage\": \"\", \"exceptionClass\": \"\", \"trace\": \"\", \"outcomeType\": 4}}, \"*\")"
          },
          "metadata": {}
        },
        {
          "output_type": "display_data",
          "data": {
            "text/plain": "Hint: Do an inner JOIN between `bigquery-public-data.stackoverflow.posts_questions` and  `bigquery-public-data.stackoverflow.posts_answers`.\n\n    You will want to give both of them aliases. Call `post_questions` q and call `posts_answers` a. The `ON` part of your join is `q.id = a.parent_id`\n    ",
            "text/markdown": "<span style=\"color:#3366cc\">Hint:</span> Do an inner JOIN between `bigquery-public-data.stackoverflow.posts_questions` and  `bigquery-public-data.stackoverflow.posts_answers`.\n\n    You will want to give both of them aliases. Call `post_questions` q and call `posts_answers` a. The `ON` part of your join is `q.id = a.parent_id`\n    "
          },
          "metadata": {}
        },
        {
          "output_type": "display_data",
          "data": {
            "text/plain": "<IPython.core.display.Javascript object>",
            "application/javascript": "parent.postMessage({\"jupyterEvent\": \"custom.exercise_interaction\", \"data\": {\"interactionType\": 3, \"learnTutorialId\": 82, \"questionId\": \"4_FirstJoin\", \"learnToolsVersion\": \"0.2.12\", \"valueTowardsCompletion\": 0.0, \"failureMessage\": \"\", \"exceptionClass\": \"\", \"trace\": \"\", \"outcomeType\": 4}}, \"*\")"
          },
          "metadata": {}
        },
        {
          "output_type": "display_data",
          "data": {
            "text/plain": "Solution: \n```python\n\nanswers_query = \"\"\"\nSELECT a.id, a.body, a.owner_user_id\nFROM `bigquery-public-data.stackoverflow.posts_questions` q INNER JOIN `bigquery-public-data.stackoverflow.posts_answers` a\n     ON q.id = a.parent_id\n     WHERE q.tags like '%bigquery%'\n\"\"\"\n\n```",
            "text/markdown": "<span style=\"color:#33cc99\">Solution:</span> \n```python\n\nanswers_query = \"\"\"\nSELECT a.id, a.body, a.owner_user_id\nFROM `bigquery-public-data.stackoverflow.posts_questions` q INNER JOIN `bigquery-public-data.stackoverflow.posts_answers` a\n     ON q.id = a.parent_id\n     WHERE q.tags like '%bigquery%'\n\"\"\"\n\n```"
          },
          "metadata": {}
        }
      ]
    },
    {
      "metadata": {
        "_uuid": "a978fa30e47c952fd59a04ff8cfb41661c2ef841"
      },
      "cell_type": "markdown",
      "source": "# 5 Answer The Question\nYou have the merge you need. But you want a list of users who have answered many questions... which requires more work beyond your previous result.\n\nWrite a new query that selects data from the `posts_questions` and `posts_answers` tables. The results should have a single row for each user who answered at least one questions with a tag that includes the string `bigquery`. Each row in your results should have two columns:\n- a column called `user_id` that contains the `owner_user_id` from the `posts_answers` table\n- a column called `number_of_answers` that contains the number of answers the user has written to `bigquery` questions"
    },
    {
      "metadata": {
        "_uuid": "e6756b85e431a2025c53cd270c130db92ad1139f",
        "trusted": true
      },
      "cell_type": "code",
      "source": "# your code here\nbigquery_experts_query = \"\"\"SELECT a.owner_user_id AS user_id, COUNT(1) number_of_answers\n                  FROM `bigquery-public-data.stackoverflow.posts_questions` q\n                        INNER JOIN `bigquery-public-data.stackoverflow.posts_answers` a\n                        ON q.id = a.parent_Id\n                  WHERE q.tags like '%bigquery%'\n                  GROUP BY a.owner_user_id\"\"\"\n\nbigquery_experts_results = stack_overflow.query_to_pandas_safe(bigquery_experts_query, max_gb_scanned=2)\nprint(bigquery_experts_results)\nq_5.check()",
      "execution_count": 18,
      "outputs": [
        {
          "output_type": "stream",
          "text": "         user_id  number_of_answers\n0      1144035.0                360\n1      1451653.0                  1\n2      9959433.0                  2\n3      6823528.0                 25\n4      8260589.0                  4\n5      6392101.0                  1\n6      2417948.0                 43\n7       209103.0                 14\n8      1086525.0                  1\n9      2693816.0                 12\n10     7887524.0                  2\n11     3175061.0                  1\n12     4848113.0                 12\n13     3501729.0                  1\n14     1607103.0                  1\n15     7055640.0                  1\n16     5410848.0                  1\n17     4433386.0                  1\n18     9699649.0                  2\n19     1095540.0                  5\n20     8014999.0                  1\n21     1424049.0                  7\n22     2631505.0                  1\n23     5239549.0                 39\n24     4248226.0                  1\n25     2401981.0                  1\n26      278042.0                 33\n27     3615607.0                  1\n28     4064443.0                 17\n29     1364738.0                  3\n...          ...                ...\n2517   3879958.0                  1\n2518   5861618.0                  1\n2519   4716474.0                  1\n2520   3211047.0                  1\n2521    960362.0                  1\n2522    203335.0                  1\n2523  10038833.0                  1\n2524   4821960.0                  1\n2525  10497483.0                  1\n2526   4868543.0                  1\n2527   1205652.0                  1\n2528   4274130.0                  1\n2529   4322481.0                  1\n2530   2204851.0                  1\n2531      1835.0                  1\n2532    844921.0                  1\n2533   2943345.0                  1\n2534   5209935.0                  1\n2535    500776.0                  1\n2536   7647026.0                  1\n2537  10472089.0                  1\n2538   7305300.0                  1\n2539   3657742.0                  1\n2540   2691366.0                  1\n2541   6692077.0                  1\n2542   1647394.0                  1\n2543   5420008.0                  1\n2544   7058934.0                  1\n2545    108796.0                  1\n2546   3821154.0                  1\n\n[2547 rows x 2 columns]\n",
          "name": "stdout"
        },
        {
          "output_type": "display_data",
          "data": {
            "text/plain": "<IPython.core.display.Javascript object>",
            "application/javascript": "parent.postMessage({\"jupyterEvent\": \"custom.exercise_interaction\", \"data\": {\"outcomeType\": 1, \"valueTowardsCompletion\": 0.25, \"interactionType\": 1, \"learnTutorialId\": 82, \"questionId\": \"5_BigQueryExperts\", \"learnToolsVersion\": \"0.2.12\", \"failureMessage\": \"\", \"exceptionClass\": \"\", \"trace\": \"\"}}, \"*\")"
          },
          "metadata": {}
        },
        {
          "output_type": "display_data",
          "data": {
            "text/plain": "Correct",
            "text/markdown": "<span style=\"color:#33cc33\">Correct</span>"
          },
          "metadata": {}
        }
      ]
    },
    {
      "metadata": {
        "_uuid": "b7690fae77c4bc2f569239335c61f289f44b4b13",
        "trusted": true
      },
      "cell_type": "code",
      "source": " q_5.hint()\nq_5.solution()",
      "execution_count": 17,
      "outputs": [
        {
          "output_type": "display_data",
          "data": {
            "text/plain": "<IPython.core.display.Javascript object>",
            "application/javascript": "parent.postMessage({\"jupyterEvent\": \"custom.exercise_interaction\", \"data\": {\"interactionType\": 2, \"learnTutorialId\": 82, \"questionId\": \"5_BigQueryExperts\", \"learnToolsVersion\": \"0.2.12\", \"valueTowardsCompletion\": 0.0, \"failureMessage\": \"\", \"exceptionClass\": \"\", \"trace\": \"\", \"outcomeType\": 4}}, \"*\")"
          },
          "metadata": {}
        },
        {
          "output_type": "display_data",
          "data": {
            "text/plain": "Hint: Start with `SELECT a.owner_user_id AS user_id, COUNT(1) number_of_answers`",
            "text/markdown": "<span style=\"color:#3366cc\">Hint:</span> Start with `SELECT a.owner_user_id AS user_id, COUNT(1) number_of_answers`"
          },
          "metadata": {}
        },
        {
          "output_type": "display_data",
          "data": {
            "text/plain": "<IPython.core.display.Javascript object>",
            "application/javascript": "parent.postMessage({\"jupyterEvent\": \"custom.exercise_interaction\", \"data\": {\"interactionType\": 3, \"learnTutorialId\": 82, \"questionId\": \"5_BigQueryExperts\", \"learnToolsVersion\": \"0.2.12\", \"valueTowardsCompletion\": 0.0, \"failureMessage\": \"\", \"exceptionClass\": \"\", \"trace\": \"\", \"outcomeType\": 4}}, \"*\")"
          },
          "metadata": {}
        },
        {
          "output_type": "display_data",
          "data": {
            "text/plain": "Solution: \n```python\n\nbigquery_experts_query = \"\"\"SELECT a.owner_user_id AS user_id, COUNT(1) number_of_answers\n                  FROM `bigquery-public-data.stackoverflow.posts_questions` q\n                        INNER JOIN `bigquery-public-data.stackoverflow.posts_answers` a\n                        ON q.id = a.parent_Id\n                  WHERE q.tags like '%bigquery%'\n                  GROUP BY a.owner_user_id\"\"\"\n\nbigquery_experts_results = stack_overflow.query_to_pandas_safe(bigquery_experts_query, max_gb_scanned=2)\n\n```",
            "text/markdown": "<span style=\"color:#33cc99\">Solution:</span> \n```python\n\nbigquery_experts_query = \"\"\"SELECT a.owner_user_id AS user_id, COUNT(1) number_of_answers\n                  FROM `bigquery-public-data.stackoverflow.posts_questions` q\n                        INNER JOIN `bigquery-public-data.stackoverflow.posts_answers` a\n                        ON q.id = a.parent_Id\n                  WHERE q.tags like '%bigquery%'\n                  GROUP BY a.owner_user_id\"\"\"\n\nbigquery_experts_results = stack_overflow.query_to_pandas_safe(bigquery_experts_query, max_gb_scanned=2)\n\n```"
          },
          "metadata": {}
        }
      ]
    },
    {
      "metadata": {
        "_uuid": "c81e1a2b94ce9bd8e799fd2d90d6b68106cadf84"
      },
      "cell_type": "markdown",
      "source": "# Building A More Generally Useful Service\n\nHow could you convert what you've done so it's a general function a website could call on the backend to get experts on any topic?  \n\nThink about it and then check the solution below."
    },
    {
      "metadata": {
        "_uuid": "bbd411df98ccba471895b4f0ad2edb4cd908ad47",
        "trusted": true
      },
      "cell_type": "code",
      "source": " q_6.solution()",
      "execution_count": 19,
      "outputs": [
        {
          "output_type": "display_data",
          "data": {
            "text/plain": "<IPython.core.display.Javascript object>",
            "application/javascript": "parent.postMessage({\"jupyterEvent\": \"custom.exercise_interaction\", \"data\": {\"interactionType\": 3, \"learnTutorialId\": 82, \"questionId\": \"6_GeneralizeExpertFinder\", \"learnToolsVersion\": \"0.2.12\", \"valueTowardsCompletion\": 0.0, \"failureMessage\": \"\", \"exceptionClass\": \"\", \"trace\": \"\", \"outcomeType\": 4}}, \"*\")"
          },
          "metadata": {}
        },
        {
          "output_type": "display_data",
          "data": {
            "text/plain": "Solution: \n```python\n\ndef expert_finder(topic, stack_overflow_helper):\n    '''\n    Returns a DataFrame with the user_id's who have written stackoverflow answers on topic.\n\n    Inputs:\n        topic: A string with the topic we are interested\n        stack_overflow_helper: A bigquery_helper object that specifies the connection to the stack overflow DB\n\n    Outputs:\n        results: A DataFrame with columns for user_id and number_of_answers. Follows similar logic to bigquery_experts_results shown above.\n    '''\n    my_query = \"\"\"SELECT a.owner_user_id AS user_id, COUNT(1) AS number_of_answers\n                  FROM `bigquery-public-data.stackoverflow.posts_questions` q\n                        INNER JOIN `bigquery-public-data.stackoverflow.posts_answers` a\n                        ON q.id = a.parent_Id\n                  WHERE q.tags like '%' + tag + '%'\n                  GROUP BY a.owner_user_id\n                \"\"\"\n    # a real service would have good error handling for queries that scan too much data\n    my_results = stack_overflow_helper.query_to_pandas_safe(my_query, max_gb_scanned=2)\n    return my_results\n\n```",
            "text/markdown": "<span style=\"color:#33cc99\">Solution:</span> \n```python\n\ndef expert_finder(topic, stack_overflow_helper):\n    '''\n    Returns a DataFrame with the user_id's who have written stackoverflow answers on topic.\n\n    Inputs:\n        topic: A string with the topic we are interested\n        stack_overflow_helper: A bigquery_helper object that specifies the connection to the stack overflow DB\n\n    Outputs:\n        results: A DataFrame with columns for user_id and number_of_answers. Follows similar logic to bigquery_experts_results shown above.\n    '''\n    my_query = \"\"\"SELECT a.owner_user_id AS user_id, COUNT(1) AS number_of_answers\n                  FROM `bigquery-public-data.stackoverflow.posts_questions` q\n                        INNER JOIN `bigquery-public-data.stackoverflow.posts_answers` a\n                        ON q.id = a.parent_Id\n                  WHERE q.tags like '%' + tag + '%'\n                  GROUP BY a.owner_user_id\n                \"\"\"\n    # a real service would have good error handling for queries that scan too much data\n    my_results = stack_overflow_helper.query_to_pandas_safe(my_query, max_gb_scanned=2)\n    return my_results\n\n```"
          },
          "metadata": {}
        }
      ]
    },
    {
      "metadata": {
        "_uuid": "6211b74851e7e2c6856349734c1b1eb9e9c16ffd"
      },
      "cell_type": "markdown",
      "source": "# Congratulations\nYou know all the key components to use BigQuery and SQL effectively. Your SQL skills are sufficient to unlock many of the world's large datasets.\n\nWant to go play with your new powers?  Kaggle has BigQuery datasets available [here](https://www.kaggle.com/datasets?sortBy=hottest&group=public&page=1&pageSize=20&size=sizeAll&filetype=fileTypeBigQuery).\n\n# Feedback\nBring any questions or feedback to the [Learn Discussion Forum](https://www.kaggle.com/learn-forum).\n"
    },
    {
      "metadata": {
        "_uuid": "19a3b219fc54709c876790582b53d6d95aa0c335"
      },
      "cell_type": "markdown",
      "source": "---\n**[SQL Micro-Course Home Page](https://www.kaggle.com/learn/SQL)**\n\n"
    }
  ],
  "metadata": {
    "kernelspec": {
      "display_name": "Python 3",
      "language": "python",
      "name": "python3"
    },
    "language_info": {
      "name": "python",
      "version": "3.6.6",
      "mimetype": "text/x-python",
      "codemirror_mode": {
        "name": "ipython",
        "version": 3
      },
      "pygments_lexer": "ipython3",
      "nbconvert_exporter": "python",
      "file_extension": ".py"
    }
  },
  "nbformat": 4,
  "nbformat_minor": 1
}