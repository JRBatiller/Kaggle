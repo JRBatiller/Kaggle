{
  "cells": [
    {
      "metadata": {
        "_uuid": "0f0469335413464e8b98ecb079fe265a492dad18"
      },
      "cell_type": "markdown",
      "source": "**[SQL Micro-Course Home Page](https://www.kaggle.com/learn/SQL)**\n\n---\n"
    },
    {
      "metadata": {
        "_uuid": "e1c97066f08ce54ad2932c67c148bf2ce77bf835"
      },
      "cell_type": "markdown",
      "source": "# Introduction\n\nYou are getting to the point where you can own an analysis from beginning to end. So you'll do more data exploration in this exercise than you've done before.  Before you get started, run the following set-up code as usual. Notice that your `BigQueryHelper` object is called `chicago_taxi_helper`."
    },
    {
      "metadata": {
        "_uuid": "e598f1db126fde4f8253a36e761ab1f73ae7e006",
        "trusted": true
      },
      "cell_type": "code",
      "source": "# Set up feedack system\nfrom learntools.core import binder\nbinder.bind(globals())\nfrom learntools.sql.ex5 import *\n\n# import package with helper functions \nimport bq_helper\n\n# create a helper object for this dataset\nchicago_taxi_helper = bq_helper.BigQueryHelper(active_project=\"bigquery-public-data\",\n                                               dataset_name=\"chicago_taxi_trips\")",
      "execution_count": 1,
      "outputs": [
        {
          "output_type": "stream",
          "text": "Using Kaggle's public dataset BigQuery integration.\n",
          "name": "stdout"
        }
      ]
    },
    {
      "metadata": {
        "_uuid": "2d58b2d04482cb41a05168bb580e4f9db88716f0"
      },
      "cell_type": "markdown",
      "source": "# Questions\n\nThis dataset contains a table with the information about taxi trips in the city of Chicago. You are curious how much slower traffic moves when traffic volume is high. This involves a few steps.\n\n# 1) Find the Data\nBefore you can access the data, you need to find the table name with the data.\n\n- Hint: Tab completion is helpful whenever you can't remember a command. Type `chicago_taxi_helper.` and then hit the tab key. Don't forget the period before hitting tab."
    },
    {
      "metadata": {
        "_uuid": "d3dfca3229fdb6c271266945122ca121f5bc7422",
        "trusted": true
      },
      "cell_type": "code",
      "source": "# Your code here to find the table name\nchicago_taxi_helper.list_tables()",
      "execution_count": 3,
      "outputs": [
        {
          "output_type": "execute_result",
          "execution_count": 3,
          "data": {
            "text/plain": "['taxi_trips']"
          },
          "metadata": {}
        }
      ]
    },
    {
      "metadata": {
        "_uuid": "d33e7f7f9e25348d9938ff6cf4cf191a8becf4c7",
        "trusted": true
      },
      "cell_type": "code",
      "source": "# write the table name as a string below\ntable_name = 'taxi_trips'\n\nq_1.check()",
      "execution_count": 4,
      "outputs": [
        {
          "output_type": "display_data",
          "data": {
            "text/plain": "<IPython.core.display.Javascript object>",
            "application/javascript": "parent.postMessage({\"jupyterEvent\": \"custom.exercise_interaction\", \"data\": {\"outcomeType\": 1, \"valueTowardsCompletion\": 0.25, \"interactionType\": 1, \"learnTutorialId\": 81, \"questionId\": \"1_GetTableName\", \"learnToolsVersion\": \"0.2.12\", \"failureMessage\": \"\", \"exceptionClass\": \"\", \"trace\": \"\"}}, \"*\")"
          },
          "metadata": {}
        },
        {
          "output_type": "display_data",
          "data": {
            "text/plain": "Correct",
            "text/markdown": "<span style=\"color:#33cc33\">Correct</span>"
          },
          "metadata": {}
        }
      ]
    },
    {
      "metadata": {
        "_uuid": "3d14240c8956a772a014e77fdad60612cbb1760a",
        "trusted": false
      },
      "cell_type": "code",
      "source": "# q_1.solution()",
      "execution_count": null,
      "outputs": []
    },
    {
      "metadata": {
        "_uuid": "66620911172515ae98de5e1cc4c0d8bc7a33b00e"
      },
      "cell_type": "markdown",
      "source": "# 2) Peek at the data\n\nUse `chicago_taxi_helper.head` to peak at the top few rows of the data. Inspect the data and see if the data quality is immediately obvious. After deciding whether you see any important issues, look at `q_2.solution()`."
    },
    {
      "metadata": {
        "_uuid": "2f3d01092eaf303533e1a50718ada81fae9eb326",
        "trusted": true
      },
      "cell_type": "code",
      "source": "# your code here\nchicago_taxi_helper.head(table_name)",
      "execution_count": 7,
      "outputs": [
        {
          "output_type": "execute_result",
          "execution_count": 7,
          "data": {
            "text/plain": "                                 unique_key       ...        dropoff_location\n0  b1695bee74d250a2d105ec5fa662595b851d4a33       ...                    None\n1  b18cc4fc0e9691c6859d467dba90f506e746c65d       ...                    None\n2  b195e5f2d975847c47985ad50dc9aa520c8625e1       ...                    None\n3  b19bfa2714907cd5029d3fe556413d71f8413cc9       ...                    None\n4  b19c1c5d79808dd35f88af2068e12e169a536e32       ...                    None\n\n[5 rows x 23 columns]",
            "text/html": "<div>\n<style scoped>\n    .dataframe tbody tr th:only-of-type {\n        vertical-align: middle;\n    }\n\n    .dataframe tbody tr th {\n        vertical-align: top;\n    }\n\n    .dataframe thead th {\n        text-align: right;\n    }\n</style>\n<table border=\"1\" class=\"dataframe\">\n  <thead>\n    <tr style=\"text-align: right;\">\n      <th></th>\n      <th>unique_key</th>\n      <th>taxi_id</th>\n      <th>trip_start_timestamp</th>\n      <th>trip_end_timestamp</th>\n      <th>trip_seconds</th>\n      <th>trip_miles</th>\n      <th>pickup_census_tract</th>\n      <th>dropoff_census_tract</th>\n      <th>pickup_community_area</th>\n      <th>dropoff_community_area</th>\n      <th>fare</th>\n      <th>tips</th>\n      <th>tolls</th>\n      <th>extras</th>\n      <th>trip_total</th>\n      <th>payment_type</th>\n      <th>company</th>\n      <th>pickup_latitude</th>\n      <th>pickup_longitude</th>\n      <th>pickup_location</th>\n      <th>dropoff_latitude</th>\n      <th>dropoff_longitude</th>\n      <th>dropoff_location</th>\n    </tr>\n  </thead>\n  <tbody>\n    <tr>\n      <th>0</th>\n      <td>b1695bee74d250a2d105ec5fa662595b851d4a33</td>\n      <td>0ed0aa5bd95971653ff5ff7a2f89637f19f083644e5358...</td>\n      <td>2014-04-28 07:30:00+00:00</td>\n      <td>2014-04-28 07:30:00+00:00</td>\n      <td>0</td>\n      <td>0.0</td>\n      <td>None</td>\n      <td>None</td>\n      <td>None</td>\n      <td>None</td>\n      <td>725.0</td>\n      <td>0.0</td>\n      <td>0.0</td>\n      <td>0.0</td>\n      <td>725.0</td>\n      <td>Cash</td>\n      <td>Chicago Elite Cab Corp. (Chicago Carriag</td>\n      <td>None</td>\n      <td>None</td>\n      <td>None</td>\n      <td>None</td>\n      <td>None</td>\n      <td>None</td>\n    </tr>\n    <tr>\n      <th>1</th>\n      <td>b18cc4fc0e9691c6859d467dba90f506e746c65d</td>\n      <td>0c2af70fa4647cb1d6f0e8fcb08ad4359c5977513d2d69...</td>\n      <td>2015-07-13 06:15:00+00:00</td>\n      <td>2015-07-13 06:15:00+00:00</td>\n      <td>0</td>\n      <td>0.0</td>\n      <td>None</td>\n      <td>None</td>\n      <td>None</td>\n      <td>None</td>\n      <td>545.0</td>\n      <td>0.0</td>\n      <td>0.0</td>\n      <td>0.0</td>\n      <td>545.0</td>\n      <td>Cash</td>\n      <td>Chicago Elite Cab Corp. (Chicago Carriag</td>\n      <td>None</td>\n      <td>None</td>\n      <td>None</td>\n      <td>None</td>\n      <td>None</td>\n      <td>None</td>\n    </tr>\n    <tr>\n      <th>2</th>\n      <td>b195e5f2d975847c47985ad50dc9aa520c8625e1</td>\n      <td>74c65e298adb79ea78cdb8d051248b8c259995872a8907...</td>\n      <td>2014-03-15 08:30:00+00:00</td>\n      <td>2014-03-15 08:30:00+00:00</td>\n      <td>0</td>\n      <td>0.0</td>\n      <td>None</td>\n      <td>None</td>\n      <td>None</td>\n      <td>None</td>\n      <td>1325.0</td>\n      <td>0.0</td>\n      <td>0.0</td>\n      <td>0.0</td>\n      <td>1325.0</td>\n      <td>Cash</td>\n      <td>Chicago Elite Cab Corp. (Chicago Carriag</td>\n      <td>None</td>\n      <td>None</td>\n      <td>None</td>\n      <td>None</td>\n      <td>None</td>\n      <td>None</td>\n    </tr>\n    <tr>\n      <th>3</th>\n      <td>b19bfa2714907cd5029d3fe556413d71f8413cc9</td>\n      <td>c4b7d4a2434871020014e186ac8489b75620cc38c41f49...</td>\n      <td>2015-10-20 11:45:00+00:00</td>\n      <td>2015-10-20 11:45:00+00:00</td>\n      <td>0</td>\n      <td>0.0</td>\n      <td>None</td>\n      <td>None</td>\n      <td>None</td>\n      <td>None</td>\n      <td>605.0</td>\n      <td>0.0</td>\n      <td>0.0</td>\n      <td>0.0</td>\n      <td>605.0</td>\n      <td>Cash</td>\n      <td>Chicago Elite Cab Corp. (Chicago Carriag</td>\n      <td>None</td>\n      <td>None</td>\n      <td>None</td>\n      <td>None</td>\n      <td>None</td>\n      <td>None</td>\n    </tr>\n    <tr>\n      <th>4</th>\n      <td>b19c1c5d79808dd35f88af2068e12e169a536e32</td>\n      <td>735f3541fe218b30cab11d38c2d019c74efe94c117340a...</td>\n      <td>2013-05-28 07:45:00+00:00</td>\n      <td>2013-05-29 02:15:00+00:00</td>\n      <td>67140</td>\n      <td>0.0</td>\n      <td>None</td>\n      <td>None</td>\n      <td>None</td>\n      <td>None</td>\n      <td>2905.0</td>\n      <td>595.0</td>\n      <td>0.0</td>\n      <td>0.0</td>\n      <td>3500.0</td>\n      <td>Credit Card</td>\n      <td>Chicago Elite Cab Corp.</td>\n      <td>None</td>\n      <td>None</td>\n      <td>None</td>\n      <td>None</td>\n      <td>None</td>\n      <td>None</td>\n    </tr>\n  </tbody>\n</table>\n</div>"
          },
          "metadata": {}
        }
      ]
    },
    {
      "metadata": {
        "_uuid": "222661f285a2aae0f5c6db990830162a28fcf3fa",
        "trusted": false
      },
      "cell_type": "code",
      "source": "q_2.solution()",
      "execution_count": null,
      "outputs": []
    },
    {
      "metadata": {
        "_uuid": "7af3adf762ab53c7ee7a1cf491dc81b9e4b096d3"
      },
      "cell_type": "markdown",
      "source": "# 3) Determine when this data is from\n\nIf the data is sufficiently old, we might be careful before assuming the data is still relevant to traffic patterns today. Write a query that counts the number of trips in each year.  \n\nYour results should have two columns\n1. The year of the trips, which is called `year`\n2. The number of trips in that year, called `num_trips`.\n\nHints:\n- When using `GROUP BY` and `ORDER BY`, you should refer to the columns by the alias `year` that you set at the top of the **SELECT** query.\n- The sql code to select the Year from `trip_start_timestamp` is <code>SELECT **EXTRACT(YEAR FROM trip_start_timestamp)**</code>.\n- The FROM field can be a little tricky until you are used to it.  The format is\n    1. A backick (the symbol \\`)\n    2. The project name. You can find this in the line where we created the BigQueryHelper object. In this case it is `bigquery-public-data`\n    3. A period\n    4. The dataset name. Also in the line where we created the BigQueryHelper object. In this case, it is `chicago_taxi_trips`\n    5. A period\n    6. The table name, which you already used as your answer in part 1.\n\n"
    },
    {
      "metadata": {
        "_uuid": "6eeac5885591535e5f029be8fee2925e1f1e7db3",
        "trusted": true
      },
      "cell_type": "code",
      "source": "rides_per_year_query = \"\"\" SELECT EXTRACT(YEAR FROM trip_start_timestamp) AS year, COUNT(1) num_trips \nFROM `bigquery-public-data.chicago_taxi_trips.taxi_trips` \nGROUP BY year \nORDER BY year\n\"\"\"\n\n\n\n\nrides_per_year_result = chicago_taxi_helper.query_to_pandas_safe(rides_per_year_query)\n\nprint(rides_per_year_result)\nq_3.check()",
      "execution_count": 25,
      "outputs": [
        {
          "output_type": "stream",
          "text": "   year  num_trips\n0  2013   26870287\n1  2014   31021726\n2  2015   27400744\n3  2016   19878276\n4  2017    7689021\n",
          "name": "stdout"
        },
        {
          "output_type": "display_data",
          "data": {
            "text/plain": "<IPython.core.display.Javascript object>",
            "application/javascript": "parent.postMessage({\"jupyterEvent\": \"custom.exercise_interaction\", \"data\": {\"outcomeType\": 1, \"valueTowardsCompletion\": 0.25, \"interactionType\": 1, \"learnTutorialId\": 81, \"questionId\": \"3_YearDistrib\", \"learnToolsVersion\": \"0.2.12\", \"failureMessage\": \"\", \"exceptionClass\": \"\", \"trace\": \"\"}}, \"*\")"
          },
          "metadata": {}
        },
        {
          "output_type": "display_data",
          "data": {
            "text/plain": "Correct",
            "text/markdown": "<span style=\"color:#33cc33\">Correct</span>"
          },
          "metadata": {}
        }
      ]
    },
    {
      "metadata": {
        "_uuid": "ae3fada56226cb7443b50012f4478700ce835dbc",
        "trusted": true
      },
      "cell_type": "code",
      "source": " q_3.hint()\n q_3.solution()",
      "execution_count": 17,
      "outputs": [
        {
          "output_type": "display_data",
          "data": {
            "text/plain": "<IPython.core.display.Javascript object>",
            "application/javascript": "parent.postMessage({\"jupyterEvent\": \"custom.exercise_interaction\", \"data\": {\"interactionType\": 2, \"learnTutorialId\": 81, \"questionId\": \"3_YearDistrib\", \"learnToolsVersion\": \"0.2.12\", \"valueTowardsCompletion\": 0.0, \"failureMessage\": \"\", \"exceptionClass\": \"\", \"trace\": \"\", \"outcomeType\": 4}}, \"*\")"
          },
          "metadata": {}
        },
        {
          "output_type": "display_data",
          "data": {
            "text/plain": "Hint: Start your query with  `SELECT EXTRACT(YEAR FROM trip_start_timestamp) AS year, COUNT(1) num_trips`",
            "text/markdown": "<span style=\"color:#3366cc\">Hint:</span> Start your query with  `SELECT EXTRACT(YEAR FROM trip_start_timestamp) AS year, COUNT(1) num_trips`"
          },
          "metadata": {}
        },
        {
          "output_type": "display_data",
          "data": {
            "text/plain": "<IPython.core.display.Javascript object>",
            "application/javascript": "parent.postMessage({\"jupyterEvent\": \"custom.exercise_interaction\", \"data\": {\"interactionType\": 3, \"learnTutorialId\": 81, \"questionId\": \"3_YearDistrib\", \"learnToolsVersion\": \"0.2.12\", \"valueTowardsCompletion\": 0.0, \"failureMessage\": \"\", \"exceptionClass\": \"\", \"trace\": \"\", \"outcomeType\": 4}}, \"*\")"
          },
          "metadata": {}
        },
        {
          "output_type": "display_data",
          "data": {
            "text/plain": "Solution: \n```python\n\nrides_per_year_query = \"\"\"SELECT EXTRACT(YEAR FROM trip_start_timestamp) AS year, COUNT(1) num_trips\n                    from `bigquery-public-data.chicago_taxi_trips.taxi_trips`\n                    GROUP BY year\n                    ORDER BY year\"\"\"\n\nrides_per_year_result = chicago_taxi_helper.query_to_pandas_safe(rides_per_year_query)\n\n```",
            "text/markdown": "<span style=\"color:#33cc99\">Solution:</span> \n```python\n\nrides_per_year_query = \"\"\"SELECT EXTRACT(YEAR FROM trip_start_timestamp) AS year, COUNT(1) num_trips\n                    from `bigquery-public-data.chicago_taxi_trips.taxi_trips`\n                    GROUP BY year\n                    ORDER BY year\"\"\"\n\nrides_per_year_result = chicago_taxi_helper.query_to_pandas_safe(rides_per_year_query)\n\n```"
          },
          "metadata": {}
        }
      ]
    },
    {
      "metadata": {
        "_uuid": "357fa5ba6821f9fa2b110bb42255c82065814478"
      },
      "cell_type": "markdown",
      "source": "# 4) Dive Slightly Deeper\n\nIt's odd that 2017 had so few rides. You should wonder whether it was systematic under-reporting throughout the year, or whether some months are missing.  Copy the query you used above in `rides_per_year_query` into the cell below for `rides_per_month_query`.  Then modify it in two ways\n1. Use a where clause to limit our query to data from 2017\n2. Modify the extract statement to extract the month rather than the year\n"
    },
    {
      "metadata": {
        "_uuid": "07c1019cd4c97950de0f814127a5420bcb74c016",
        "trusted": true
      },
      "cell_type": "code",
      "source": "\nrides_per_month_query = \"\"\" SELECT EXTRACT(MONTH FROM trip_start_timestamp) AS month, COUNT(1) num_trips \nFROM `bigquery-public-data.chicago_taxi_trips.taxi_trips` \nWHERE EXTRACT(YEAR FROM trip_start_timestamp) = 2017\nGROUP BY month \nORDER BY month\n\"\"\"\nrides_per_month_result = chicago_taxi_helper.query_to_pandas_safe(rides_per_month_query)\n\nprint(rides_per_month_result)\nq_4.check()",
      "execution_count": 26,
      "outputs": [
        {
          "output_type": "stream",
          "text": "   month  num_trips\n0      1    1040262\n1      2    1016484\n2      3    1293745\n3      4    1187501\n4      5    1132690\n5      6    1092557\n6      7     925711\n7      8         71\n",
          "name": "stdout"
        },
        {
          "output_type": "display_data",
          "data": {
            "text/plain": "<IPython.core.display.Javascript object>",
            "application/javascript": "parent.postMessage({\"jupyterEvent\": \"custom.exercise_interaction\", \"data\": {\"outcomeType\": 1, \"valueTowardsCompletion\": 0.25, \"interactionType\": 1, \"learnTutorialId\": 81, \"questionId\": \"4_MonthDistrib\", \"learnToolsVersion\": \"0.2.12\", \"failureMessage\": \"\", \"exceptionClass\": \"\", \"trace\": \"\"}}, \"*\")"
          },
          "metadata": {}
        },
        {
          "output_type": "display_data",
          "data": {
            "text/plain": "Correct",
            "text/markdown": "<span style=\"color:#33cc33\">Correct</span>"
          },
          "metadata": {}
        }
      ]
    },
    {
      "metadata": {
        "_uuid": "d08c9fe5ea3f3928d1f56111c1e7dbdcd647b0ec",
        "trusted": false
      },
      "cell_type": "code",
      "source": "#q_4.hint()\n#q_4.solution()",
      "execution_count": null,
      "outputs": []
    },
    {
      "metadata": {
        "_uuid": "9c4445450fa10d1ea8e242b6a2dffefaa7173de2"
      },
      "cell_type": "markdown",
      "source": "# 5) Write the Query\n\nLet's step up the sophistication of your queries.\n\nWrite a query\n- A column called `hour_of_day` and sort by this, which holds the result of extracting the hour from `trip_start_timestamp`.\n- The count of total number of trips in each hour of the day (e.g. how many trips occurred between 6AM and 7AM, independent of which day it occurred on). Call this `num_trips`\n- The average speed, measured in miles per hour, for trips that started in that hour of the day.  Average speed in miles per hour is calculated as `3600 * SUM(trip_miles) / SUM(trip_seconds)`. Call this column `avg_mph`. The value 3600 is used to convert from seconds to hours.\n\nFor 2017, we're missing August and everything after. So restrict your query to data meeting the following criteria\n- a `trip_start_timestamp` between **2017-01-01** and **2017-07-01**\n- `trip_seconds` > 0 and `trip_miles` > 0\n\n\nYou will use a CTE to select just the relevant rides.  Because this dataset is very big, this CTE should select only the columns you'll need to create the final output (though you won't actually create those in the CTE. Instead you'll create those in the later `SELECT` statement).\n\nThis is a much harder query than anything you've written so far.  Good luck!\n"
    },
    {
      "metadata": {
        "_uuid": "76043ca270e5de5c7598e6cf6b7ce75657752ccf",
        "trusted": true
      },
      "cell_type": "code",
      "source": "speeds_query = \"\"\"\nWITH RelevantRides AS\n(SELECT trip_start_timestamp, trip_miles, trip_seconds\nFROM `bigquery-public-data.chicago_taxi_trips.taxi_trips`\nWHERE trip_start_timestamp > '2017-01-01' and trip_start_timestamp <'2017-07-01' and trip_miles>0 and trip_seconds>0\n)\n\nSELECT EXTRACT(HOUR FROM trip_start_timestamp) AS hour_of_day, COUNT(1) num_trips, 3600*SUM(trip_miles)/SUM(trip_seconds) avg_mph\nFROM RelevantRides\nGROUP BY hour_of_day\nORDER BY hour_of_day\n\"\"\"\n\n# Set high max_gb_scanned because this query looks at more data\nspeeds_result = chicago_taxi_helper.query_to_pandas_safe(speeds_query, max_gb_scanned=20)\n\nprint(speeds_result)\nq_5.check()",
      "execution_count": 31,
      "outputs": [
        {
          "output_type": "stream",
          "text": "    hour_of_day  num_trips    avg_mph\n0             1     427383  17.270590\n1             2     398546  16.635014\n2             3     379010  15.462462\n3             4     388887  14.549414\n4             5     421042  13.386499\n5             6     461646  13.945169\n6             7     510168  15.650150\n7             8     556515  16.345441\n8             9     553849  17.073965\n9            10     507049  17.900230\n10           11     475909  18.416820\n11           12     453221  17.918006\n",
          "name": "stdout"
        },
        {
          "output_type": "display_data",
          "data": {
            "text/plain": "<IPython.core.display.Javascript object>",
            "application/javascript": "parent.postMessage({\"jupyterEvent\": \"custom.exercise_interaction\", \"data\": {\"outcomeType\": 1, \"valueTowardsCompletion\": 0.25, \"interactionType\": 1, \"learnTutorialId\": 81, \"questionId\": \"5_TheLongQuery\", \"learnToolsVersion\": \"0.2.12\", \"failureMessage\": \"\", \"exceptionClass\": \"\", \"trace\": \"\"}}, \"*\")"
          },
          "metadata": {}
        },
        {
          "output_type": "display_data",
          "data": {
            "text/plain": "Correct",
            "text/markdown": "<span style=\"color:#33cc33\">Correct</span>"
          },
          "metadata": {}
        }
      ]
    },
    {
      "metadata": {
        "_uuid": "da48bda987ac38cba479c3c84b32ace81ef032a3",
        "trusted": true
      },
      "cell_type": "code",
      "source": " q_5.hint()\nq_5.solution()",
      "execution_count": 29,
      "outputs": [
        {
          "output_type": "display_data",
          "data": {
            "text/plain": "<IPython.core.display.Javascript object>",
            "application/javascript": "parent.postMessage({\"jupyterEvent\": \"custom.exercise_interaction\", \"data\": {\"failureMessage\": \"Sorry, no hints available for this question.\", \"interactionType\": 2, \"learnTutorialId\": 81, \"questionId\": \"5_TheLongQuery\", \"learnToolsVersion\": \"0.2.12\", \"valueTowardsCompletion\": 0.0, \"exceptionClass\": \"\", \"trace\": \"\", \"outcomeType\": 4}}, \"*\")"
          },
          "metadata": {}
        },
        {
          "output_type": "display_data",
          "data": {
            "text/plain": "Sorry, no hints available for this question.",
            "text/markdown": "<span style=\"color:#cc5533\">Sorry, no hints available for this question.</span>"
          },
          "metadata": {}
        },
        {
          "output_type": "display_data",
          "data": {
            "text/plain": "<IPython.core.display.Javascript object>",
            "application/javascript": "parent.postMessage({\"jupyterEvent\": \"custom.exercise_interaction\", \"data\": {\"interactionType\": 3, \"learnTutorialId\": 81, \"questionId\": \"5_TheLongQuery\", \"learnToolsVersion\": \"0.2.12\", \"valueTowardsCompletion\": 0.0, \"failureMessage\": \"\", \"exceptionClass\": \"\", \"trace\": \"\", \"outcomeType\": 4}}, \"*\")"
          },
          "metadata": {}
        },
        {
          "output_type": "display_data",
          "data": {
            "text/plain": "Solution: \n```python\n\nspeeds_query = \"\"\"WITH RelevantRides AS\n(SELECT EXTRACT(HOUR FROM trip_start_timestamp) hour_of_day, trip_miles, trip_seconds\nFROM `bigquery-public-data.chicago_taxi_trips.taxi_trips`\nWHERE trip_start_timestamp > '2017-01-01' and trip_start_timestamp < '2017-07-01'\n    AND trip_seconds > 0 AND trip_miles > 0\n)\n\nSELECT hour_of_day, count(1) num_trips, 3600 * SUM(trip_miles) / SUM(trip_seconds) avg_mph\nFROM RelevantRides\nGROUP BY hour_of_day\nORDER BY hour_of_day\"\"\"\n\nspeeds_result = chicago_taxi_helper.query_to_pandas_safe(speeds_query, max_gb_scanned=20)\n\n```",
            "text/markdown": "<span style=\"color:#33cc99\">Solution:</span> \n```python\n\nspeeds_query = \"\"\"WITH RelevantRides AS\n(SELECT EXTRACT(HOUR FROM trip_start_timestamp) hour_of_day, trip_miles, trip_seconds\nFROM `bigquery-public-data.chicago_taxi_trips.taxi_trips`\nWHERE trip_start_timestamp > '2017-01-01' and trip_start_timestamp < '2017-07-01'\n    AND trip_seconds > 0 AND trip_miles > 0\n)\n\nSELECT hour_of_day, count(1) num_trips, 3600 * SUM(trip_miles) / SUM(trip_seconds) avg_mph\nFROM RelevantRides\nGROUP BY hour_of_day\nORDER BY hour_of_day\"\"\"\n\nspeeds_result = chicago_taxi_helper.query_to_pandas_safe(speeds_query, max_gb_scanned=20)\n\n```"
          },
          "metadata": {}
        }
      ]
    },
    {
      "metadata": {
        "_uuid": "cfabb6139feb75557f2653e7baea34d7faad017a"
      },
      "cell_type": "markdown",
      "source": "That's a hard query. If you made good progress towards the solution, congratulations!"
    },
    {
      "metadata": {
        "_uuid": "900a2142ccf71c656c6a47e1e8cf8178add9e8fe"
      },
      "cell_type": "markdown",
      "source": "# 6. Ponder the Results\nSomething is wrong with either the raw data or our last query. What fact about the raw data doesn't seem right?\n\nIf you can identify the problem, how would you look at the raw data to verify that the problem is in the raw data and not just in your results? Check your answer below."
    },
    {
      "metadata": {
        "_uuid": "d638efaafcee1f8fe86a1b98ceeb2d16b7dfbcb8",
        "trusted": true
      },
      "cell_type": "code",
      "source": " q_6.solution()",
      "execution_count": 32,
      "outputs": [
        {
          "output_type": "display_data",
          "data": {
            "text/plain": "<IPython.core.display.Javascript object>",
            "application/javascript": "parent.postMessage({\"jupyterEvent\": \"custom.exercise_interaction\", \"data\": {\"interactionType\": 3, \"learnTutorialId\": 81, \"questionId\": \"6_AllRidesInTheMorning\", \"learnToolsVersion\": \"0.2.12\", \"valueTowardsCompletion\": 0.0, \"failureMessage\": \"\", \"exceptionClass\": \"\", \"trace\": \"\", \"outcomeType\": 4}}, \"*\")"
          },
          "metadata": {}
        },
        {
          "output_type": "display_data",
          "data": {
            "text/plain": "Solution: \nThe results show rides with hours 1-12. But there should results in the afternoon (hours 13-24).\n\nPerhaps the raw data has lost the distinction between AM and PM values.\n\nYou can review 200 rows of the raw data with the command `chicago_taxi_trips.head('taxi_trips', num_rows=200)`\n\nYou'll see that the timestamps are all in the AM hours (hours are less than or equal to 12.) \n\nAt first you might worry that the data is coming back sorted by time, but the variety of dates suggests that's not the case. \nPart of data science is tracking down exactly this type of problem. If you were in an organization working on this, you could show the evidence you've just collected (e.g. the breakdown of trips by hour) to someone responsible for collecting the data, and help them debug the data collection and storage process using the results you've collected.",
            "text/markdown": "<span style=\"color:#33cc99\">Solution:</span> \nThe results show rides with hours 1-12. But there should results in the afternoon (hours 13-24).\n\nPerhaps the raw data has lost the distinction between AM and PM values.\n\nYou can review 200 rows of the raw data with the command `chicago_taxi_trips.head('taxi_trips', num_rows=200)`\n\nYou'll see that the timestamps are all in the AM hours (hours are less than or equal to 12.) \n\nAt first you might worry that the data is coming back sorted by time, but the variety of dates suggests that's not the case. \nPart of data science is tracking down exactly this type of problem. If you were in an organization working on this, you could show the evidence you've just collected (e.g. the breakdown of trips by hour) to someone responsible for collecting the data, and help them debug the data collection and storage process using the results you've collected.\n"
          },
          "metadata": {}
        }
      ]
    },
    {
      "metadata": {
        "_uuid": "fe7f7363141b5fd3410960b965643f7624998760"
      },
      "cell_type": "markdown",
      "source": "# Keep Going\n\nYou can write very complex queries now with a single data source. But nothing expands the horizons of SQL as much as the ability to combine or **JOIN** tables.\n\n**[Click here](https://www.kaggle.com/dansbecker/joining-data)** to start the last lesson in SQL course.\n"
    },
    {
      "metadata": {
        "_uuid": "c2e7795b1451d003fe17a741839d44c055d936dd"
      },
      "cell_type": "markdown",
      "source": "---\n**[SQL Micro-Course Home Page](https://www.kaggle.com/learn/SQL)**\n\n"
    }
  ],
  "metadata": {
    "kernelspec": {
      "display_name": "Python 3",
      "language": "python",
      "name": "python3"
    },
    "language_info": {
      "name": "python",
      "version": "3.6.6",
      "mimetype": "text/x-python",
      "codemirror_mode": {
        "name": "ipython",
        "version": 3
      },
      "pygments_lexer": "ipython3",
      "nbconvert_exporter": "python",
      "file_extension": ".py"
    }
  },
  "nbformat": 4,
  "nbformat_minor": 1
}