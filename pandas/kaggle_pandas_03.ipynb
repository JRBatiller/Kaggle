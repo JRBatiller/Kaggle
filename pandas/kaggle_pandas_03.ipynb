{
  "cells": [
    {
      "metadata": {
        "_uuid": "fa82a1ed0b934a1904477e163973a7581c96b6ba"
      },
      "cell_type": "markdown",
      "source": "**[Pandas Course Home Page](https://www.kaggle.com/learn/pandas)**\n\n---\n"
    },
    {
      "metadata": {
        "_uuid": "d53d9690089a702950c16b44911fab155638ef8f"
      },
      "cell_type": "markdown",
      "source": "# Summary functions and maps workbook\n\n## Introduction\n\nThis is the workbook component to the \"Summary functions and maps\" section of the Advanced Pandas tutorial. For the reference section, [**click here**](https://www.kaggle.com/residentmario/summary-functions-and-maps-reference).\n\nIn the last section we learned how to select relevant data out of our `pandas` `DataFrame` and `Series` objects. Plucking the right data out of our data representation is critical to getting work done, as we demonstrated in the visualization exercises attached to the workbook.\n\nHowever, the data does not always come out of memory in the format we want it in right out of the bat. Sometimes we have to do some more work ourselves to reformat it for the task at hand.\n\nThe remainder of this tutorial will cover different operations we can apply to our data to get the input \"just right\". We'll start off in this section by looking at the most commonly looked built-in reshaping operations. Along the way we'll cover data `dtypes`, a concept essential to working with `pandas` effectively."
    },
    {
      "metadata": {
        "trusted": true,
        "_uuid": "cc07693c8878d69c0a721af46abc9f518d25e3b4"
      },
      "cell_type": "code",
      "source": "import pandas as pd\npd.set_option(\"display.max_rows\", 5)\nreviews = pd.read_csv(\"../input/wine-reviews/winemag-data-130k-v2.csv\", index_col=0)\n\nfrom learntools.core import binder; binder.bind(globals())\nfrom learntools.pandas.summary_functions_and_maps import *\nprint(\"Setup complete.\")\n\nreviews.head()",
      "execution_count": 2,
      "outputs": [
        {
          "output_type": "stream",
          "text": "WARNING:root:Ignoring repeated attempt to bind to globals\n",
          "name": "stderr"
        },
        {
          "output_type": "stream",
          "text": "Setup complete.\n",
          "name": "stdout"
        },
        {
          "output_type": "execute_result",
          "execution_count": 2,
          "data": {
            "text/plain": "    country         ...                        winery\n0     Italy         ...                       Nicosia\n1  Portugal         ...           Quinta dos Avidagos\n2        US         ...                     Rainstorm\n3        US         ...                    St. Julian\n4        US         ...                  Sweet Cheeks\n\n[5 rows x 13 columns]",
            "text/html": "<div>\n<style scoped>\n    .dataframe tbody tr th:only-of-type {\n        vertical-align: middle;\n    }\n\n    .dataframe tbody tr th {\n        vertical-align: top;\n    }\n\n    .dataframe thead th {\n        text-align: right;\n    }\n</style>\n<table border=\"1\" class=\"dataframe\">\n  <thead>\n    <tr style=\"text-align: right;\">\n      <th></th>\n      <th>country</th>\n      <th>description</th>\n      <th>designation</th>\n      <th>points</th>\n      <th>price</th>\n      <th>province</th>\n      <th>region_1</th>\n      <th>region_2</th>\n      <th>taster_name</th>\n      <th>taster_twitter_handle</th>\n      <th>title</th>\n      <th>variety</th>\n      <th>winery</th>\n    </tr>\n  </thead>\n  <tbody>\n    <tr>\n      <th>0</th>\n      <td>Italy</td>\n      <td>Aromas include tropical fruit, broom, brimston...</td>\n      <td>Vulkà Bianco</td>\n      <td>87</td>\n      <td>NaN</td>\n      <td>Sicily &amp; Sardinia</td>\n      <td>Etna</td>\n      <td>NaN</td>\n      <td>Kerin O’Keefe</td>\n      <td>@kerinokeefe</td>\n      <td>Nicosia 2013 Vulkà Bianco  (Etna)</td>\n      <td>White Blend</td>\n      <td>Nicosia</td>\n    </tr>\n    <tr>\n      <th>1</th>\n      <td>Portugal</td>\n      <td>This is ripe and fruity, a wine that is smooth...</td>\n      <td>Avidagos</td>\n      <td>87</td>\n      <td>15.0</td>\n      <td>Douro</td>\n      <td>NaN</td>\n      <td>NaN</td>\n      <td>Roger Voss</td>\n      <td>@vossroger</td>\n      <td>Quinta dos Avidagos 2011 Avidagos Red (Douro)</td>\n      <td>Portuguese Red</td>\n      <td>Quinta dos Avidagos</td>\n    </tr>\n    <tr>\n      <th>2</th>\n      <td>US</td>\n      <td>Tart and snappy, the flavors of lime flesh and...</td>\n      <td>NaN</td>\n      <td>87</td>\n      <td>14.0</td>\n      <td>Oregon</td>\n      <td>Willamette Valley</td>\n      <td>Willamette Valley</td>\n      <td>Paul Gregutt</td>\n      <td>@paulgwine</td>\n      <td>Rainstorm 2013 Pinot Gris (Willamette Valley)</td>\n      <td>Pinot Gris</td>\n      <td>Rainstorm</td>\n    </tr>\n    <tr>\n      <th>3</th>\n      <td>US</td>\n      <td>Pineapple rind, lemon pith and orange blossom ...</td>\n      <td>Reserve Late Harvest</td>\n      <td>87</td>\n      <td>13.0</td>\n      <td>Michigan</td>\n      <td>Lake Michigan Shore</td>\n      <td>NaN</td>\n      <td>Alexander Peartree</td>\n      <td>NaN</td>\n      <td>St. Julian 2013 Reserve Late Harvest Riesling ...</td>\n      <td>Riesling</td>\n      <td>St. Julian</td>\n    </tr>\n    <tr>\n      <th>4</th>\n      <td>US</td>\n      <td>Much like the regular bottling from 2012, this...</td>\n      <td>Vintner's Reserve Wild Child Block</td>\n      <td>87</td>\n      <td>65.0</td>\n      <td>Oregon</td>\n      <td>Willamette Valley</td>\n      <td>Willamette Valley</td>\n      <td>Paul Gregutt</td>\n      <td>@paulgwine</td>\n      <td>Sweet Cheeks 2012 Vintner's Reserve Wild Child...</td>\n      <td>Pinot Noir</td>\n      <td>Sweet Cheeks</td>\n    </tr>\n  </tbody>\n</table>\n</div>"
          },
          "metadata": {}
        }
      ]
    },
    {
      "metadata": {
        "_uuid": "21b7cf1d3c8a0cf24ff86d93bec4ac6c23b3b868"
      },
      "cell_type": "markdown",
      "source": "## Exercises"
    },
    {
      "metadata": {
        "_uuid": "ad8cd475a3944778017780927874798d2c0e4752"
      },
      "cell_type": "markdown",
      "source": "## 1.\n\nWhat is the median of the `points` column in the `reviews` DataFrame?"
    },
    {
      "metadata": {
        "trusted": true,
        "_uuid": "ff8a1d789eb76d644b909177817d5c296b37231e"
      },
      "cell_type": "code",
      "source": "median_points = reviews.points.median()\nprint(median_points)\nq1.check()",
      "execution_count": 7,
      "outputs": [
        {
          "output_type": "stream",
          "text": "88.0\n",
          "name": "stdout"
        },
        {
          "output_type": "display_data",
          "data": {
            "text/plain": "<IPython.core.display.Javascript object>",
            "application/javascript": "parent.postMessage({\"jupyterEvent\": \"custom.exercise_interaction\", \"data\": {\"outcomeType\": 1, \"valueTowardsCompletion\": 0.14285714285714285, \"interactionType\": 1, \"learnTutorialId\": 47, \"questionId\": \"1_MedianPoints\", \"learnToolsVersion\": \"0.2.12\", \"failureMessage\": \"\", \"exceptionClass\": \"\", \"trace\": \"\"}}, \"*\")"
          },
          "metadata": {}
        },
        {
          "output_type": "display_data",
          "data": {
            "text/plain": "Correct",
            "text/markdown": "<span style=\"color:#33cc33\">Correct</span>"
          },
          "metadata": {}
        }
      ]
    },
    {
      "metadata": {
        "trusted": true,
        "_uuid": "8e31d407476c2186c26f6be59585315048b1fdc7"
      },
      "cell_type": "code",
      "source": "#q1.hint()\nq1.solution()",
      "execution_count": 5,
      "outputs": [
        {
          "output_type": "display_data",
          "data": {
            "text/plain": "<IPython.core.display.Javascript object>",
            "application/javascript": "parent.postMessage({\"jupyterEvent\": \"custom.exercise_interaction\", \"data\": {\"interactionType\": 3, \"learnTutorialId\": 47, \"questionId\": \"1_MedianPoints\", \"learnToolsVersion\": \"0.2.12\", \"valueTowardsCompletion\": 0.0, \"failureMessage\": \"\", \"exceptionClass\": \"\", \"trace\": \"\", \"outcomeType\": 4}}, \"*\")"
          },
          "metadata": {}
        },
        {
          "output_type": "display_data",
          "data": {
            "text/plain": "Solution: \n```python\nmedian_points = reviews.points.median()\n```",
            "text/markdown": "<span style=\"color:#33cc99\">Solution:</span> \n```python\nmedian_points = reviews.points.median()\n```"
          },
          "metadata": {}
        }
      ]
    },
    {
      "metadata": {
        "_uuid": "042ab95fde8f88f1759ea21b27a42e7e1ba2fa61"
      },
      "cell_type": "markdown",
      "source": "## 2. \nWhat countries are represented in the dataset? (Your answer should not include any duplicates.)"
    },
    {
      "metadata": {
        "trusted": true,
        "_uuid": "66c5aa20363c95f77a061218f9189d4b6a39fbce"
      },
      "cell_type": "code",
      "source": "countries = reviews.country.unique()\n\nq2.check()",
      "execution_count": 9,
      "outputs": [
        {
          "output_type": "display_data",
          "data": {
            "text/plain": "<IPython.core.display.Javascript object>",
            "application/javascript": "parent.postMessage({\"jupyterEvent\": \"custom.exercise_interaction\", \"data\": {\"outcomeType\": 1, \"valueTowardsCompletion\": 0.14285714285714285, \"interactionType\": 1, \"learnTutorialId\": 47, \"questionId\": \"2_UniqueCountries\", \"learnToolsVersion\": \"0.2.12\", \"failureMessage\": \"\", \"exceptionClass\": \"\", \"trace\": \"\"}}, \"*\")"
          },
          "metadata": {}
        },
        {
          "output_type": "display_data",
          "data": {
            "text/plain": "Correct",
            "text/markdown": "<span style=\"color:#33cc33\">Correct</span>"
          },
          "metadata": {}
        }
      ]
    },
    {
      "metadata": {
        "trusted": false,
        "_uuid": "42f75c9525e245d48b1f8120a56cf393c105b2e5"
      },
      "cell_type": "code",
      "source": "#q2.hint()\n#q2.solution()",
      "execution_count": null,
      "outputs": []
    },
    {
      "metadata": {
        "_uuid": "7d21abd2007497cbae3d2c94c0dc747db7fa5e13"
      },
      "cell_type": "markdown",
      "source": "## 3.\nHow often does each country appear in the dataset? Create a Series `reviews_per_country` mapping countries to the count of reviews of wines from that country."
    },
    {
      "metadata": {
        "trusted": true,
        "_uuid": "e9d73b7a9da285dc2e2240b029ffacc95178c881"
      },
      "cell_type": "code",
      "source": "reviews_per_country = reviews.country.value_counts()\nprint(reviews_per_country)\n\nq3.check()",
      "execution_count": 15,
      "outputs": [
        {
          "output_type": "stream",
          "text": "US        54504\nFrance    22093\n          ...  \nChina         1\nEgypt         1\nName: country, Length: 43, dtype: int64\n",
          "name": "stdout"
        },
        {
          "output_type": "display_data",
          "data": {
            "text/plain": "<IPython.core.display.Javascript object>",
            "application/javascript": "parent.postMessage({\"jupyterEvent\": \"custom.exercise_interaction\", \"data\": {\"outcomeType\": 1, \"valueTowardsCompletion\": 0.14285714285714285, \"interactionType\": 1, \"learnTutorialId\": 47, \"questionId\": \"3_ReviewsPerCountry\", \"learnToolsVersion\": \"0.2.12\", \"failureMessage\": \"\", \"exceptionClass\": \"\", \"trace\": \"\"}}, \"*\")"
          },
          "metadata": {}
        },
        {
          "output_type": "display_data",
          "data": {
            "text/plain": "Correct",
            "text/markdown": "<span style=\"color:#33cc33\">Correct</span>"
          },
          "metadata": {}
        }
      ]
    },
    {
      "metadata": {
        "trusted": true,
        "_uuid": "76da19be5025e5dcc5877d6c3c52d2f2777e2144"
      },
      "cell_type": "code",
      "source": "#q3.hint()\nq3.solution()",
      "execution_count": 13,
      "outputs": [
        {
          "output_type": "display_data",
          "data": {
            "text/plain": "<IPython.core.display.Javascript object>",
            "application/javascript": "parent.postMessage({\"jupyterEvent\": \"custom.exercise_interaction\", \"data\": {\"interactionType\": 3, \"learnTutorialId\": 47, \"questionId\": \"3_ReviewsPerCountry\", \"learnToolsVersion\": \"0.2.12\", \"valueTowardsCompletion\": 0.0, \"failureMessage\": \"\", \"exceptionClass\": \"\", \"trace\": \"\", \"outcomeType\": 4}}, \"*\")"
          },
          "metadata": {}
        },
        {
          "output_type": "display_data",
          "data": {
            "text/plain": "Solution: \n```python\nreviews_per_country = reviews.country.value_counts()\n```",
            "text/markdown": "<span style=\"color:#33cc99\">Solution:</span> \n```python\nreviews_per_country = reviews.country.value_counts()\n```"
          },
          "metadata": {}
        }
      ]
    },
    {
      "metadata": {
        "_uuid": "a33855ef320f7310c649c6affebfabae9650c179"
      },
      "cell_type": "markdown",
      "source": "## 4.\nCreate variable `centered_price` containing a version of the `price` column with the mean price subtracted.\n\n(Note: this 'centering' transformation is a common preprocessing step before applying various machine learning algorithms.) "
    },
    {
      "metadata": {
        "trusted": true,
        "_uuid": "c5ded53e264a5f27a9f93177cc4abee30e59a8b8"
      },
      "cell_type": "code",
      "source": "centered_price = reviews.price - reviews.price.mean()\n\nq4.check()",
      "execution_count": 16,
      "outputs": [
        {
          "output_type": "display_data",
          "data": {
            "text/plain": "<IPython.core.display.Javascript object>",
            "application/javascript": "parent.postMessage({\"jupyterEvent\": \"custom.exercise_interaction\", \"data\": {\"outcomeType\": 1, \"valueTowardsCompletion\": 0.14285714285714285, \"interactionType\": 1, \"learnTutorialId\": 47, \"questionId\": \"4_CenteredPrice\", \"learnToolsVersion\": \"0.2.12\", \"failureMessage\": \"\", \"exceptionClass\": \"\", \"trace\": \"\"}}, \"*\")"
          },
          "metadata": {}
        },
        {
          "output_type": "display_data",
          "data": {
            "text/plain": "Correct",
            "text/markdown": "<span style=\"color:#33cc33\">Correct</span>"
          },
          "metadata": {}
        }
      ]
    },
    {
      "metadata": {
        "trusted": true,
        "_uuid": "4f2f945b64bb9a708ad25e4555f0c5267adc4e57"
      },
      "cell_type": "code",
      "source": "#q4.hint()\nq4.solution()",
      "execution_count": 27,
      "outputs": [
        {
          "output_type": "display_data",
          "data": {
            "text/plain": "<IPython.core.display.Javascript object>",
            "application/javascript": "parent.postMessage({\"jupyterEvent\": \"custom.exercise_interaction\", \"data\": {\"interactionType\": 3, \"learnTutorialId\": 47, \"questionId\": \"4_CenteredPrice\", \"learnToolsVersion\": \"0.2.12\", \"valueTowardsCompletion\": 0.0, \"failureMessage\": \"\", \"exceptionClass\": \"\", \"trace\": \"\", \"outcomeType\": 4}}, \"*\")"
          },
          "metadata": {}
        },
        {
          "output_type": "display_data",
          "data": {
            "text/plain": "Solution: \n```python\ncentered_price = reviews.price - reviews.price.mean()\n```",
            "text/markdown": "<span style=\"color:#33cc99\">Solution:</span> \n```python\ncentered_price = reviews.price - reviews.price.mean()\n```"
          },
          "metadata": {}
        }
      ]
    },
    {
      "metadata": {
        "_uuid": "098eb3704fc8d66b070223d76cdb7ece1458da72"
      },
      "cell_type": "markdown",
      "source": "## 5.\nI'm an economical wine buyer. Which wine is the \"best bargain\"? Create a variable `bargain_wine` with the title of the wine with the highest points-to-price ratio in the dataset."
    },
    {
      "metadata": {
        "trusted": true,
        "_uuid": "5c3ba450ea8a5fe84e1614a3eb372977dd3fa63e"
      },
      "cell_type": "code",
      "source": "best_value = (reviews.points/reviews.price).idxmax()\nprint(best_value)\nbargain_wine =reviews.loc[best_value, 'title'] \nprint(bargain_wine)\nq5.check()",
      "execution_count": 26,
      "outputs": [
        {
          "output_type": "stream",
          "text": "64590\nBandit NV Merlot (California)\n",
          "name": "stdout"
        },
        {
          "output_type": "display_data",
          "data": {
            "text/plain": "<IPython.core.display.Javascript object>",
            "application/javascript": "parent.postMessage({\"jupyterEvent\": \"custom.exercise_interaction\", \"data\": {\"outcomeType\": 1, \"valueTowardsCompletion\": 0.14285714285714285, \"interactionType\": 1, \"learnTutorialId\": 47, \"questionId\": \"5_BargainWine\", \"learnToolsVersion\": \"0.2.12\", \"failureMessage\": \"\", \"exceptionClass\": \"\", \"trace\": \"\"}}, \"*\")"
          },
          "metadata": {}
        },
        {
          "output_type": "display_data",
          "data": {
            "text/plain": "Correct",
            "text/markdown": "<span style=\"color:#33cc33\">Correct</span>"
          },
          "metadata": {}
        }
      ]
    },
    {
      "metadata": {
        "trusted": true,
        "_uuid": "29885cc262c58067d88c6add7d619c66b999b3d6"
      },
      "cell_type": "code",
      "source": "q5.hint()\nq5.solution()",
      "execution_count": 19,
      "outputs": [
        {
          "output_type": "display_data",
          "data": {
            "text/plain": "<IPython.core.display.Javascript object>",
            "application/javascript": "parent.postMessage({\"jupyterEvent\": \"custom.exercise_interaction\", \"data\": {\"interactionType\": 2, \"learnTutorialId\": 47, \"questionId\": \"5_BargainWine\", \"learnToolsVersion\": \"0.2.12\", \"valueTowardsCompletion\": 0.0, \"failureMessage\": \"\", \"exceptionClass\": \"\", \"trace\": \"\", \"outcomeType\": 4}}, \"*\")"
          },
          "metadata": {}
        },
        {
          "output_type": "display_data",
          "data": {
            "text/plain": "Hint: The [`idxmax` method](https://pandas.pydata.org/pandas-docs/stable/generated/pandas.Series.idxmax.html) may be useful here.",
            "text/markdown": "<span style=\"color:#3366cc\">Hint:</span> The [`idxmax` method](https://pandas.pydata.org/pandas-docs/stable/generated/pandas.Series.idxmax.html) may be useful here."
          },
          "metadata": {}
        },
        {
          "output_type": "display_data",
          "data": {
            "text/plain": "<IPython.core.display.Javascript object>",
            "application/javascript": "parent.postMessage({\"jupyterEvent\": \"custom.exercise_interaction\", \"data\": {\"interactionType\": 3, \"learnTutorialId\": 47, \"questionId\": \"5_BargainWine\", \"learnToolsVersion\": \"0.2.12\", \"valueTowardsCompletion\": 0.0, \"failureMessage\": \"\", \"exceptionClass\": \"\", \"trace\": \"\", \"outcomeType\": 4}}, \"*\")"
          },
          "metadata": {}
        },
        {
          "output_type": "display_data",
          "data": {
            "text/plain": "Solution: \n```python\nbargain_idx = (reviews.points / reviews.price).idxmax()\nbargain_wine = reviews.loc[bargain_idx, 'title']\n```",
            "text/markdown": "<span style=\"color:#33cc99\">Solution:</span> \n```python\nbargain_idx = (reviews.points / reviews.price).idxmax()\nbargain_wine = reviews.loc[bargain_idx, 'title']\n```"
          },
          "metadata": {}
        }
      ]
    },
    {
      "metadata": {
        "_uuid": "fac46c4a71d4240cc2ee409fc3afd58c6b1e3d8e"
      },
      "cell_type": "markdown",
      "source": "## 6.\nThere are only so many words you can use when describing a bottle of wine. Is a wine more likely to be \"tropical\" or \"fruity\"? Create a Series `descriptor_counts` counting how many times each of these two words appears in the `description` column in the dataset."
    },
    {
      "metadata": {
        "trusted": true,
        "_uuid": "d8aca77a8e27e66be6d8a1e1417fb6991246e40e"
      },
      "cell_type": "code",
      "source": "num_trop = reviews.description.map(lambda desc: \"tropical\" in desc).sum()\nnum_fruit = reviews.description.map(lambda desc: \"fruity\" in desc).sum()\n\ndescriptor_counts = pd.Series([num_trop,num_fruit], index=['tropical','fruity'])\n\nq6.check()",
      "execution_count": 30,
      "outputs": [
        {
          "output_type": "display_data",
          "data": {
            "text/plain": "<IPython.core.display.Javascript object>",
            "application/javascript": "parent.postMessage({\"jupyterEvent\": \"custom.exercise_interaction\", \"data\": {\"outcomeType\": 1, \"valueTowardsCompletion\": 0.14285714285714285, \"interactionType\": 1, \"learnTutorialId\": 47, \"questionId\": \"6_DescriptorCounts\", \"learnToolsVersion\": \"0.2.12\", \"failureMessage\": \"\", \"exceptionClass\": \"\", \"trace\": \"\"}}, \"*\")"
          },
          "metadata": {}
        },
        {
          "output_type": "display_data",
          "data": {
            "text/plain": "Correct",
            "text/markdown": "<span style=\"color:#33cc33\">Correct</span>"
          },
          "metadata": {}
        }
      ]
    },
    {
      "metadata": {
        "trusted": true,
        "_uuid": "8b96e9b0a36788aa23dfe7620f9d7a32e743c090"
      },
      "cell_type": "code",
      "source": "q6.hint()\nq6.solution()",
      "execution_count": 29,
      "outputs": [
        {
          "output_type": "display_data",
          "data": {
            "text/plain": "<IPython.core.display.Javascript object>",
            "application/javascript": "parent.postMessage({\"jupyterEvent\": \"custom.exercise_interaction\", \"data\": {\"interactionType\": 2, \"learnTutorialId\": 47, \"questionId\": \"6_DescriptorCounts\", \"learnToolsVersion\": \"0.2.12\", \"valueTowardsCompletion\": 0.0, \"failureMessage\": \"\", \"exceptionClass\": \"\", \"trace\": \"\", \"outcomeType\": 4}}, \"*\")"
          },
          "metadata": {}
        },
        {
          "output_type": "display_data",
          "data": {
            "text/plain": "Hint: Use a map to check each description for the string `tropical`, then count up the number of times this is `True`. Repeat this for `fruity`. Finally, create a `Series` combining the two values.",
            "text/markdown": "<span style=\"color:#3366cc\">Hint:</span> Use a map to check each description for the string `tropical`, then count up the number of times this is `True`. Repeat this for `fruity`. Finally, create a `Series` combining the two values."
          },
          "metadata": {}
        },
        {
          "output_type": "display_data",
          "data": {
            "text/plain": "<IPython.core.display.Javascript object>",
            "application/javascript": "parent.postMessage({\"jupyterEvent\": \"custom.exercise_interaction\", \"data\": {\"interactionType\": 3, \"learnTutorialId\": 47, \"questionId\": \"6_DescriptorCounts\", \"learnToolsVersion\": \"0.2.12\", \"valueTowardsCompletion\": 0.0, \"failureMessage\": \"\", \"exceptionClass\": \"\", \"trace\": \"\", \"outcomeType\": 4}}, \"*\")"
          },
          "metadata": {}
        },
        {
          "output_type": "display_data",
          "data": {
            "text/plain": "Solution: \n```python\nn_trop = reviews.description.map(lambda desc: \"tropical\" in desc).sum()\nn_fruity = reviews.description.map(lambda desc: \"fruity\" in desc).sum()\ndescriptor_counts = pd.Series([n_trop, n_fruity], index=['tropical', 'fruity'])\n```",
            "text/markdown": "<span style=\"color:#33cc99\">Solution:</span> \n```python\nn_trop = reviews.description.map(lambda desc: \"tropical\" in desc).sum()\nn_fruity = reviews.description.map(lambda desc: \"fruity\" in desc).sum()\ndescriptor_counts = pd.Series([n_trop, n_fruity], index=['tropical', 'fruity'])\n```"
          },
          "metadata": {}
        }
      ]
    },
    {
      "metadata": {
        "_uuid": "786b6d440e238c39d93f3e1c0b58aed70c35222a"
      },
      "cell_type": "markdown",
      "source": "## 7.\nWe'd like to host these wine reviews on our website, but a rating system ranging from 80 to 100 points is too hard to understand - we'd like to translate them into simple star ratings. A score of 95 or higher counts as 3 stars, a score of at least 85 but less than 95 is 2 stars. Any other score is 1 star.\n\nAlso, the Canadian Vintners Association bought a lot of ads on the site, so any wines from Canada should automatically get 3 stars, regardless of points.\n\nCreate a series `star_ratings` with the number of stars corresponding to each review in the dataset."
    },
    {
      "metadata": {
        "trusted": true,
        "_uuid": "9a63ba988278981d0b0ac077dafa01194e9f7377"
      },
      "cell_type": "code",
      "source": "def convert_star(row):\n    if row.country=='Canada':\n        star=3\n    elif row.points>=95:\n        star=3\n    elif row.points>=85:\n        star=2\n    else:\n        star=1\n    return star\n\nstar_ratings = reviews.apply(convert_star, axis='columns')\nq7.check()",
      "execution_count": null,
      "outputs": []
    },
    {
      "metadata": {
        "trusted": true,
        "_uuid": "cc689910963fa7d79fea0eab35a68364dd39f2e2"
      },
      "cell_type": "code",
      "source": "q7.hint()\nq7.solution()",
      "execution_count": 32,
      "outputs": [
        {
          "output_type": "display_data",
          "data": {
            "text/plain": "<IPython.core.display.Javascript object>",
            "application/javascript": "parent.postMessage({\"jupyterEvent\": \"custom.exercise_interaction\", \"data\": {\"interactionType\": 2, \"learnTutorialId\": 47, \"questionId\": \"7_StarRatings\", \"learnToolsVersion\": \"0.2.12\", \"valueTowardsCompletion\": 0.0, \"failureMessage\": \"\", \"exceptionClass\": \"\", \"trace\": \"\", \"outcomeType\": 4}}, \"*\")"
          },
          "metadata": {}
        },
        {
          "output_type": "display_data",
          "data": {
            "text/plain": "Hint: Begin by writing a custom function that accepts a row from the DataFrame as input and returns the star rating corresponding to the row.  Then, use `DataFrame.apply` to apply the custom function to every row in the dataset.",
            "text/markdown": "<span style=\"color:#3366cc\">Hint:</span> Begin by writing a custom function that accepts a row from the DataFrame as input and returns the star rating corresponding to the row.  Then, use `DataFrame.apply` to apply the custom function to every row in the dataset."
          },
          "metadata": {}
        },
        {
          "output_type": "display_data",
          "data": {
            "text/plain": "<IPython.core.display.Javascript object>",
            "application/javascript": "parent.postMessage({\"jupyterEvent\": \"custom.exercise_interaction\", \"data\": {\"interactionType\": 3, \"learnTutorialId\": 47, \"questionId\": \"7_StarRatings\", \"learnToolsVersion\": \"0.2.12\", \"valueTowardsCompletion\": 0.0, \"failureMessage\": \"\", \"exceptionClass\": \"\", \"trace\": \"\", \"outcomeType\": 4}}, \"*\")"
          },
          "metadata": {}
        },
        {
          "output_type": "display_data",
          "data": {
            "text/plain": "Solution: \n```python\ndef stars(row):\n    if row.country == 'Canada':\n        return 3\n    elif row.points >= 95:\n        return 3\n    elif row.points >= 85:\n        return 2\n    else:\n        return 1\n    \nstar_ratings = reviews.apply(stars, axis='columns')\n```",
            "text/markdown": "<span style=\"color:#33cc99\">Solution:</span> \n```python\ndef stars(row):\n    if row.country == 'Canada':\n        return 3\n    elif row.points >= 95:\n        return 3\n    elif row.points >= 85:\n        return 2\n    else:\n        return 1\n    \nstar_ratings = reviews.apply(stars, axis='columns')\n```"
          },
          "metadata": {}
        }
      ]
    },
    {
      "metadata": {
        "_uuid": "d9e9a0013c53b54f53cb086bb693e3a343fc2437"
      },
      "cell_type": "markdown",
      "source": "# Keep going\nContinue to **[grouping and sorting](https://www.kaggle.com/kernels/fork/598715)**."
    },
    {
      "metadata": {
        "_uuid": "057b8fc48912dd9a7ac977aba78877aa1e17fe12"
      },
      "cell_type": "markdown",
      "source": "---\n**[Pandas Course Home Page](https://www.kaggle.com/learn/pandas)**\n\n"
    }
  ],
  "metadata": {
    "kernelspec": {
      "display_name": "Python 3",
      "language": "python",
      "name": "python3"
    },
    "language_info": {
      "name": "python",
      "version": "3.6.6",
      "mimetype": "text/x-python",
      "codemirror_mode": {
        "name": "ipython",
        "version": 3
      },
      "pygments_lexer": "ipython3",
      "nbconvert_exporter": "python",
      "file_extension": ".py"
    }
  },
  "nbformat": 4,
  "nbformat_minor": 1
}