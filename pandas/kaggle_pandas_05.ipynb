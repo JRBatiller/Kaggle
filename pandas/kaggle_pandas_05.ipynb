{
  "cells": [
    {
      "metadata": {
        "_uuid": "95942c8684e79075751955e2c0ecff11c312ee0a"
      },
      "cell_type": "markdown",
      "source": "**[Pandas Course Home Page](https://www.kaggle.com/learn/pandas)**\n\n---\n"
    },
    {
      "metadata": {
        "collapsed": true,
        "_uuid": "4cb3c7b76cdc6fed01816adc8cf837d77b34c60a"
      },
      "cell_type": "markdown",
      "source": "# Data types and missing data workbook\n\n## Introduction\n\nThis is the workbook component of the \"Data types and missing data\" section of the tutorial.\n\n# Relevant Resources\n- [Data Types and Missing Data Reference](https://www.kaggle.com/residentmario/data-types-and-missing-data-reference)\n\n# Set Up\n\nRun the following cell to load your data and some utility functions."
    },
    {
      "metadata": {
        "trusted": true,
        "_uuid": "89955c0e9fbd2a56da878f0e61bb596bec78f994"
      },
      "cell_type": "code",
      "source": "import pandas as pd\n\nreviews = pd.read_csv(\"../input/wine-reviews/winemag-data-130k-v2.csv\", index_col=0)\n\nfrom learntools.core import binder; binder.bind(globals())\nfrom learntools.pandas.data_types_and_missing_data import *\nprint(\"Setup complete.\")",
      "execution_count": 1,
      "outputs": [
        {
          "output_type": "stream",
          "text": "Setup complete.\n",
          "name": "stdout"
        }
      ]
    },
    {
      "metadata": {
        "_uuid": "edf5460a78a356044552b8e3ca46a6df8d736ab6"
      },
      "cell_type": "markdown",
      "source": "# Exercises"
    },
    {
      "metadata": {
        "_uuid": "02b1b861bc1fabda9c20e93350daaa15bc86433b"
      },
      "cell_type": "markdown",
      "source": "## 1. \nWhat is the data type of the `points` column in the dataset?"
    },
    {
      "metadata": {
        "trusted": true,
        "_uuid": "01361888b7f9f559417605441861ab6a9c8e821a"
      },
      "cell_type": "code",
      "source": "# Your code here\ndtype = reviews.points.dtype\n\nq1.check()",
      "execution_count": 3,
      "outputs": [
        {
          "output_type": "display_data",
          "data": {
            "text/plain": "<IPython.core.display.Javascript object>",
            "application/javascript": "parent.postMessage({\"jupyterEvent\": \"custom.exercise_interaction\", \"data\": {\"outcomeType\": 1, \"valueTowardsCompletion\": 0.25, \"interactionType\": 1, \"learnTutorialId\": 49, \"questionId\": \"1_PointsDtype\", \"learnToolsVersion\": \"0.2.12\", \"failureMessage\": \"\", \"exceptionClass\": \"\", \"trace\": \"\"}}, \"*\")"
          },
          "metadata": {}
        },
        {
          "output_type": "display_data",
          "data": {
            "text/plain": "Correct",
            "text/markdown": "<span style=\"color:#33cc33\">Correct</span>"
          },
          "metadata": {}
        }
      ]
    },
    {
      "metadata": {
        "trusted": false,
        "_uuid": "76027f893722322283f70fba037eda659b2b5404"
      },
      "cell_type": "code",
      "source": "#q1.hint()\n#q1.solution()",
      "execution_count": null,
      "outputs": []
    },
    {
      "metadata": {
        "_uuid": "a6ad13c2f212c6af8f773b7ae27799b8bfa1da9f"
      },
      "cell_type": "markdown",
      "source": "## 2. \nCreate a `Series` from entries in the `points` column, but convert the entries to strings. Hint: strings are `str` in native Python."
    },
    {
      "metadata": {
        "trusted": true,
        "_uuid": "ef05f51319e63318ce4c593772df7c9998e73895"
      },
      "cell_type": "code",
      "source": "point_strings = reviews.points.astype('str')\n\nq2.check()",
      "execution_count": 8,
      "outputs": [
        {
          "output_type": "display_data",
          "data": {
            "text/plain": "<IPython.core.display.Javascript object>",
            "application/javascript": "parent.postMessage({\"jupyterEvent\": \"custom.exercise_interaction\", \"data\": {\"outcomeType\": 1, \"valueTowardsCompletion\": 0.25, \"interactionType\": 1, \"learnTutorialId\": 49, \"questionId\": \"2_StrPoints\", \"learnToolsVersion\": \"0.2.12\", \"failureMessage\": \"\", \"exceptionClass\": \"\", \"trace\": \"\"}}, \"*\")"
          },
          "metadata": {}
        },
        {
          "output_type": "display_data",
          "data": {
            "text/plain": "Correct",
            "text/markdown": "<span style=\"color:#33cc33\">Correct</span>"
          },
          "metadata": {}
        }
      ]
    },
    {
      "metadata": {
        "trusted": true,
        "_uuid": "78d9ad13bda6027266d73c893a186fa4bd0e341f"
      },
      "cell_type": "code",
      "source": "q2.hint()\n#q2.solution()",
      "execution_count": 7,
      "outputs": [
        {
          "output_type": "display_data",
          "data": {
            "text/plain": "<IPython.core.display.Javascript object>",
            "application/javascript": "parent.postMessage({\"jupyterEvent\": \"custom.exercise_interaction\", \"data\": {\"interactionType\": 2, \"learnTutorialId\": 49, \"questionId\": \"2_StrPoints\", \"learnToolsVersion\": \"0.2.12\", \"valueTowardsCompletion\": 0.0, \"failureMessage\": \"\", \"exceptionClass\": \"\", \"trace\": \"\", \"outcomeType\": 4}}, \"*\")"
          },
          "metadata": {}
        },
        {
          "output_type": "display_data",
          "data": {
            "text/plain": "Hint: Convert a column of one type to another by using the `astype` function.",
            "text/markdown": "<span style=\"color:#3366cc\">Hint:</span> Convert a column of one type to another by using the `astype` function."
          },
          "metadata": {}
        }
      ]
    },
    {
      "metadata": {
        "_uuid": "e8f3c67fa67a20af84333de7e3b8e03493b40fd1"
      },
      "cell_type": "markdown",
      "source": "## 3.\nSometimes the price column is null. How many reviews in the dataset are missing a price?"
    },
    {
      "metadata": {
        "trusted": true,
        "_uuid": "8190830499ccf7af83ffadd14982a0bcb32eab3b"
      },
      "cell_type": "code",
      "source": "n_missing_prices = reviews.price.isnull().sum()\n\nq3.check()",
      "execution_count": 15,
      "outputs": [
        {
          "output_type": "display_data",
          "data": {
            "text/plain": "<IPython.core.display.Javascript object>",
            "application/javascript": "parent.postMessage({\"jupyterEvent\": \"custom.exercise_interaction\", \"data\": {\"outcomeType\": 1, \"valueTowardsCompletion\": 0.25, \"interactionType\": 1, \"learnTutorialId\": 49, \"questionId\": \"3_CountMissingPrices\", \"learnToolsVersion\": \"0.2.12\", \"failureMessage\": \"\", \"exceptionClass\": \"\", \"trace\": \"\"}}, \"*\")"
          },
          "metadata": {}
        },
        {
          "output_type": "display_data",
          "data": {
            "text/plain": "Correct",
            "text/markdown": "<span style=\"color:#33cc33\">Correct</span>"
          },
          "metadata": {}
        }
      ]
    },
    {
      "metadata": {
        "trusted": true,
        "_uuid": "66fc4fe8a7c7d2deeb9add93bfba244bb793270f"
      },
      "cell_type": "code",
      "source": "q3.hint()\n#q3.solution()",
      "execution_count": 12,
      "outputs": [
        {
          "output_type": "display_data",
          "data": {
            "text/plain": "<IPython.core.display.Javascript object>",
            "application/javascript": "parent.postMessage({\"jupyterEvent\": \"custom.exercise_interaction\", \"data\": {\"interactionType\": 2, \"learnTutorialId\": 49, \"questionId\": \"3_CountMissingPrices\", \"learnToolsVersion\": \"0.2.12\", \"valueTowardsCompletion\": 0.0, \"failureMessage\": \"\", \"exceptionClass\": \"\", \"trace\": \"\", \"outcomeType\": 4}}, \"*\")"
          },
          "metadata": {}
        },
        {
          "output_type": "display_data",
          "data": {
            "text/plain": "Hint: Use `pd.isnull()`.",
            "text/markdown": "<span style=\"color:#3366cc\">Hint:</span> Use `pd.isnull()`."
          },
          "metadata": {}
        }
      ]
    },
    {
      "metadata": {
        "_uuid": "3b96300f3960b9a5aad3949580e12925565543b8"
      },
      "cell_type": "markdown",
      "source": "## 4.\nWhat are the most common wine-producing regions? Create a `Series` counting the number of times each value occurs in the `region_1` field. This field is often missing data, so replace missing values with `Unknown`. Sort in descending order.  Your output should look something like this:\n\n```\nUnknown                    21247\nNapa Valley                 4480\n                           ...  \nBardolino Superiore            1\nPrimitivo del Tarantino        1\nName: region_1, Length: 1230, dtype: int64\n```"
    },
    {
      "metadata": {
        "trusted": true,
        "_uuid": "da61de064d4aa2495d79947f745a91f1046149c8",
        "scrolled": true
      },
      "cell_type": "code",
      "source": "reviews.region_1=reviews.region_1.fillna('Unknown')\nreviews_per_region = reviews.region_1.value_counts()\nreviews_per_region\n\nq4.check()",
      "execution_count": 21,
      "outputs": [
        {
          "output_type": "display_data",
          "data": {
            "text/plain": "<IPython.core.display.Javascript object>",
            "application/javascript": "parent.postMessage({\"jupyterEvent\": \"custom.exercise_interaction\", \"data\": {\"outcomeType\": 1, \"valueTowardsCompletion\": 0.25, \"interactionType\": 1, \"learnTutorialId\": 49, \"questionId\": \"4_ReviewsPerRegion\", \"learnToolsVersion\": \"0.2.12\", \"failureMessage\": \"\", \"exceptionClass\": \"\", \"trace\": \"\"}}, \"*\")"
          },
          "metadata": {}
        },
        {
          "output_type": "display_data",
          "data": {
            "text/plain": "Correct",
            "text/markdown": "<span style=\"color:#33cc33\">Correct</span>"
          },
          "metadata": {}
        }
      ]
    },
    {
      "metadata": {
        "trusted": true,
        "_uuid": "49574ad70ad198ac497b6320825fbfafcaa78a89"
      },
      "cell_type": "code",
      "source": "q4.hint()\n#q4.solution()",
      "execution_count": 19,
      "outputs": [
        {
          "output_type": "display_data",
          "data": {
            "text/plain": "<IPython.core.display.Javascript object>",
            "application/javascript": "parent.postMessage({\"jupyterEvent\": \"custom.exercise_interaction\", \"data\": {\"interactionType\": 2, \"learnTutorialId\": 49, \"questionId\": \"4_ReviewsPerRegion\", \"learnToolsVersion\": \"0.2.12\", \"valueTowardsCompletion\": 0.0, \"failureMessage\": \"\", \"exceptionClass\": \"\", \"trace\": \"\", \"outcomeType\": 4}}, \"*\")"
          },
          "metadata": {}
        },
        {
          "output_type": "display_data",
          "data": {
            "text/plain": "Hint: Use `fillna()`, `value_counts()`, and `sort_values()`.",
            "text/markdown": "<span style=\"color:#3366cc\">Hint:</span> Use `fillna()`, `value_counts()`, and `sort_values()`."
          },
          "metadata": {}
        }
      ]
    },
    {
      "metadata": {
        "_uuid": "f6ef19100787b7924a34fb7dad26592e7539eb1e"
      },
      "cell_type": "markdown",
      "source": "# Keep going\nMove on to the **[Renaming and combining workbook](https://www.kaggle.com/kernels/fork/638064)**."
    },
    {
      "metadata": {
        "_uuid": "837947f3a8a4915281e3bf86b79cd39e375d7c0e"
      },
      "cell_type": "markdown",
      "source": "---\n**[Pandas Course Home Page](https://www.kaggle.com/learn/pandas)**\n\n"
    }
  ],
  "metadata": {
    "kernelspec": {
      "display_name": "Python 3",
      "language": "python",
      "name": "python3"
    },
    "language_info": {
      "name": "python",
      "version": "3.6.6",
      "mimetype": "text/x-python",
      "codemirror_mode": {
        "name": "ipython",
        "version": 3
      },
      "pygments_lexer": "ipython3",
      "nbconvert_exporter": "python",
      "file_extension": ".py"
    }
  },
  "nbformat": 4,
  "nbformat_minor": 1
}