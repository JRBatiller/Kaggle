{
  "cells": [
    {
      "metadata": {
        "_uuid": "08e668523917ac79c58ab0786ba4c608a14387b3"
      },
      "cell_type": "markdown",
      "source": "## Recap\nSo far, you have loaded your data and reviewed it with the following code. Run this cell to set up your coding environment where the previous step left off."
    },
    {
      "metadata": {
        "_uuid": "ef2d016a6755430f5ef484fd70b8391c4380656b",
        "trusted": true
      },
      "cell_type": "code",
      "source": "# Code you have previously used to load data\nimport pandas as pd\n\n# Path of the file to read\niowa_file_path = '../input/home-data-for-ml-course/train.csv'\n\nhome_data = pd.read_csv(iowa_file_path)\n\n# Set up code checking\nfrom learntools.core import binder\nbinder.bind(globals())\nfrom learntools.machine_learning.ex3 import *\n\nprint(\"Setup Complete\")",
      "execution_count": 1,
      "outputs": [
        {
          "output_type": "stream",
          "text": "Setup Complete\n",
          "name": "stdout"
        }
      ]
    },
    {
      "metadata": {
        "_uuid": "8a0a1675dfc8f51d3950e43079e50114ec5d2b33"
      },
      "cell_type": "markdown",
      "source": "# Exercises\n\n## Step 1: Specify Prediction Target\nSelect the target variable, which corresponds to the sales price. Save this to a new variable called `y`. You'll need to print a list of the columns to find the name of the column you need.\n"
    },
    {
      "metadata": {
        "_uuid": "29e7d7bf7337e531305a7cdac68bd3c3066c920a",
        "trusted": true
      },
      "cell_type": "code",
      "source": "# print the list of columns in the dataset to find the name of the prediction target\nhome_data.columns",
      "execution_count": 2,
      "outputs": [
        {
          "output_type": "execute_result",
          "execution_count": 2,
          "data": {
            "text/plain": "Index(['Id', 'MSSubClass', 'MSZoning', 'LotFrontage', 'LotArea', 'Street',\n       'Alley', 'LotShape', 'LandContour', 'Utilities', 'LotConfig',\n       'LandSlope', 'Neighborhood', 'Condition1', 'Condition2', 'BldgType',\n       'HouseStyle', 'OverallQual', 'OverallCond', 'YearBuilt', 'YearRemodAdd',\n       'RoofStyle', 'RoofMatl', 'Exterior1st', 'Exterior2nd', 'MasVnrType',\n       'MasVnrArea', 'ExterQual', 'ExterCond', 'Foundation', 'BsmtQual',\n       'BsmtCond', 'BsmtExposure', 'BsmtFinType1', 'BsmtFinSF1',\n       'BsmtFinType2', 'BsmtFinSF2', 'BsmtUnfSF', 'TotalBsmtSF', 'Heating',\n       'HeatingQC', 'CentralAir', 'Electrical', '1stFlrSF', '2ndFlrSF',\n       'LowQualFinSF', 'GrLivArea', 'BsmtFullBath', 'BsmtHalfBath', 'FullBath',\n       'HalfBath', 'BedroomAbvGr', 'KitchenAbvGr', 'KitchenQual',\n       'TotRmsAbvGrd', 'Functional', 'Fireplaces', 'FireplaceQu', 'GarageType',\n       'GarageYrBlt', 'GarageFinish', 'GarageCars', 'GarageArea', 'GarageQual',\n       'GarageCond', 'PavedDrive', 'WoodDeckSF', 'OpenPorchSF',\n       'EnclosedPorch', '3SsnPorch', 'ScreenPorch', 'PoolArea', 'PoolQC',\n       'Fence', 'MiscFeature', 'MiscVal', 'MoSold', 'YrSold', 'SaleType',\n       'SaleCondition', 'SalePrice'],\n      dtype='object')"
          },
          "metadata": {}
        }
      ]
    },
    {
      "metadata": {
        "_uuid": "2f728794dec16c977672323eaccf9d78f4ef4364",
        "trusted": true
      },
      "cell_type": "code",
      "source": "y = home_data.SalePrice\n\nstep_1.check()",
      "execution_count": 3,
      "outputs": [
        {
          "output_type": "display_data",
          "data": {
            "text/plain": "<IPython.core.display.Javascript object>",
            "application/javascript": "parent.postMessage({\"jupyterEvent\": \"custom.exercise_interaction\", \"data\": {\"outcomeType\": 1, \"valueTowardsCompletion\": 0.25, \"interactionType\": 1, \"learnTutorialId\": 84, \"questionId\": \"1_SetTarget\", \"learnToolsVersion\": \"0.2.12\", \"failureMessage\": \"\", \"exceptionClass\": \"\", \"trace\": \"\"}}, \"*\")"
          },
          "metadata": {}
        },
        {
          "output_type": "display_data",
          "data": {
            "text/plain": "Correct",
            "text/markdown": "<span style=\"color:#33cc33\">Correct</span>"
          },
          "metadata": {}
        }
      ]
    },
    {
      "metadata": {
        "collapsed": true,
        "_uuid": "cf803b519fad96adc8cbb123b0f52a2d92086645",
        "trusted": false
      },
      "cell_type": "code",
      "source": "# The lines below will show you a hint or the solution.\n# step_1.hint() \n# step_1.solution()\n",
      "execution_count": null,
      "outputs": []
    },
    {
      "metadata": {
        "_uuid": "d9de7bd04857416c5322cc851936ff5596fa9e0c"
      },
      "cell_type": "markdown",
      "source": "## Step 2: Create X\nNow you will create a DataFrame called `X` holding the predictive features.\n\nSince you want only some columns from the original data, you'll first create a list with the names of the columns you want in `X`.\n\nYou'll use just the following columns in the list (you can copy and paste the whole list to save some typing, though you'll still need to add quotes):\n    * LotArea\n    * YearBuilt\n    * 1stFlrSF\n    * 2ndFlrSF\n    * FullBath\n    * BedroomAbvGr\n    * TotRmsAbvGrd\n\nAfter you've created that list of features, use it to create the DataFrame that you'll use to fit the model."
    },
    {
      "metadata": {
        "_uuid": "4c2c2b6d45b45dd34be54bb5b5af327b5f6b01d2",
        "trusted": true
      },
      "cell_type": "code",
      "source": "# Create the list of features below\nfeature_names = ['LotArea','YearBuilt','1stFlrSF','2ndFlrSF','FullBath','BedroomAbvGr','TotRmsAbvGrd']\n\n# select data corresponding to features in feature_names\nX = home_data[feature_names]\n\nstep_2.check()",
      "execution_count": 6,
      "outputs": [
        {
          "output_type": "display_data",
          "data": {
            "text/plain": "<IPython.core.display.Javascript object>",
            "application/javascript": "parent.postMessage({\"jupyterEvent\": \"custom.exercise_interaction\", \"data\": {\"outcomeType\": 1, \"valueTowardsCompletion\": 0.25, \"interactionType\": 1, \"learnTutorialId\": 84, \"questionId\": \"2_SelectPredictionData\", \"learnToolsVersion\": \"0.2.12\", \"failureMessage\": \"\", \"exceptionClass\": \"\", \"trace\": \"\"}}, \"*\")"
          },
          "metadata": {}
        },
        {
          "output_type": "display_data",
          "data": {
            "text/plain": "Correct",
            "text/markdown": "<span style=\"color:#33cc33\">Correct</span>"
          },
          "metadata": {}
        }
      ]
    },
    {
      "metadata": {
        "collapsed": true,
        "_uuid": "56ba4e8b6cc349615e28476ac22b1c855056a44c",
        "trusted": false
      },
      "cell_type": "code",
      "source": "# step_2.hint()\n# step_2.solution()",
      "execution_count": null,
      "outputs": []
    },
    {
      "metadata": {
        "_uuid": "605a0e1dea112137c41eb590d2a8d4b5872add88"
      },
      "cell_type": "markdown",
      "source": "## Review Data\nBefore building a model, take a quick look at **X** to verify it looks sensible"
    },
    {
      "metadata": {
        "_uuid": "7dfce6391f134fcadada7c64d30f4ca56f82d3a3",
        "trusted": true
      },
      "cell_type": "code",
      "source": "# Review data\n# print description or statistics from X\nprint(X.describe())\n\n# print the top few lines\nprint(X.head())\n",
      "execution_count": 7,
      "outputs": [
        {
          "output_type": "stream",
          "text": "             LotArea    YearBuilt      ...       BedroomAbvGr  TotRmsAbvGrd\ncount    1460.000000  1460.000000      ...        1460.000000   1460.000000\nmean    10516.828082  1971.267808      ...           2.866438      6.517808\nstd      9981.264932    30.202904      ...           0.815778      1.625393\nmin      1300.000000  1872.000000      ...           0.000000      2.000000\n25%      7553.500000  1954.000000      ...           2.000000      5.000000\n50%      9478.500000  1973.000000      ...           3.000000      6.000000\n75%     11601.500000  2000.000000      ...           3.000000      7.000000\nmax    215245.000000  2010.000000      ...           8.000000     14.000000\n\n[8 rows x 7 columns]\n   LotArea  YearBuilt      ...       BedroomAbvGr  TotRmsAbvGrd\n0     8450       2003      ...                  3             8\n1     9600       1976      ...                  3             6\n2    11250       2001      ...                  3             6\n3     9550       1915      ...                  3             7\n4    14260       2000      ...                  4             9\n\n[5 rows x 7 columns]\n",
          "name": "stdout"
        }
      ]
    },
    {
      "metadata": {
        "_uuid": "b8b76bab8e9013942f701c1d6ad531d71377e9bb"
      },
      "cell_type": "markdown",
      "source": "## Step 3: Specify and Fit Model\nCreate a `DecisionTreeRegressor` and save it iowa_model. Ensure you've done the relevant import from sklearn to run this command.\n\nThen fit the model you just created using the data in `X` and `y` that you saved above."
    },
    {
      "metadata": {
        "_uuid": "5870719b61916b1e9aa613d083453c3552f246d1",
        "trusted": true
      },
      "cell_type": "code",
      "source": "from sklearn.tree import DecisionTreeRegressor\n#specify the model. \n#For model reproducibility, set a numeric value for random_state when specifying the model\niowa_model = DecisionTreeRegressor(random_state=10)\n\n# Fit the model\niowa_model.fit(X,y)\n\nstep_3.check()",
      "execution_count": 9,
      "outputs": [
        {
          "output_type": "display_data",
          "data": {
            "text/plain": "<IPython.core.display.Javascript object>",
            "application/javascript": "parent.postMessage({\"jupyterEvent\": \"custom.exercise_interaction\", \"data\": {\"outcomeType\": 1, \"valueTowardsCompletion\": 0.25, \"interactionType\": 1, \"learnTutorialId\": 84, \"questionId\": \"3_CreateModel\", \"learnToolsVersion\": \"0.2.12\", \"failureMessage\": \"\", \"exceptionClass\": \"\", \"trace\": \"\"}}, \"*\")"
          },
          "metadata": {}
        },
        {
          "output_type": "display_data",
          "data": {
            "text/plain": "Correct",
            "text/markdown": "<span style=\"color:#33cc33\">Correct</span>"
          },
          "metadata": {}
        }
      ]
    },
    {
      "metadata": {
        "collapsed": true,
        "_uuid": "4fb5270ffbee8debf1aa8c0a57d5195088e1b4c3",
        "trusted": false
      },
      "cell_type": "code",
      "source": "# step_3.hint()\n# step_3.solution()",
      "execution_count": null,
      "outputs": []
    },
    {
      "metadata": {
        "_uuid": "1e038a5690080b6beda36fa131a6955fe12362f6"
      },
      "cell_type": "markdown",
      "source": "## Step 4: Make Predictions\nMake predictions with the model's `predict` command using `X` as the data. Save the results to a variable called `predictions`."
    },
    {
      "metadata": {
        "_uuid": "7a0b9d63737b898d237340e68c1262979d8ece3a",
        "trusted": true
      },
      "cell_type": "code",
      "source": "predictions = iowa_model.predict(X)\nprint(predictions)\nstep_4.check()",
      "execution_count": 11,
      "outputs": [
        {
          "output_type": "stream",
          "text": "[208500. 181500. 223500. ... 266500. 142125. 147500.]\n",
          "name": "stdout"
        },
        {
          "output_type": "display_data",
          "data": {
            "text/plain": "<IPython.core.display.Javascript object>",
            "application/javascript": "parent.postMessage({\"jupyterEvent\": \"custom.exercise_interaction\", \"data\": {\"outcomeType\": 1, \"valueTowardsCompletion\": 0.25, \"interactionType\": 1, \"learnTutorialId\": 84, \"questionId\": \"4_MakePredictions\", \"learnToolsVersion\": \"0.2.12\", \"failureMessage\": \"\", \"exceptionClass\": \"\", \"trace\": \"\"}}, \"*\")"
          },
          "metadata": {}
        },
        {
          "output_type": "display_data",
          "data": {
            "text/plain": "Correct",
            "text/markdown": "<span style=\"color:#33cc33\">Correct</span>"
          },
          "metadata": {}
        }
      ]
    },
    {
      "metadata": {
        "collapsed": true,
        "_uuid": "d31472115290d7bd900d1989cd1e462120a21909",
        "trusted": false
      },
      "cell_type": "code",
      "source": "# step_4.hint()\n# step_4.solution()",
      "execution_count": null,
      "outputs": []
    },
    {
      "metadata": {
        "_uuid": "c9f260ea84a5d5511a5ce96987b852deac2cc616"
      },
      "cell_type": "markdown",
      "source": "## Think About Your Results\n\nUse the `head` method to compare the top few predictions to the actual home values (in `y`) for those same homes. Anything surprising?\n\nYou'll understand why this happened if you keep going."
    },
    {
      "metadata": {
        "trusted": true,
        "_uuid": "32aff39617bdd187dcf969068bb3a18256119d52"
      },
      "cell_type": "code",
      "source": "#examining results\n\nprint(home_data.SalePrice.head())\nprint(predictions[:5])\n\nimport numpy as np\nnp.array(home_data.SalePrice.head())-predictions[:5]",
      "execution_count": 24,
      "outputs": [
        {
          "output_type": "stream",
          "text": "0    208500\n1    181500\n2    223500\n3    140000\n4    250000\nName: SalePrice, dtype: int64\n[208500. 181500. 223500. 140000. 250000.]\n",
          "name": "stdout"
        },
        {
          "output_type": "execute_result",
          "execution_count": 24,
          "data": {
            "text/plain": "array([0., 0., 0., 0., 0.])"
          },
          "metadata": {}
        }
      ]
    },
    {
      "metadata": {
        "_uuid": "612c5f2ae9a087625399ff69e3df185408e56d66"
      },
      "cell_type": "markdown",
      "source": "\n## Keep Going\nYou've built a decision tree model.  It's natural to ask how accurate the model's predictions will be and how you can improve that. Learn how to do that with **[Model Validation](https://www.kaggle.com/dansbecker/model-validation)**.\n\n---\n**[Course Home Page](https://www.kaggle.com/learn/machine-learning)**\n\n\n"
    }
  ],
  "metadata": {
    "kernelspec": {
      "display_name": "Python 3",
      "language": "python",
      "name": "python3"
    },
    "language_info": {
      "name": "python",
      "version": "3.6.6",
      "mimetype": "text/x-python",
      "codemirror_mode": {
        "name": "ipython",
        "version": 3
      },
      "pygments_lexer": "ipython3",
      "nbconvert_exporter": "python",
      "file_extension": ".py"
    }
  },
  "nbformat": 4,
  "nbformat_minor": 1
}