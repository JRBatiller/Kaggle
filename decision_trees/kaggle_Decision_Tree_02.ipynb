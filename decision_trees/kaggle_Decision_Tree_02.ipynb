{
  "cells": [
    {
      "metadata": {
        "_uuid": "053c84f52d224ec587f7e9568bbc6ed85353f2c7"
      },
      "cell_type": "markdown",
      "source": "**[Machine Learning Micro-Course Home Page](https://www.kaggle.com/learn/machine-learning)**\n\n---\n"
    },
    {
      "metadata": {
        "_uuid": "47dcc850e01e7a0f7dde2c8e416c3081aa23d6b0"
      },
      "cell_type": "markdown",
      "source": "## Recap\nYou've built a model. In this exercise you will test how good your model is.\n\nRun the cell below to set up your coding environment where the previous exercise left off."
    },
    {
      "metadata": {
        "_uuid": "b0f3f2941a67009e694eaadfb7d2c4be7a2488c5",
        "trusted": true
      },
      "cell_type": "code",
      "source": "# Code you have previously used to load data\nimport pandas as pd\nfrom sklearn.tree import DecisionTreeRegressor\n\n# Path of the file to read\niowa_file_path = '../input/home-data-for-ml-course/train.csv'\n\nhome_data = pd.read_csv(iowa_file_path)\ny = home_data.SalePrice\nfeature_columns = ['LotArea', 'YearBuilt', '1stFlrSF', '2ndFlrSF', 'FullBath', 'BedroomAbvGr', 'TotRmsAbvGrd']\nX = home_data[feature_columns]\n\n# Specify Model\niowa_model = DecisionTreeRegressor()\n# Fit Model\niowa_model.fit(X, y)\n\n\nprint(\"First in-sample predictions:\", iowa_model.predict(X.head()))\nprint(\"Actual target values for those homes:\", y.head().tolist())\n\n# Set up code checking\nfrom learntools.core import binder\nbinder.bind(globals())\nfrom learntools.machine_learning.ex4 import *\nprint(\"Setup Complete\")",
      "execution_count": 14,
      "outputs": [
        {
          "output_type": "stream",
          "text": "WARNING:root:Ignoring repeated attempt to bind to globals\n",
          "name": "stderr"
        },
        {
          "output_type": "stream",
          "text": "<class 'pandas.core.series.Series'>\nFirst in-sample predictions: [208500. 181500. 223500. 140000. 250000.]\nActual target values for those homes: [208500, 181500, 223500, 140000, 250000]\nSetup Complete\n",
          "name": "stdout"
        }
      ]
    },
    {
      "metadata": {
        "_uuid": "26068daceca34c776e2492c6a91335b8d7599daf"
      },
      "cell_type": "markdown",
      "source": "# Exercises\n\n## Step 1: Split Your Data\nUse the `train_test_split` function to split up your data.\n\nGive it the argument `random_state=1` so the `check` functions know what to expect when verifying your code.\n\nRecall, your features are loaded in the DataFrame **X** and your target is loaded in **y**.\n"
    },
    {
      "metadata": {
        "_uuid": "baf5c6c2fd479a2fd3b1891559dd89cc7fee7275",
        "trusted": true
      },
      "cell_type": "code",
      "source": "# Import the train_test_split function and uncomment\nfrom sklearn.model_selection import train_test_split\n\n# fill in and uncomment\ntrain_X, val_X, train_y, val_y = train_test_split(X,y,random_state = 1)\n\nstep_1.check()",
      "execution_count": 5,
      "outputs": [
        {
          "output_type": "display_data",
          "data": {
            "text/plain": "<IPython.core.display.Javascript object>",
            "application/javascript": "parent.postMessage({\"jupyterEvent\": \"custom.exercise_interaction\", \"data\": {\"outcomeType\": 1, \"valueTowardsCompletion\": 0.25, \"interactionType\": 1, \"learnTutorialId\": 119, \"questionId\": \"1_SplitData\", \"learnToolsVersion\": \"0.2.12\", \"failureMessage\": \"\", \"exceptionClass\": \"\", \"trace\": \"\"}}, \"*\")"
          },
          "metadata": {}
        },
        {
          "output_type": "display_data",
          "data": {
            "text/plain": "Correct",
            "text/markdown": "<span style=\"color:#33cc33\">Correct</span>"
          },
          "metadata": {}
        }
      ]
    },
    {
      "metadata": {
        "_uuid": "446af9cd0e77b7e284447189c776b34e3ca4c3ce",
        "trusted": false
      },
      "cell_type": "code",
      "source": "# The lines below will show you a hint or the solution.\n# step_1.hint() \n# step_1.solution()\n",
      "execution_count": null,
      "outputs": []
    },
    {
      "metadata": {
        "_uuid": "f7889ee30404498117e48a336658580961d309d4"
      },
      "cell_type": "markdown",
      "source": "## Step 2: Specify and Fit the Model\n\nCreate a `DecisionTreeRegressor` model and fit it to the relevant data.\nSet `random_state` to 1 again when creating the model."
    },
    {
      "metadata": {
        "_uuid": "b09a9370f74a7c96d688883751404eae393e82f4",
        "trusted": true
      },
      "cell_type": "code",
      "source": "# You imported DecisionTreeRegressor in your last exercise\n# and that code has been copied to the setup code above. So, no need to\n# import it again\n\n# Specify the model\niowa_model = DecisionTreeRegressor(random_state=1)\n\n# Fit iowa_model with the training data.\niowa_model.fit(train_X,train_y)\nstep_2.check()",
      "execution_count": 7,
      "outputs": [
        {
          "output_type": "stream",
          "text": "[186500. 184000. 130000.  92000. 164500. 220000. 335000. 144152. 215000.\n 262000.]\n[186500. 184000. 130000.  92000. 164500. 220000. 335000. 144152. 215000.\n 262000.]\n",
          "name": "stdout"
        },
        {
          "output_type": "display_data",
          "data": {
            "text/plain": "<IPython.core.display.Javascript object>",
            "application/javascript": "parent.postMessage({\"jupyterEvent\": \"custom.exercise_interaction\", \"data\": {\"outcomeType\": 1, \"valueTowardsCompletion\": 0.25, \"interactionType\": 1, \"learnTutorialId\": 119, \"questionId\": \"2_FitModelWithTrain\", \"learnToolsVersion\": \"0.2.12\", \"failureMessage\": \"\", \"exceptionClass\": \"\", \"trace\": \"\"}}, \"*\")"
          },
          "metadata": {}
        },
        {
          "output_type": "display_data",
          "data": {
            "text/plain": "Correct",
            "text/markdown": "<span style=\"color:#33cc33\">Correct</span>"
          },
          "metadata": {}
        }
      ]
    },
    {
      "metadata": {
        "_uuid": "7d82ece2f04ed0a67d0c3665b5e51553f3d11808",
        "trusted": false
      },
      "cell_type": "code",
      "source": "# step_2.hint()\n# step_2.solution()",
      "execution_count": null,
      "outputs": []
    },
    {
      "metadata": {
        "_uuid": "99d6892e6ca8e8f5b43dfbbfee902b58f0a63fc5"
      },
      "cell_type": "markdown",
      "source": "## Step 3: Make Predictions with Validation data\n"
    },
    {
      "metadata": {
        "_uuid": "dbff9a36990a4eccedc3a79a86553cf643eff223",
        "trusted": true
      },
      "cell_type": "code",
      "source": "# Predict with all validation observations\nval_predictions = iowa_model.predict(val_X)\n\nstep_3.check()",
      "execution_count": 9,
      "outputs": [
        {
          "output_type": "display_data",
          "data": {
            "text/plain": "<IPython.core.display.Javascript object>",
            "application/javascript": "parent.postMessage({\"jupyterEvent\": \"custom.exercise_interaction\", \"data\": {\"outcomeType\": 1, \"valueTowardsCompletion\": 0.25, \"interactionType\": 1, \"learnTutorialId\": 119, \"questionId\": \"3_ValPreds\", \"learnToolsVersion\": \"0.2.12\", \"failureMessage\": \"\", \"exceptionClass\": \"\", \"trace\": \"\"}}, \"*\")"
          },
          "metadata": {}
        },
        {
          "output_type": "display_data",
          "data": {
            "text/plain": "Correct",
            "text/markdown": "<span style=\"color:#33cc33\">Correct</span>"
          },
          "metadata": {}
        }
      ]
    },
    {
      "metadata": {
        "_uuid": "24c95082097268a67c50be563eb34a893f879ab4",
        "trusted": false
      },
      "cell_type": "code",
      "source": "# step_3.hint()\n# step_3.solution()",
      "execution_count": null,
      "outputs": []
    },
    {
      "metadata": {
        "_uuid": "832061c4f035bb3d2eb9312d908d8762c3feaac9"
      },
      "cell_type": "markdown",
      "source": "Inspect your predictions and actual values from validation data."
    },
    {
      "metadata": {
        "_uuid": "c821179bcda49d6952d1ae1e2d6187332540c07f",
        "trusted": true
      },
      "cell_type": "code",
      "source": "# print the top few validation predictions\nprint(val_predictions[:5])\n# print the top few actual prices from validation data\nprint(val_y[:5])",
      "execution_count": 23,
      "outputs": [
        {
          "output_type": "stream",
          "text": "[186500. 184000. 130000.  92000. 164500.]\n258     231500\n267     179500\n288     122000\n649      84500\n1233    142000\nName: SalePrice, dtype: int64\n",
          "name": "stdout"
        }
      ]
    },
    {
      "metadata": {
        "_uuid": "ff8ca97f9eeb923d734d5279dd7a4f129668395b"
      },
      "cell_type": "markdown",
      "source": "What do you notice that is different from what you saw with in-sample predictions (which are printed after the top code cell in this page).\n\nDo you remember why validation predictions differ from in-sample (or training) predictions? This is an important idea from the last lesson.\n\n## Step 4: Calculate the Mean Absolute Error in Validation Data\n"
    },
    {
      "metadata": {
        "_uuid": "57be3ad6adb71eb2e37dd90818881e9566824c74",
        "trusted": true
      },
      "cell_type": "code",
      "source": "from sklearn.metrics import mean_absolute_error\nval_mae = mean_absolute_error(val_y, val_predictions)\n\n# uncomment following line to see the validation_mae\nprint(val_mae)\nstep_4.check()",
      "execution_count": 24,
      "outputs": [
        {
          "output_type": "stream",
          "text": "29652.931506849316\n",
          "name": "stdout"
        },
        {
          "output_type": "display_data",
          "data": {
            "text/plain": "<IPython.core.display.Javascript object>",
            "application/javascript": "parent.postMessage({\"jupyterEvent\": \"custom.exercise_interaction\", \"data\": {\"outcomeType\": 1, \"valueTowardsCompletion\": 0.25, \"interactionType\": 1, \"learnTutorialId\": 119, \"questionId\": \"4_MAE\", \"learnToolsVersion\": \"0.2.12\", \"failureMessage\": \"\", \"exceptionClass\": \"\", \"trace\": \"\"}}, \"*\")"
          },
          "metadata": {}
        },
        {
          "output_type": "display_data",
          "data": {
            "text/plain": "Correct",
            "text/markdown": "<span style=\"color:#33cc33\">Correct</span>"
          },
          "metadata": {}
        }
      ]
    },
    {
      "metadata": {
        "_uuid": "7e44bc9e1c516e85f6f72e9e6095fa61ad92a71b",
        "trusted": false
      },
      "cell_type": "code",
      "source": "# step_4.hint()\n# step_4.solution()",
      "execution_count": null,
      "outputs": []
    },
    {
      "metadata": {
        "_uuid": "e2bac514eda98df7daf48d62f6361430ac425fb5"
      },
      "cell_type": "markdown",
      "source": "Is that MAE good?  There isn't a general rule for what values are good that applies across applications. But you'll see how to use (and improve) this number in the next step.\n\n# Keep Going\n\nYou are ready for **[Underfitting and Overfitting](https://www.kaggle.com/dansbecker/underfitting-and-overfitting).**\n"
    },
    {
      "metadata": {
        "_uuid": "12e10695830cb13efdeadd0498d43849120a573c"
      },
      "cell_type": "markdown",
      "source": "---\n**[Machine Learning Micro-Course Home Page](https://www.kaggle.com/learn/machine-learning)**\n\n"
    }
  ],
  "metadata": {
    "kernelspec": {
      "display_name": "Python 3",
      "language": "python",
      "name": "python3"
    },
    "language_info": {
      "name": "python",
      "version": "3.6.6",
      "mimetype": "text/x-python",
      "codemirror_mode": {
        "name": "ipython",
        "version": 3
      },
      "pygments_lexer": "ipython3",
      "nbconvert_exporter": "python",
      "file_extension": ".py"
    }
  },
  "nbformat": 4,
  "nbformat_minor": 1
}